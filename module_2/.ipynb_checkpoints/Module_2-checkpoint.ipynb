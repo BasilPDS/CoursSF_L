{
 "cells": [
  {
   "cell_type": "code",
   "execution_count": 1,
   "metadata": {},
   "outputs": [],
   "source": [
    "import pandas as pd\n",
    "import numpy as np\n",
    "import matplotlib.pyplot as plt\n",
    "import seaborn as sns\n",
    "from itertools import combinations\n",
    "from scipy.stats import ttest_ind, mode\n",
    "from sklearn import preprocessing\n",
    "import math"
   ]
  },
  {
   "cell_type": "code",
   "execution_count": 2,
   "metadata": {},
   "outputs": [],
   "source": [
    "# Так графики выглядят более приятно \n",
    "import warnings; warnings.simplefilter('ignore')\n",
    "sns.set()"
   ]
  },
  {
   "cell_type": "code",
   "execution_count": 3,
   "metadata": {},
   "outputs": [],
   "source": [
    "pd.set_option('display.max_rows', None) # Показывать больше строк\n",
    "pd.set_option('display.max_columns', None) # Показывать больше колонок"
   ]
  },
  {
   "cell_type": "code",
   "execution_count": 4,
   "metadata": {},
   "outputs": [],
   "source": [
    "sm = pd.read_csv('stud_math.csv')"
   ]
  },
  {
   "cell_type": "code",
   "execution_count": 5,
   "metadata": {},
   "outputs": [
    {
     "name": "stdout",
     "output_type": "stream",
     "text": [
      "<class 'pandas.core.frame.DataFrame'>\n",
      "RangeIndex: 395 entries, 0 to 394\n",
      "Data columns (total 30 columns):\n",
      " #   Column               Non-Null Count  Dtype  \n",
      "---  ------               --------------  -----  \n",
      " 0   school               395 non-null    object \n",
      " 1   sex                  395 non-null    object \n",
      " 2   age                  395 non-null    int64  \n",
      " 3   address              378 non-null    object \n",
      " 4   famsize              368 non-null    object \n",
      " 5   Pstatus              350 non-null    object \n",
      " 6   Medu                 392 non-null    float64\n",
      " 7   Fedu                 371 non-null    float64\n",
      " 8   Mjob                 376 non-null    object \n",
      " 9   Fjob                 359 non-null    object \n",
      " 10  reason               378 non-null    object \n",
      " 11  guardian             364 non-null    object \n",
      " 12  traveltime           367 non-null    float64\n",
      " 13  studytime            388 non-null    float64\n",
      " 14  failures             373 non-null    float64\n",
      " 15  schoolsup            386 non-null    object \n",
      " 16  famsup               356 non-null    object \n",
      " 17  paid                 355 non-null    object \n",
      " 18  activities           381 non-null    object \n",
      " 19  nursery              379 non-null    object \n",
      " 20  studytime, granular  388 non-null    float64\n",
      " 21  higher               375 non-null    object \n",
      " 22  internet             361 non-null    object \n",
      " 23  romantic             364 non-null    object \n",
      " 24  famrel               368 non-null    float64\n",
      " 25  freetime             384 non-null    float64\n",
      " 26  goout                387 non-null    float64\n",
      " 27  health               380 non-null    float64\n",
      " 28  absences             383 non-null    float64\n",
      " 29  score                389 non-null    float64\n",
      "dtypes: float64(12), int64(1), object(17)\n",
      "memory usage: 92.7+ KB\n"
     ]
    }
   ],
   "source": [
    "sm.info()"
   ]
  },
  {
   "cell_type": "markdown",
   "metadata": {},
   "source": [
    "Согласно .info() у нас 13 числовых параметров и 17 категориальных. Также согласно описанию, видно, что некоторые категориальные даннеы имеют только 2 варината результатов это \"да\" или \"нет\", вполне возможно их надо будет выделить в 3 группу параметров."
   ]
  },
  {
   "cell_type": "markdown",
   "metadata": {},
   "source": [
    "__________________________________________________"
   ]
  },
  {
   "cell_type": "code",
   "execution_count": 6,
   "metadata": {},
   "outputs": [
    {
     "data": {
      "text/html": [
       "<div>\n",
       "<style scoped>\n",
       "    .dataframe tbody tr th:only-of-type {\n",
       "        vertical-align: middle;\n",
       "    }\n",
       "\n",
       "    .dataframe tbody tr th {\n",
       "        vertical-align: top;\n",
       "    }\n",
       "\n",
       "    .dataframe thead th {\n",
       "        text-align: right;\n",
       "    }\n",
       "</style>\n",
       "<table border=\"1\" class=\"dataframe\">\n",
       "  <thead>\n",
       "    <tr style=\"text-align: right;\">\n",
       "      <th></th>\n",
       "      <th>school</th>\n",
       "      <th>sex</th>\n",
       "      <th>age</th>\n",
       "      <th>address</th>\n",
       "      <th>famsize</th>\n",
       "      <th>Pstatus</th>\n",
       "      <th>Medu</th>\n",
       "      <th>Fedu</th>\n",
       "      <th>Mjob</th>\n",
       "      <th>Fjob</th>\n",
       "      <th>reason</th>\n",
       "      <th>guardian</th>\n",
       "      <th>traveltime</th>\n",
       "      <th>studytime</th>\n",
       "      <th>failures</th>\n",
       "      <th>schoolsup</th>\n",
       "      <th>famsup</th>\n",
       "      <th>paid</th>\n",
       "      <th>activities</th>\n",
       "      <th>nursery</th>\n",
       "      <th>studytime, granular</th>\n",
       "      <th>higher</th>\n",
       "      <th>internet</th>\n",
       "      <th>romantic</th>\n",
       "      <th>famrel</th>\n",
       "      <th>freetime</th>\n",
       "      <th>goout</th>\n",
       "      <th>health</th>\n",
       "      <th>absences</th>\n",
       "      <th>score</th>\n",
       "    </tr>\n",
       "  </thead>\n",
       "  <tbody>\n",
       "    <tr>\n",
       "      <th>0</th>\n",
       "      <td>GP</td>\n",
       "      <td>F</td>\n",
       "      <td>18</td>\n",
       "      <td>U</td>\n",
       "      <td>NaN</td>\n",
       "      <td>A</td>\n",
       "      <td>4.0</td>\n",
       "      <td>4.0</td>\n",
       "      <td>at_home</td>\n",
       "      <td>teacher</td>\n",
       "      <td>course</td>\n",
       "      <td>mother</td>\n",
       "      <td>2.0</td>\n",
       "      <td>2.0</td>\n",
       "      <td>0.0</td>\n",
       "      <td>yes</td>\n",
       "      <td>no</td>\n",
       "      <td>no</td>\n",
       "      <td>no</td>\n",
       "      <td>yes</td>\n",
       "      <td>-6.0</td>\n",
       "      <td>yes</td>\n",
       "      <td>NaN</td>\n",
       "      <td>no</td>\n",
       "      <td>4.0</td>\n",
       "      <td>3.0</td>\n",
       "      <td>4.0</td>\n",
       "      <td>3.0</td>\n",
       "      <td>6.0</td>\n",
       "      <td>30.0</td>\n",
       "    </tr>\n",
       "    <tr>\n",
       "      <th>1</th>\n",
       "      <td>GP</td>\n",
       "      <td>F</td>\n",
       "      <td>17</td>\n",
       "      <td>U</td>\n",
       "      <td>GT3</td>\n",
       "      <td>NaN</td>\n",
       "      <td>1.0</td>\n",
       "      <td>1.0</td>\n",
       "      <td>at_home</td>\n",
       "      <td>other</td>\n",
       "      <td>course</td>\n",
       "      <td>father</td>\n",
       "      <td>1.0</td>\n",
       "      <td>2.0</td>\n",
       "      <td>0.0</td>\n",
       "      <td>no</td>\n",
       "      <td>yes</td>\n",
       "      <td>no</td>\n",
       "      <td>no</td>\n",
       "      <td>no</td>\n",
       "      <td>-6.0</td>\n",
       "      <td>yes</td>\n",
       "      <td>yes</td>\n",
       "      <td>no</td>\n",
       "      <td>5.0</td>\n",
       "      <td>3.0</td>\n",
       "      <td>3.0</td>\n",
       "      <td>3.0</td>\n",
       "      <td>4.0</td>\n",
       "      <td>30.0</td>\n",
       "    </tr>\n",
       "    <tr>\n",
       "      <th>2</th>\n",
       "      <td>GP</td>\n",
       "      <td>F</td>\n",
       "      <td>15</td>\n",
       "      <td>U</td>\n",
       "      <td>LE3</td>\n",
       "      <td>T</td>\n",
       "      <td>1.0</td>\n",
       "      <td>1.0</td>\n",
       "      <td>at_home</td>\n",
       "      <td>other</td>\n",
       "      <td>other</td>\n",
       "      <td>mother</td>\n",
       "      <td>1.0</td>\n",
       "      <td>2.0</td>\n",
       "      <td>3.0</td>\n",
       "      <td>yes</td>\n",
       "      <td>no</td>\n",
       "      <td>NaN</td>\n",
       "      <td>no</td>\n",
       "      <td>yes</td>\n",
       "      <td>-6.0</td>\n",
       "      <td>yes</td>\n",
       "      <td>yes</td>\n",
       "      <td>NaN</td>\n",
       "      <td>4.0</td>\n",
       "      <td>3.0</td>\n",
       "      <td>2.0</td>\n",
       "      <td>3.0</td>\n",
       "      <td>10.0</td>\n",
       "      <td>50.0</td>\n",
       "    </tr>\n",
       "    <tr>\n",
       "      <th>3</th>\n",
       "      <td>GP</td>\n",
       "      <td>F</td>\n",
       "      <td>15</td>\n",
       "      <td>U</td>\n",
       "      <td>GT3</td>\n",
       "      <td>T</td>\n",
       "      <td>4.0</td>\n",
       "      <td>2.0</td>\n",
       "      <td>health</td>\n",
       "      <td>NaN</td>\n",
       "      <td>home</td>\n",
       "      <td>mother</td>\n",
       "      <td>1.0</td>\n",
       "      <td>3.0</td>\n",
       "      <td>0.0</td>\n",
       "      <td>no</td>\n",
       "      <td>yes</td>\n",
       "      <td>yes</td>\n",
       "      <td>yes</td>\n",
       "      <td>yes</td>\n",
       "      <td>-9.0</td>\n",
       "      <td>yes</td>\n",
       "      <td>yes</td>\n",
       "      <td>yes</td>\n",
       "      <td>3.0</td>\n",
       "      <td>2.0</td>\n",
       "      <td>2.0</td>\n",
       "      <td>5.0</td>\n",
       "      <td>2.0</td>\n",
       "      <td>75.0</td>\n",
       "    </tr>\n",
       "    <tr>\n",
       "      <th>4</th>\n",
       "      <td>GP</td>\n",
       "      <td>F</td>\n",
       "      <td>16</td>\n",
       "      <td>U</td>\n",
       "      <td>GT3</td>\n",
       "      <td>T</td>\n",
       "      <td>3.0</td>\n",
       "      <td>3.0</td>\n",
       "      <td>other</td>\n",
       "      <td>other</td>\n",
       "      <td>home</td>\n",
       "      <td>father</td>\n",
       "      <td>1.0</td>\n",
       "      <td>2.0</td>\n",
       "      <td>0.0</td>\n",
       "      <td>no</td>\n",
       "      <td>yes</td>\n",
       "      <td>yes</td>\n",
       "      <td>no</td>\n",
       "      <td>yes</td>\n",
       "      <td>-6.0</td>\n",
       "      <td>yes</td>\n",
       "      <td>no</td>\n",
       "      <td>no</td>\n",
       "      <td>4.0</td>\n",
       "      <td>3.0</td>\n",
       "      <td>2.0</td>\n",
       "      <td>5.0</td>\n",
       "      <td>4.0</td>\n",
       "      <td>50.0</td>\n",
       "    </tr>\n",
       "  </tbody>\n",
       "</table>\n",
       "</div>"
      ],
      "text/plain": [
       "  school sex  age address famsize Pstatus  Medu  Fedu     Mjob     Fjob  \\\n",
       "0     GP   F   18       U     NaN       A   4.0   4.0  at_home  teacher   \n",
       "1     GP   F   17       U     GT3     NaN   1.0   1.0  at_home    other   \n",
       "2     GP   F   15       U     LE3       T   1.0   1.0  at_home    other   \n",
       "3     GP   F   15       U     GT3       T   4.0   2.0   health      NaN   \n",
       "4     GP   F   16       U     GT3       T   3.0   3.0    other    other   \n",
       "\n",
       "   reason guardian  traveltime  studytime  failures schoolsup famsup paid  \\\n",
       "0  course   mother         2.0        2.0       0.0       yes     no   no   \n",
       "1  course   father         1.0        2.0       0.0        no    yes   no   \n",
       "2   other   mother         1.0        2.0       3.0       yes     no  NaN   \n",
       "3    home   mother         1.0        3.0       0.0        no    yes  yes   \n",
       "4    home   father         1.0        2.0       0.0        no    yes  yes   \n",
       "\n",
       "  activities nursery  studytime, granular higher internet romantic  famrel  \\\n",
       "0         no     yes                 -6.0    yes      NaN       no     4.0   \n",
       "1         no      no                 -6.0    yes      yes       no     5.0   \n",
       "2         no     yes                 -6.0    yes      yes      NaN     4.0   \n",
       "3        yes     yes                 -9.0    yes      yes      yes     3.0   \n",
       "4         no     yes                 -6.0    yes       no       no     4.0   \n",
       "\n",
       "   freetime  goout  health  absences  score  \n",
       "0       3.0    4.0     3.0       6.0   30.0  \n",
       "1       3.0    3.0     3.0       4.0   30.0  \n",
       "2       3.0    2.0     3.0      10.0   50.0  \n",
       "3       2.0    2.0     5.0       2.0   75.0  \n",
       "4       3.0    2.0     5.0       4.0   50.0  "
      ]
     },
     "execution_count": 6,
     "metadata": {},
     "output_type": "execute_result"
    }
   ],
   "source": [
    "sm.head()"
   ]
  },
  {
   "cell_type": "markdown",
   "metadata": {},
   "source": [
    "# Предобработка датасета"
   ]
  },
  {
   "cell_type": "markdown",
   "metadata": {},
   "source": [
    "### Пользовательские функции"
   ]
  },
  {
   "cell_type": "code",
   "execution_count": 117,
   "metadata": {},
   "outputs": [],
   "source": [
    "def empty_count(df_name, col):\n",
    "    \n",
    "    ''' \n",
    "    Функция принимает на вход датасет (df_name), колонку (col)\n",
    "    \n",
    "    и расчитывает количество значений Nan и их процент в Серии\n",
    "    \n",
    "    '''\n",
    "    name = col # Имя колонки для принта\n",
    "    \n",
    "    data_mis_mean = df_name[col].isna().mean()\n",
    "    data_mis_sum = df_name[col].isna().sum()\n",
    "    \n",
    "    print('В колонке {} - {} % пропусков, это {} значений Nan'.format(name,\n",
    "                                                                      round((data_mis_mean*100), 1),\n",
    "                                                                      data_mis_sum))\n",
    "    \n",
    "    \n",
    "    \n",
    "    \n",
    "def boxan(df, met, main_met, descr):\n",
    "    \n",
    "    ''' \n",
    "    Функция для построения боксплота.\n",
    "    \n",
    "    Принимает на вход датасет (df), колонку (met),\n",
    "    \n",
    "    ключевую метрику (main_met), описание графика (descr),\n",
    "    \n",
    "    и строит боксплот\n",
    "    \n",
    "    '''\n",
    "    fig = plt.figure()\n",
    "    axes = fig.add_axes([0, 0, 1, 1])\n",
    "    axes.set_ylim(-1,110)\n",
    "    \n",
    "    sns.boxplot(x=df[met], y=df[main_met])\n",
    "    axes.set_xlabel(descr)\n",
    "    axes.set_ylabel('Оценка по экзамену') # В рамках этого EDA\n",
    "        \n",
    "        \n",
    "def desc_obj(df_col_name):\n",
    "    ''' \n",
    "    Функция для замены значений NaN на моду \n",
    "    \n",
    "    в колонках с категориальными данными\n",
    "    \n",
    "    '''\n",
    "    des = df_col_name.describe(include=['object'])\n",
    "    df_col_name.fillna(des['top'], inplace=True)\n",
    "    \n",
    "\n",
    "def get_box(df, column_1, column_2, column_3, column_4, met):\n",
    "    ''' \n",
    "    Функция для рисования бокплотов по 4 в ряд. \n",
    "    \n",
    "    Убодно для наглядности. \n",
    "    \n",
    "    met - ключевая переменная\n",
    "    \n",
    "    '''\n",
    "    name_1 = column_1\n",
    "    name_2 = column_2\n",
    "    name_3 = column_3\n",
    "    name_4 = column_4\n",
    "    \n",
    "    # Первый бокс\n",
    "    fig = plt.figure()\n",
    "    axes = fig.add_axes([0, 0, 1, 1])\n",
    "    axes.set_ylim(-1,110)\n",
    "    \n",
    "    sns.boxplot(x = df[column_1], y = df[met])\n",
    "    axes.set_xlabel(name_1)\n",
    "    axes.set_ylabel('Оценка по экзамену')\n",
    "    \n",
    "    # Второй бокс\n",
    "    axes2 = fig.add_axes([1.2, 0, 1, 1])\n",
    "    axes2.set_ylim(-1,110)\n",
    "    \n",
    "    sns.boxplot(x = df[column_2], y = df[met])\n",
    "    axes2.set_xlabel(name_2)\n",
    "    axes2.set_ylabel('Оценка по экзамену')\n",
    "    \n",
    "    \n",
    "    # Третий бокс\n",
    "    axes3 = fig.add_axes([2.4, 0, 1, 1])\n",
    "    axes3.set_ylim(-1,110)\n",
    "    \n",
    "    sns.boxplot(x = df[column_3], y = df[met])\n",
    "    axes3.set_xlabel(name_3)\n",
    "    axes3.set_ylabel('Оценка по экзамену')\n",
    "    \n",
    "    # Четвертый бокс\n",
    "    axes4 = fig.add_axes([3.6, 0, 1, 1])\n",
    "    axes4.set_ylim(-1,110)\n",
    "    \n",
    "    sns.boxplot(x = df[column_4], y = df[met])\n",
    "    axes4.set_xlabel(name_4)\n",
    "    axes4.set_ylabel('Оценка по экзамену')\n",
    "    \n",
    "    # Так более информативно\n",
    "    print(df[column_1].value_counts())\n",
    "    print(df[column_2].value_counts())\n",
    "    print(df[column_3].value_counts())\n",
    "    print(df[column_4].value_counts())\n",
    "\n",
    "def get_stat_dif1(df, column, met=''):\n",
    "    ''' \n",
    "    Функция для поиска статистически значимых переменных,\n",
    "    \n",
    "    цифра 1 означает, что это проверка выполнятеся ДО замены \n",
    "    \n",
    "    Nan на моду, медиану и т.д. \n",
    "    \n",
    "    Значения Nan - удаляются.\n",
    "    \n",
    "    '''\n",
    "    \n",
    "    a =True # Флаг для команды print если таких значений нет\n",
    "    \n",
    "    for_stat = df #.dropna() # Очистим данные от пустых значений для поиска\n",
    "  \n",
    "    cols = for_stat.loc[:, column]\n",
    "    combinations_all = list(combinations(for_stat.loc[:, column].dropna().unique(), 2))\n",
    "    for comb in combinations_all:\n",
    "        if   ttest_ind(stud.loc[stud.loc[:, column] == comb[0], met].dropna(),\n",
    "                       stud.loc[stud.loc[:, column] == comb[1], met].dropna()).pvalue \\\n",
    "            <= 0.05/len(combinations_all): # Учли поправку Бонферони\n",
    "            \n",
    "            print('Найдены статистически значимые различия для колонки', column)\n",
    "            \n",
    "            a = False\n",
    "            \n",
    "            break\n",
    "    \n",
    "    if a == True:\n",
    "        print('Cтатистически значимые различия для колонки {} не найдены'.format(column))\n",
    "    else:\n",
    "        return   \n",
    "    \n",
    "    \n",
    "    \n",
    "\n",
    "def rew_num_moda(df_col_name):\n",
    "    ''' \n",
    "    Функция для замены значений NaN на моду \n",
    "    \n",
    "    в колонках с количественными данными\n",
    "    \n",
    "    '''\n",
    "        \n",
    "    des = df_col_name.describe()\n",
    "    df_col_name.fillna(des['50%'], inplace=True)\n",
    "    "
   ]
  },
  {
   "cell_type": "markdown",
   "metadata": {},
   "source": [
    "#### Внимание!\n",
    "\n",
    "Функция проверки метрики на стат. значимость может потребовать времени на расчет."
   ]
  },
  {
   "cell_type": "markdown",
   "metadata": {},
   "source": [
    "Название некоторых колонок начинается с большой буквы. Приведем все к общему виду (в данном случае название колонки в нижнем ригистре):"
   ]
  },
  {
   "cell_type": "code",
   "execution_count": 8,
   "metadata": {},
   "outputs": [],
   "source": [
    "sm.columns = sm.columns.str.lower()    "
   ]
  },
  {
   "cell_type": "markdown",
   "metadata": {},
   "source": [
    "И для удобства переименуем колонку studytime, granular "
   ]
  },
  {
   "cell_type": "code",
   "execution_count": 9,
   "metadata": {},
   "outputs": [],
   "source": [
    "sm.rename(columns={'studytime, granular':'studytime_s'}, inplace=True)"
   ]
  },
  {
   "cell_type": "markdown",
   "metadata": {},
   "source": [
    "_______________________________________________________________________________________________________________________"
   ]
  },
  {
   "cell_type": "markdown",
   "metadata": {},
   "source": [
    "# Целевая метрика \n",
    "В данном датасете целевой метрекой является - score - количество баллов за тест по математике.\n",
    "\n",
    "Сразу посмотрим на нее. Ее распределение, пропуски, выбросы. \n",
    "\n",
    "Так как это особенная метрика - она длжна содержать только истинные метки. Поэтому пустые значения удаляются, а не заменяются на вероятностные. \n"
   ]
  },
  {
   "cell_type": "code",
   "execution_count": 10,
   "metadata": {},
   "outputs": [
    {
     "name": "stdout",
     "output_type": "stream",
     "text": [
      "В колонке score - 1.5 % пропусков, это 6 значений Nan\n"
     ]
    }
   ],
   "source": [
    "empty_count(sm, 'score')"
   ]
  },
  {
   "cell_type": "markdown",
   "metadata": {},
   "source": [
    "Удалим строки с пропущенными значениями:"
   ]
  },
  {
   "cell_type": "code",
   "execution_count": 118,
   "metadata": {},
   "outputs": [
    {
     "name": "stdout",
     "output_type": "stream",
     "text": [
      "В колонке score - 0.0 % пропусков, это 0 значений Nan\n"
     ]
    }
   ],
   "source": [
    "sm.dropna(subset=['score'], inplace=True)\n",
    "empty_count(sm, 'score')"
   ]
  },
  {
   "cell_type": "code",
   "execution_count": 12,
   "metadata": {},
   "outputs": [
    {
     "data": {
      "text/plain": [
       "<matplotlib.axes._subplots.AxesSubplot at 0x24c9c999970>"
      ]
     },
     "execution_count": 12,
     "metadata": {},
     "output_type": "execute_result"
    },
    {
     "data": {
      "image/png": "[encoded data removed]",
      "text/plain": [
       "<Figure size 432x288 with 1 Axes>"
      ]
     },
     "metadata": {},
     "output_type": "display_data"
    }
   ],
   "source": [
    "sm.score.hist(bins=10)"
   ]
  },
  {
   "cell_type": "code",
   "execution_count": 13,
   "metadata": {},
   "outputs": [
    {
     "data": {
      "text/plain": [
       "50.0     54\n",
       "55.0     46\n",
       "0.0      37\n",
       "75.0     33\n",
       "65.0     31\n",
       "40.0     31\n",
       "60.0     31\n",
       "70.0     27\n",
       "45.0     27\n",
       "80.0     16\n",
       "30.0     15\n",
       "90.0     12\n",
       "35.0      9\n",
       "25.0      7\n",
       "85.0      6\n",
       "95.0      5\n",
       "100.0     1\n",
       "20.0      1\n",
       "Name: score, dtype: int64"
      ]
     },
     "execution_count": 13,
     "metadata": {},
     "output_type": "execute_result"
    }
   ],
   "source": [
    "sm.score.value_counts()"
   ]
  },
  {
   "cell_type": "markdown",
   "metadata": {},
   "source": [
    "Метрика распределена почти нормально, однако видно несколько значений равных 0. Таких значений 37. Обратим внимание, что мньше 20 баллов оценок нет (кроме 0). \n",
    "\n",
    "Судя по графику в тесте используется 100 бальная система. Значит есть какой-то минимум, чтобы можно было считать, что тест пройден. Можно сделать вывод, что 20 баллов это и есть этот минимум, а ученики набравшие меньше 20 получают оценку 0 (хотя значение оценки может быть от 5 до 15 (судя по всему оценка ведется \"пятерками\")). \n",
    "\n",
    "Следовательно, ученики набравшие 0 баллов за тест, скорее всего либо на него не пришли (отказались его проходить) либо получили менее 20 баллов. Но точная причина получения оценки равно 0 нам не известа.\n"
   ]
  },
  {
   "cell_type": "code",
   "execution_count": 14,
   "metadata": {},
   "outputs": [
    {
     "name": "stdout",
     "output_type": "stream",
     "text": [
      "<class 'pandas.core.frame.DataFrame'>\n",
      "Int64Index: 389 entries, 0 to 394\n",
      "Data columns (total 30 columns):\n",
      " #   Column       Non-Null Count  Dtype  \n",
      "---  ------       --------------  -----  \n",
      " 0   school       389 non-null    object \n",
      " 1   sex          389 non-null    object \n",
      " 2   age          389 non-null    int64  \n",
      " 3   address      374 non-null    object \n",
      " 4   famsize      362 non-null    object \n",
      " 5   pstatus      344 non-null    object \n",
      " 6   medu         386 non-null    float64\n",
      " 7   fedu         365 non-null    float64\n",
      " 8   mjob         370 non-null    object \n",
      " 9   fjob         353 non-null    object \n",
      " 10  reason       372 non-null    object \n",
      " 11  guardian     358 non-null    object \n",
      " 12  traveltime   361 non-null    float64\n",
      " 13  studytime    382 non-null    float64\n",
      " 14  failures     367 non-null    float64\n",
      " 15  schoolsup    380 non-null    object \n",
      " 16  famsup       351 non-null    object \n",
      " 17  paid         350 non-null    object \n",
      " 18  activities   375 non-null    object \n",
      " 19  nursery      374 non-null    object \n",
      " 20  studytime_s  382 non-null    float64\n",
      " 21  higher       369 non-null    object \n",
      " 22  internet     355 non-null    object \n",
      " 23  romantic     358 non-null    object \n",
      " 24  famrel       362 non-null    float64\n",
      " 25  freetime     380 non-null    float64\n",
      " 26  goout        382 non-null    float64\n",
      " 27  health       374 non-null    float64\n",
      " 28  absences     378 non-null    float64\n",
      " 29  score        389 non-null    float64\n",
      "dtypes: float64(12), int64(1), object(17)\n",
      "memory usage: 94.2+ KB\n"
     ]
    }
   ],
   "source": [
    "sm.info()"
   ]
  },
  {
   "cell_type": "markdown",
   "metadata": {},
   "source": [
    "_______________________________________________________________________________________________________________________"
   ]
  },
  {
   "cell_type": "markdown",
   "metadata": {},
   "source": [
    "## Первичный анализ данных в столбцах."
   ]
  },
  {
   "cell_type": "markdown",
   "metadata": {},
   "source": [
    "Посчитаем пропуски и выведем процент пропусков на колонку"
   ]
  },
  {
   "cell_type": "code",
   "execution_count": 119,
   "metadata": {
    "scrolled": true
   },
   "outputs": [
    {
     "name": "stdout",
     "output_type": "stream",
     "text": [
      "school - 0.0%\n",
      "sex - 0.0%\n",
      "age - 0.0%\n",
      "address - 0.0%\n",
      "famsize - 0.0%\n",
      "medu - 0.0%\n",
      "fedu - 0.0%\n",
      "mjob - 0.0%\n",
      "fjob - 0.0%\n",
      "reason - 0.0%\n",
      "guardian - 7.8%\n",
      "traveltime - 7.2%\n",
      "studytime - 1.8%\n",
      "failures - 5.7%\n",
      "schoolsup - 2.1%\n",
      "famsup - 9.8%\n",
      "paid - 10.1%\n",
      "activities - 3.6%\n",
      "nursery - 3.9%\n",
      "studytime_s - 1.8%\n",
      "higher - 4.9%\n",
      "internet - 8.8%\n",
      "romantic - 8.0%\n",
      "famrel - 7.0%\n",
      "freetime - 2.3%\n",
      "goout - 1.8%\n",
      "health - 3.9%\n",
      "absences - 2.8%\n",
      "score - 0.0%\n"
     ]
    }
   ],
   "source": [
    "for col in sm.columns:\n",
    "    pct_missing = sm[col].isna().mean()\n",
    "    print('{} - {}%'.format(col, round((pct_missing*100), 1)))\n",
    "    "
   ]
  },
  {
   "cell_type": "markdown",
   "metadata": {},
   "source": [
    "Посмотрим признаки, где процент пропусков больше 10%"
   ]
  },
  {
   "cell_type": "code",
   "execution_count": 120,
   "metadata": {},
   "outputs": [
    {
     "name": "stdout",
     "output_type": "stream",
     "text": [
      "paid - 10.1%\n"
     ]
    }
   ],
   "source": [
    "for col in sm.columns:\n",
    "    pct_missing = sm[col].isna().mean()\n",
    "    if round((pct_missing*100), 1)>=10:\n",
    "        print('{} - {}%'.format(col, round((pct_missing*100), 1)))"
   ]
  },
  {
   "cell_type": "markdown",
   "metadata": {},
   "source": [
    "Вывод: пропуски есть. Самые большие (10% и более) это признаки \"pstatus\" - статус совместного жилья родителей, и \"paid\" - дополнительные платные занятия по математике.\n",
    "       Стоит обратить внимание на \"paid\" - возможно это один из ключевых признаков."
   ]
  },
  {
   "cell_type": "markdown",
   "metadata": {},
   "source": [
    "Посчитаем пропущеннеы значения по строкам"
   ]
  },
  {
   "cell_type": "code",
   "execution_count": 121,
   "metadata": {},
   "outputs": [
    {
     "data": {
      "text/html": [
       "<div>\n",
       "<style scoped>\n",
       "    .dataframe tbody tr th:only-of-type {\n",
       "        vertical-align: middle;\n",
       "    }\n",
       "\n",
       "    .dataframe tbody tr th {\n",
       "        vertical-align: top;\n",
       "    }\n",
       "\n",
       "    .dataframe thead th {\n",
       "        text-align: right;\n",
       "    }\n",
       "</style>\n",
       "<table border=\"1\" class=\"dataframe\">\n",
       "  <thead>\n",
       "    <tr style=\"text-align: right;\">\n",
       "      <th></th>\n",
       "      <th>nan</th>\n",
       "      <th>num_nan</th>\n",
       "    </tr>\n",
       "  </thead>\n",
       "  <tbody>\n",
       "    <tr>\n",
       "      <th>0</th>\n",
       "      <td>1</td>\n",
       "      <td>148</td>\n",
       "    </tr>\n",
       "    <tr>\n",
       "      <th>1</th>\n",
       "      <td>0</td>\n",
       "      <td>147</td>\n",
       "    </tr>\n",
       "    <tr>\n",
       "      <th>2</th>\n",
       "      <td>2</td>\n",
       "      <td>66</td>\n",
       "    </tr>\n",
       "    <tr>\n",
       "      <th>3</th>\n",
       "      <td>3</td>\n",
       "      <td>23</td>\n",
       "    </tr>\n",
       "    <tr>\n",
       "      <th>4</th>\n",
       "      <td>4</td>\n",
       "      <td>3</td>\n",
       "    </tr>\n",
       "  </tbody>\n",
       "</table>\n",
       "</div>"
      ],
      "text/plain": [
       "   nan  num_nan\n",
       "0    1      148\n",
       "1    0      147\n",
       "2    2       66\n",
       "3    3       23\n",
       "4    4        3"
      ]
     },
     "execution_count": 121,
     "metadata": {},
     "output_type": "execute_result"
    }
   ],
   "source": [
    "mis = sm.isnull().sum(axis=1).value_counts().reset_index()\n",
    "mis.rename(columns={'index':'nan', 0:'num_nan'}, inplace=True)\n",
    "mis \n",
    "\n"
   ]
  },
  {
   "cell_type": "markdown",
   "metadata": {},
   "source": [
    "2 строки имеют 6 пропусков из 30, и еще 5 строк по 5 пропусков. Это 7 максимально неинформативных строк, заполнение значениями которых, может привести к искажению целевой метрики. Не будем удалять пока"
   ]
  },
  {
   "cell_type": "markdown",
   "metadata": {},
   "source": [
    "sm.dropna(thresh=26, inplace=True) # удалячем те строки где количество значений не NaN, не менее 26\n",
    "mis = sm.isnull().sum(axis=1).value_counts().reset_index()\n",
    "mis.rename(columns={'index':'nan', 0:'num_nan'}, inplace=True)\n",
    "mis "
   ]
  },
  {
   "cell_type": "markdown",
   "metadata": {},
   "source": [
    "### Информация о столбце \"school\" (аббревиатура школы)"
   ]
  },
  {
   "cell_type": "markdown",
   "metadata": {},
   "source": [
    "Согласно инфо. данные в этой колонке не содержат пропущеных значений.\n",
    "\n",
    "Узнаем сколько уникальных значений в колонке"
   ]
  },
  {
   "cell_type": "code",
   "execution_count": 36,
   "metadata": {},
   "outputs": [
    {
     "name": "stdout",
     "output_type": "stream",
     "text": [
      "В колонке school - 0.0 % пропусков, это 0 значений Nan\n"
     ]
    }
   ],
   "source": [
    "empty_count(sm, 'school')"
   ]
  },
  {
   "cell_type": "code",
   "execution_count": 37,
   "metadata": {},
   "outputs": [
    {
     "data": {
      "text/plain": [
       "2"
      ]
     },
     "execution_count": 37,
     "metadata": {},
     "output_type": "execute_result"
    }
   ],
   "source": [
    "sm.school.nunique()"
   ]
  },
  {
   "cell_type": "code",
   "execution_count": 38,
   "metadata": {},
   "outputs": [
    {
     "data": {
      "text/plain": [
       "GP    344\n",
       "MS     45\n",
       "Name: school, dtype: int64"
      ]
     },
     "execution_count": 38,
     "metadata": {},
     "output_type": "execute_result"
    }
   ],
   "source": [
    "sm.school.value_counts()"
   ]
  },
  {
   "cell_type": "code",
   "execution_count": 39,
   "metadata": {},
   "outputs": [
    {
     "data": {
      "text/plain": [
       "<matplotlib.axes._subplots.AxesSubplot at 0x24c9d1e2640>"
      ]
     },
     "execution_count": 39,
     "metadata": {},
     "output_type": "execute_result"
    },
    {
     "data": {
      "image/png": "[encoded data removed]",
      "text/plain": [
       "<Figure size 432x288 with 1 Axes>"
      ]
     },
     "metadata": {},
     "output_type": "display_data"
    }
   ],
   "source": [
    "sm.school.hist(bins=3)"
   ]
  },
  {
   "cell_type": "code",
   "execution_count": 40,
   "metadata": {},
   "outputs": [
    {
     "data": {
      "image/png": "[encoded data removed]",
      "text/plain": [
       "<Figure size 432x288 with 1 Axes>"
      ]
     },
     "metadata": {},
     "output_type": "display_data"
    }
   ],
   "source": [
    "boxan(sm, 'school', 'score', 'GP, MS')"
   ]
  },
  {
   "cell_type": "markdown",
   "metadata": {},
   "source": [
    "Всего 2 школы. \n",
    "\n",
    "Чтобы все остальные признаки имели ранвый вес для анализа, эти школы должны находится в одном регионе (страна, город и т.п.) поэтому сейчас можно предположить, что название школы не влияет на успеваемость. Для школы MS оценка 0 считатся вбросом."
   ]
  },
  {
   "cell_type": "code",
   "execution_count": 24,
   "metadata": {},
   "outputs": [
    {
     "name": "stdout",
     "output_type": "stream",
     "text": [
      "Cтатистически значимые различия для колонки school не найдены\n"
     ]
    }
   ],
   "source": [
    "get_stat_dif2(sm, 'school', met='score')"
   ]
  },
  {
   "cell_type": "markdown",
   "metadata": {},
   "source": [
    "#########################################################################################################################"
   ]
  },
  {
   "cell_type": "markdown",
   "metadata": {},
   "source": [
    "### Информация о столбце \"sex\" (пол ученика)"
   ]
  },
  {
   "cell_type": "markdown",
   "metadata": {},
   "source": [
    "Всего 2 школы. \n",
    "\n",
    "Чтобы все остальные признаки имели ранвый вес для анализа, эти школы должны находится в одном регионе (страна, город и т.п.) поэтому сейчас можно предположить, что название школы не влияет на успеваемость. Для школы MS оценка 0 считатся вбросом."
   ]
  },
  {
   "cell_type": "code",
   "execution_count": 25,
   "metadata": {},
   "outputs": [
    {
     "name": "stdout",
     "output_type": "stream",
     "text": [
      "В колонке sex - 0.0 % пропусков, это 0 значений Nan\n"
     ]
    }
   ],
   "source": [
    "empty_count(sm, 'sex')"
   ]
  },
  {
   "cell_type": "code",
   "execution_count": 26,
   "metadata": {},
   "outputs": [
    {
     "data": {
      "text/plain": [
       "F    204\n",
       "M    185\n",
       "Name: sex, dtype: int64"
      ]
     },
     "execution_count": 26,
     "metadata": {},
     "output_type": "execute_result"
    }
   ],
   "source": [
    "sm.sex.value_counts()"
   ]
  },
  {
   "cell_type": "code",
   "execution_count": 27,
   "metadata": {},
   "outputs": [
    {
     "data": {
      "image/png": "[encoded data removed]",
      "text/plain": [
       "<Figure size 432x288 with 1 Axes>"
      ]
     },
     "metadata": {},
     "output_type": "display_data"
    }
   ],
   "source": [
    "boxan(sm, 'sex', 'score', 'F, M')"
   ]
  },
  {
   "cell_type": "code",
   "execution_count": 122,
   "metadata": {},
   "outputs": [
    {
     "name": "stdout",
     "output_type": "stream",
     "text": [
      "Найдены статистически значимые различия для колонки sex\n"
     ]
    }
   ],
   "source": [
    "get_stat_dif1(sm, 'sex', met='score')"
   ]
  },
  {
   "cell_type": "markdown",
   "metadata": {},
   "source": [
    "Пропусков нет, мальчиков и девочек почти равное количество. Оценка 0 считается допустимым вбросом. \n",
    "\n",
    "На целевую переменную влияет "
   ]
  },
  {
   "cell_type": "markdown",
   "metadata": {},
   "source": [
    "#########################################################################################################################"
   ]
  },
  {
   "cell_type": "markdown",
   "metadata": {},
   "source": [
    "### Информация о столбце \"age\" (возраст ученика)"
   ]
  },
  {
   "cell_type": "code",
   "execution_count": 123,
   "metadata": {},
   "outputs": [
    {
     "name": "stdout",
     "output_type": "stream",
     "text": [
      "В колонке age - 0.0 % пропусков, это 0 значений Nan\n"
     ]
    }
   ],
   "source": [
    "empty_count(sm, 'age')"
   ]
  },
  {
   "cell_type": "markdown",
   "metadata": {},
   "source": [
    "Столбец чиловой, пропусков нет. Можно посмотреть на его распределение"
   ]
  },
  {
   "cell_type": "code",
   "execution_count": 124,
   "metadata": {},
   "outputs": [
    {
     "data": {
      "text/plain": [
       "16    103\n",
       "17     98\n",
       "15     82\n",
       "18     80\n",
       "19     21\n",
       "20      3\n",
       "Name: age, dtype: int64"
      ]
     },
     "execution_count": 124,
     "metadata": {},
     "output_type": "execute_result"
    }
   ],
   "source": [
    "sm.age.value_counts()"
   ]
  },
  {
   "cell_type": "code",
   "execution_count": 125,
   "metadata": {},
   "outputs": [
    {
     "data": {
      "text/plain": [
       "<matplotlib.axes._subplots.AxesSubplot at 0x24c9ee1f490>"
      ]
     },
     "execution_count": 125,
     "metadata": {},
     "output_type": "execute_result"
    },
    {
     "data": {
      "image/png": "[encoded data removed]",
      "text/plain": [
       "<Figure size 432x288 with 1 Axes>"
      ]
     },
     "metadata": {},
     "output_type": "display_data"
    }
   ],
   "source": [
    "sm.age.hist(bins=20)"
   ]
  },
  {
   "cell_type": "code",
   "execution_count": 33,
   "metadata": {},
   "outputs": [
    {
     "data": {
      "text/plain": [
       "count    382.000000\n",
       "mean      16.667539\n",
       "std        1.266132\n",
       "min       15.000000\n",
       "25%       16.000000\n",
       "50%       17.000000\n",
       "75%       18.000000\n",
       "max       22.000000\n",
       "Name: age, dtype: float64"
      ]
     },
     "execution_count": 33,
     "metadata": {},
     "output_type": "execute_result"
    }
   ],
   "source": [
    "sm.age.describe()"
   ]
  },
  {
   "cell_type": "markdown",
   "metadata": {},
   "source": [
    "Медианный возраст 17 лет. Большинство учеников соотвествуют возрасту старшей школы.\n",
    "Однако, в дальнешем стоит обратить внимание на учеников чей возраст от 20 до 22, который соотвествует возрасту высшей школы, где уровень знаний отличается. \n",
    "\n",
    "Проверим нет ли вбросов с помощью боксплота."
   ]
  },
  {
   "cell_type": "code",
   "execution_count": 45,
   "metadata": {},
   "outputs": [
    {
     "data": {
      "text/plain": [
       "<matplotlib.axes._subplots.AxesSubplot at 0x24c9d3ad400>"
      ]
     },
     "execution_count": 45,
     "metadata": {},
     "output_type": "execute_result"
    },
    {
     "data": {
      "image/png": "[encoded data removed]",
      "text/plain": [
       "<Figure size 432x288 with 1 Axes>"
      ]
     },
     "metadata": {},
     "output_type": "display_data"
    }
   ],
   "source": [
    "sm.age.plot(kind='box',\n",
    "            title=\"Распределение возраста учеников\")"
   ]
  },
  {
   "cell_type": "markdown",
   "metadata": {},
   "source": [
    "Возраст равный 22 годам выходит за пределы межквартильного размаха и считается вбросом. Удалим его. Скорее всего это второгодка. "
   ]
  },
  {
   "cell_type": "code",
   "execution_count": 46,
   "metadata": {},
   "outputs": [],
   "source": [
    "sm.drop(sm[sm.age == 22].index, inplace=True)"
   ]
  },
  {
   "cell_type": "code",
   "execution_count": 47,
   "metadata": {},
   "outputs": [
    {
     "data": {
      "image/png": "[encoded data removed]",
      "text/plain": [
       "<Figure size 432x288 with 1 Axes>"
      ]
     },
     "metadata": {},
     "output_type": "display_data"
    }
   ],
   "source": [
    "boxan(sm, 'age', 'score', 'Возраст учеников')"
   ]
  },
  {
   "cell_type": "markdown",
   "metadata": {},
   "source": [
    "Возраст равный 21 году малоиформативен. Удалим его. \n",
    "\n"
   ]
  },
  {
   "cell_type": "code",
   "execution_count": 48,
   "metadata": {},
   "outputs": [],
   "source": [
    "sm.drop(sm[sm.age == 21].index, inplace=True)"
   ]
  },
  {
   "cell_type": "markdown",
   "metadata": {},
   "source": [
    "Вывод:Оценка равная 0 для учеников с 16 по 18 лет считается допустимым вбросом. "
   ]
  },
  {
   "cell_type": "markdown",
   "metadata": {},
   "source": [
    "#########################################################################################################################"
   ]
  },
  {
   "cell_type": "markdown",
   "metadata": {},
   "source": [
    "### Информация о столбце \"address\" (тип адреса (город, за городом))"
   ]
  },
  {
   "cell_type": "code",
   "execution_count": 49,
   "metadata": {},
   "outputs": [
    {
     "name": "stdout",
     "output_type": "stream",
     "text": [
      "В колонке address - 3.9 % пропусков, это 15 значений Nan\n"
     ]
    }
   ],
   "source": [
    "empty_count(sm, 'address')"
   ]
  },
  {
   "cell_type": "code",
   "execution_count": 50,
   "metadata": {},
   "outputs": [
    {
     "data": {
      "text/plain": [
       "U    290\n",
       "R     82\n",
       "Name: address, dtype: int64"
      ]
     },
     "execution_count": 50,
     "metadata": {},
     "output_type": "execute_result"
    }
   ],
   "source": [
    "sm.address.value_counts()"
   ]
  },
  {
   "cell_type": "code",
   "execution_count": 51,
   "metadata": {},
   "outputs": [
    {
     "data": {
      "text/plain": [
       "<matplotlib.axes._subplots.AxesSubplot at 0x24c9d56b0a0>"
      ]
     },
     "execution_count": 51,
     "metadata": {},
     "output_type": "execute_result"
    },
    {
     "data": {
      "image/png": "[encoded data removed]",
      "text/plain": [
       "<Figure size 432x288 with 1 Axes>"
      ]
     },
     "metadata": {},
     "output_type": "display_data"
    }
   ],
   "source": [
    "sm.address.hist(bins=3)"
   ]
  },
  {
   "cell_type": "code",
   "execution_count": 52,
   "metadata": {},
   "outputs": [
    {
     "data": {
      "image/png": "[encoded data removed]",
      "text/plain": [
       "<Figure size 432x288 with 1 Axes>"
      ]
     },
     "metadata": {},
     "output_type": "display_data"
    }
   ],
   "source": [
    "boxan(sm, 'address', 'score', 'U - Город, R - Вне города')"
   ]
  },
  {
   "cell_type": "markdown",
   "metadata": {},
   "source": [
    "Медианное значение оценки по экзамену примерно одинаково как для городских, так и для учеников живущих за городом. Однако, для учеников из города оценка 0 считается вбросом.\n",
    "\n",
    "До заполнения проверим метрику на стат.значимость (без Nan):\n"
   ]
  },
  {
   "cell_type": "code",
   "execution_count": 59,
   "metadata": {},
   "outputs": [
    {
     "name": "stdout",
     "output_type": "stream",
     "text": [
      "Найдены статистически значимые различия для колонки address\n"
     ]
    }
   ],
   "source": [
    "get_stat_dif1(sm, 'address', met='score')"
   ]
  },
  {
   "cell_type": "markdown",
   "metadata": {},
   "source": [
    "Обнаружено. Заменим Nan на моду и проверим еще раз."
   ]
  },
  {
   "cell_type": "code",
   "execution_count": 60,
   "metadata": {},
   "outputs": [],
   "source": [
    "sm[\"address\"].fillna('U', inplace=True)"
   ]
  },
  {
   "cell_type": "code",
   "execution_count": 61,
   "metadata": {},
   "outputs": [
    {
     "name": "stdout",
     "output_type": "stream",
     "text": [
      "Найдены статистически значимые различия для колонки address\n"
     ]
    }
   ],
   "source": [
    "get_stat_dif1(sm, 'address', met='score')"
   ]
  },
  {
   "cell_type": "markdown",
   "metadata": {},
   "source": [
    "Около 80% учеников из датасета проживают в городе.\n",
    "\n",
    "Вывод: Место жительства оказывает влияние на оценку по экзамену. "
   ]
  },
  {
   "cell_type": "markdown",
   "metadata": {},
   "source": [
    "#########################################################################################################################"
   ]
  },
  {
   "cell_type": "markdown",
   "metadata": {},
   "source": [
    "### Информация о столбце \"famsize\" (размер семьи('LE3' <= 3, 'GT3' >3))"
   ]
  },
  {
   "cell_type": "code",
   "execution_count": 62,
   "metadata": {},
   "outputs": [
    {
     "name": "stdout",
     "output_type": "stream",
     "text": [
      "В колонке famsize - 7.0 % пропусков, это 27 значений Nan\n"
     ]
    }
   ],
   "source": [
    "empty_count(sm, 'famsize')"
   ]
  },
  {
   "cell_type": "code",
   "execution_count": 63,
   "metadata": {},
   "outputs": [
    {
     "data": {
      "text/plain": [
       "GT3    253\n",
       "LE3    107\n",
       "Name: famsize, dtype: int64"
      ]
     },
     "execution_count": 63,
     "metadata": {},
     "output_type": "execute_result"
    }
   ],
   "source": [
    "sm.famsize.value_counts()"
   ]
  },
  {
   "cell_type": "code",
   "execution_count": 64,
   "metadata": {},
   "outputs": [
    {
     "data": {
      "text/plain": [
       "<matplotlib.axes._subplots.AxesSubplot at 0x24c9d2bff10>"
      ]
     },
     "execution_count": 64,
     "metadata": {},
     "output_type": "execute_result"
    },
    {
     "data": {
      "image/png": "[encoded data removed]",
      "text/plain": [
       "<Figure size 432x288 with 1 Axes>"
      ]
     },
     "metadata": {},
     "output_type": "display_data"
    }
   ],
   "source": [
    "sm.famsize.hist()"
   ]
  },
  {
   "cell_type": "markdown",
   "metadata": {},
   "source": [
    "Посмотрим есть ли явная зависимость оценок по математики от размера семьи:"
   ]
  },
  {
   "cell_type": "code",
   "execution_count": 65,
   "metadata": {},
   "outputs": [
    {
     "data": {
      "text/html": [
       "<div>\n",
       "<style scoped>\n",
       "    .dataframe tbody tr th:only-of-type {\n",
       "        vertical-align: middle;\n",
       "    }\n",
       "\n",
       "    .dataframe tbody tr th {\n",
       "        vertical-align: top;\n",
       "    }\n",
       "\n",
       "    .dataframe thead th {\n",
       "        text-align: right;\n",
       "    }\n",
       "</style>\n",
       "<table border=\"1\" class=\"dataframe\">\n",
       "  <thead>\n",
       "    <tr style=\"text-align: right;\">\n",
       "      <th></th>\n",
       "      <th>famsize</th>\n",
       "      <th>min</th>\n",
       "      <th>max</th>\n",
       "      <th>mean</th>\n",
       "    </tr>\n",
       "  </thead>\n",
       "  <tbody>\n",
       "    <tr>\n",
       "      <th>0</th>\n",
       "      <td>GT3</td>\n",
       "      <td>0.0</td>\n",
       "      <td>100.0</td>\n",
       "      <td>51.620553</td>\n",
       "    </tr>\n",
       "    <tr>\n",
       "      <th>1</th>\n",
       "      <td>LE3</td>\n",
       "      <td>0.0</td>\n",
       "      <td>95.0</td>\n",
       "      <td>54.672897</td>\n",
       "    </tr>\n",
       "  </tbody>\n",
       "</table>\n",
       "</div>"
      ],
      "text/plain": [
       "  famsize  min    max       mean\n",
       "0     GT3  0.0  100.0  51.620553\n",
       "1     LE3  0.0   95.0  54.672897"
      ]
     },
     "execution_count": 65,
     "metadata": {},
     "output_type": "execute_result"
    }
   ],
   "source": [
    "a =  sm.groupby(['famsize'])['score'].agg(['min', 'max', 'mean']).reset_index()\n",
    "a"
   ]
  },
  {
   "cell_type": "code",
   "execution_count": 66,
   "metadata": {},
   "outputs": [
    {
     "data": {
      "image/png": "[encoded data removed]",
      "text/plain": [
       "<Figure size 432x288 with 1 Axes>"
      ]
     },
     "metadata": {},
     "output_type": "display_data"
    }
   ],
   "source": [
    "boxan(sm, 'famsize', 'score', '3+, <3')"
   ]
  },
  {
   "cell_type": "markdown",
   "metadata": {},
   "source": [
    "Явной зависимости нет. \n",
    "\n",
    "Промерим на стат. значимость (без Nan)\n"
   ]
  },
  {
   "cell_type": "code",
   "execution_count": 67,
   "metadata": {},
   "outputs": [
    {
     "name": "stdout",
     "output_type": "stream",
     "text": [
      "Cтатистически значимые различия для колонки famsize не найдены\n"
     ]
    }
   ],
   "source": [
    "get_stat_dif1(sm, 'famsize', met='score')"
   ]
  },
  {
   "cell_type": "markdown",
   "metadata": {},
   "source": [
    "Не обнаружено. Заменим Nan модой и промерим еще раз. "
   ]
  },
  {
   "cell_type": "code",
   "execution_count": 68,
   "metadata": {},
   "outputs": [],
   "source": [
    "desc_obj(sm.famsize)"
   ]
  },
  {
   "cell_type": "code",
   "execution_count": 69,
   "metadata": {},
   "outputs": [
    {
     "name": "stdout",
     "output_type": "stream",
     "text": [
      "Cтатистически значимые различия для колонки famsize не найдены\n"
     ]
    }
   ],
   "source": [
    "get_stat_dif1(sm, 'famsize', met='score')"
   ]
  },
  {
   "cell_type": "markdown",
   "metadata": {},
   "source": [
    "Вывод: Медианное значение оценки по экзамену примерно одинаково для любого состава семьи.\n",
    "Не влияет на целевую переменную."
   ]
  },
  {
   "cell_type": "markdown",
   "metadata": {},
   "source": [
    "#########################################################################################################################"
   ]
  },
  {
   "cell_type": "markdown",
   "metadata": {},
   "source": [
    "### Информация о столбце \"pstatus\" (статус совместного жилья родителей ('T' - живут вместе 'A' - раздельно))"
   ]
  },
  {
   "cell_type": "code",
   "execution_count": 70,
   "metadata": {},
   "outputs": [
    {
     "name": "stdout",
     "output_type": "stream",
     "text": [
      "В колонке pstatus - 11.6 % пропусков, это 45 значений Nan\n"
     ]
    }
   ],
   "source": [
    "empty_count(sm, 'pstatus')"
   ]
  },
  {
   "cell_type": "code",
   "execution_count": 71,
   "metadata": {},
   "outputs": [
    {
     "data": {
      "text/plain": [
       "<matplotlib.axes._subplots.AxesSubplot at 0x24c9ebf7880>"
      ]
     },
     "execution_count": 71,
     "metadata": {},
     "output_type": "execute_result"
    },
    {
     "data": {
      "image/png": "[encoded data removed]",
      "text/plain": [
       "<Figure size 432x288 with 1 Axes>"
      ]
     },
     "metadata": {},
     "output_type": "display_data"
    }
   ],
   "source": [
    "sm.pstatus.hist(bins=3)"
   ]
  },
  {
   "cell_type": "code",
   "execution_count": 72,
   "metadata": {},
   "outputs": [
    {
     "data": {
      "image/png": "[encoded data removed]",
      "text/plain": [
       "<Figure size 432x288 with 1 Axes>"
      ]
     },
     "metadata": {},
     "output_type": "display_data"
    }
   ],
   "source": [
    "boxan(sm, 'pstatus', 'score', 'T-вместе, A-раздельно')"
   ]
  },
  {
   "cell_type": "markdown",
   "metadata": {},
   "source": [
    "У подавляющего большинства учеников роители живут вместе. \n",
    "\n",
    "Промерка на стат. значимость (без Nan)\n"
   ]
  },
  {
   "cell_type": "code",
   "execution_count": 73,
   "metadata": {},
   "outputs": [
    {
     "name": "stdout",
     "output_type": "stream",
     "text": [
      "Cтатистически значимые различия для колонки pstatus не найдены\n"
     ]
    }
   ],
   "source": [
    "get_stat_dif1(sm, 'pstatus', met='score')"
   ]
  },
  {
   "cell_type": "markdown",
   "metadata": {},
   "source": [
    "Пропусков много, зависимости явной нет - удалим столбец pstatus"
   ]
  },
  {
   "cell_type": "code",
   "execution_count": 74,
   "metadata": {},
   "outputs": [],
   "source": [
    "sm.drop(labels = ['pstatus'], axis=1, inplace=True)"
   ]
  },
  {
   "cell_type": "markdown",
   "metadata": {},
   "source": [
    "#########################################################################################################################"
   ]
  },
  {
   "cell_type": "markdown",
   "metadata": {},
   "source": [
    "### Информация о столбце \"medu\" (образование матери (0 - нет, 1 - 4 класса, 2 - 5-9 классы, 3 - среднее специальное или 11 классов, 4 - высшее))"
   ]
  },
  {
   "cell_type": "code",
   "execution_count": 75,
   "metadata": {},
   "outputs": [
    {
     "name": "stdout",
     "output_type": "stream",
     "text": [
      "В колонке medu - 0.8 % пропусков, это 3 значений Nan\n"
     ]
    }
   ],
   "source": [
    "empty_count(sm, 'medu')"
   ]
  },
  {
   "cell_type": "code",
   "execution_count": 76,
   "metadata": {},
   "outputs": [
    {
     "data": {
      "text/plain": [
       "4.0    131\n",
       "2.0    100\n",
       "3.0     95\n",
       "1.0     55\n",
       "0.0      3\n",
       "Name: medu, dtype: int64"
      ]
     },
     "execution_count": 76,
     "metadata": {},
     "output_type": "execute_result"
    }
   ],
   "source": [
    "sm.medu.value_counts()"
   ]
  },
  {
   "cell_type": "code",
   "execution_count": 77,
   "metadata": {},
   "outputs": [
    {
     "data": {
      "text/plain": [
       "<matplotlib.axes._subplots.AxesSubplot at 0x24c9ecf8af0>"
      ]
     },
     "execution_count": 77,
     "metadata": {},
     "output_type": "execute_result"
    },
    {
     "data": {
      "image/png": "[encoded data removed]",
      "text/plain": [
       "<Figure size 432x288 with 1 Axes>"
      ]
     },
     "metadata": {},
     "output_type": "display_data"
    }
   ],
   "source": [
    "sm.medu.hist(bins=10)"
   ]
  },
  {
   "cell_type": "code",
   "execution_count": 78,
   "metadata": {},
   "outputs": [
    {
     "data": {
      "image/png": "[encoded data removed]",
      "text/plain": [
       "<Figure size 432x288 with 1 Axes>"
      ]
     },
     "metadata": {},
     "output_type": "display_data"
    }
   ],
   "source": [
    "boxan(sm, 'medu', 'score', '0-нет, 1-4кл, 2-5-9кл, 3-среднее, 4-высшее')"
   ]
  },
  {
   "cell_type": "markdown",
   "metadata": {},
   "source": [
    "Оу, ученики у которых мать без образования сдают тест на высокий бал. Может это выброс? Так как видно, что уровень образования влияет на оценку: чем выше образование - лучше оценки.\n",
    "\n",
    "Посмотрим, может у них есть мотивация? или они получали доп образование. Из датасета выбираем \"желание получить высшее образование\" и \"платные заняти по математике\" как самые очевидные."
   ]
  },
  {
   "cell_type": "code",
   "execution_count": 79,
   "metadata": {},
   "outputs": [
    {
     "data": {
      "text/html": [
       "<div>\n",
       "<style scoped>\n",
       "    .dataframe tbody tr th:only-of-type {\n",
       "        vertical-align: middle;\n",
       "    }\n",
       "\n",
       "    .dataframe tbody tr th {\n",
       "        vertical-align: top;\n",
       "    }\n",
       "\n",
       "    .dataframe thead tr th {\n",
       "        text-align: left;\n",
       "    }\n",
       "\n",
       "    .dataframe thead tr:last-of-type th {\n",
       "        text-align: right;\n",
       "    }\n",
       "</style>\n",
       "<table border=\"1\" class=\"dataframe\">\n",
       "  <thead>\n",
       "    <tr>\n",
       "      <th></th>\n",
       "      <th></th>\n",
       "      <th colspan=\"5\" halign=\"left\">score</th>\n",
       "    </tr>\n",
       "    <tr>\n",
       "      <th></th>\n",
       "      <th>medu</th>\n",
       "      <th>0.0</th>\n",
       "      <th>1.0</th>\n",
       "      <th>2.0</th>\n",
       "      <th>3.0</th>\n",
       "      <th>4.0</th>\n",
       "    </tr>\n",
       "    <tr>\n",
       "      <th>higher</th>\n",
       "      <th>paid</th>\n",
       "      <th></th>\n",
       "      <th></th>\n",
       "      <th></th>\n",
       "      <th></th>\n",
       "      <th></th>\n",
       "    </tr>\n",
       "  </thead>\n",
       "  <tbody>\n",
       "    <tr>\n",
       "      <th>no</th>\n",
       "      <th>no</th>\n",
       "      <td>45.0</td>\n",
       "      <td>60.0</td>\n",
       "      <td>65.0</td>\n",
       "      <td>60.0</td>\n",
       "      <td>NaN</td>\n",
       "    </tr>\n",
       "    <tr>\n",
       "      <th rowspan=\"2\" valign=\"top\">yes</th>\n",
       "      <th>no</th>\n",
       "      <td>75.0</td>\n",
       "      <td>80.0</td>\n",
       "      <td>90.0</td>\n",
       "      <td>90.0</td>\n",
       "      <td>100.0</td>\n",
       "    </tr>\n",
       "    <tr>\n",
       "      <th>yes</th>\n",
       "      <td>75.0</td>\n",
       "      <td>70.0</td>\n",
       "      <td>95.0</td>\n",
       "      <td>95.0</td>\n",
       "      <td>90.0</td>\n",
       "    </tr>\n",
       "  </tbody>\n",
       "</table>\n",
       "</div>"
      ],
      "text/plain": [
       "            score                         \n",
       "medu          0.0   1.0   2.0   3.0    4.0\n",
       "higher paid                               \n",
       "no     no    45.0  60.0  65.0  60.0    NaN\n",
       "yes    no    75.0  80.0  90.0  90.0  100.0\n",
       "       yes   75.0  70.0  95.0  95.0   90.0"
      ]
     },
     "metadata": {},
     "output_type": "display_data"
    }
   ],
   "source": [
    "per_1 = sm.pivot_table(index=['higher', 'paid'],\n",
    "                      columns=['medu'],\n",
    "                      values=['score'],\n",
    "                      aggfunc='max')\n",
    "display(per_1)"
   ]
  },
  {
   "cell_type": "markdown",
   "metadata": {},
   "source": [
    "Мотивация - сила. Те, кто хотят высшее образование получают высокий бал (иногда даже без курсов по математике).\n",
    "\n",
    "Проверим признак на стат. значимость (без Nan)\n"
   ]
  },
  {
   "cell_type": "code",
   "execution_count": 80,
   "metadata": {},
   "outputs": [
    {
     "name": "stdout",
     "output_type": "stream",
     "text": [
      "Найдены статистически значимые различия для колонки medu\n"
     ]
    }
   ],
   "source": [
    "get_stat_dif1(sm, 'medu', met='score')"
   ]
  },
  {
   "cell_type": "markdown",
   "metadata": {},
   "source": [
    "Пропуски (их всего 3) заменим модой."
   ]
  },
  {
   "cell_type": "code",
   "execution_count": 81,
   "metadata": {},
   "outputs": [
    {
     "data": {
      "text/plain": [
       "count    384.000000\n",
       "mean       2.770833\n",
       "std        1.093338\n",
       "min        0.000000\n",
       "25%        2.000000\n",
       "50%        3.000000\n",
       "75%        4.000000\n",
       "max        4.000000\n",
       "Name: medu, dtype: float64"
      ]
     },
     "execution_count": 81,
     "metadata": {},
     "output_type": "execute_result"
    }
   ],
   "source": [
    "sm.medu.describe() # Это описание числовой статистики, но в данном случае она нам подойдет, для моды и для медианы"
   ]
  },
  {
   "cell_type": "code",
   "execution_count": 82,
   "metadata": {},
   "outputs": [],
   "source": [
    "sm.medu.fillna(4, inplace=True)"
   ]
  },
  {
   "cell_type": "markdown",
   "metadata": {},
   "source": [
    "Вывод: Образование матери может влиять на оценку по математике, но с учетом допонительных факторов."
   ]
  },
  {
   "cell_type": "markdown",
   "metadata": {},
   "source": [
    "#########################################################################################################################"
   ]
  },
  {
   "cell_type": "markdown",
   "metadata": {},
   "source": [
    "### Информация о столбце \"fedu\" (образование отца(0 - нет, 1 - 4 класса, 2 - 5-9 классы, 3 - среднее специальное или 11 классов, 4 - высшее))"
   ]
  },
  {
   "cell_type": "code",
   "execution_count": 83,
   "metadata": {},
   "outputs": [
    {
     "name": "stdout",
     "output_type": "stream",
     "text": [
      "В колонке fedu - 6.2 % пропусков, это 24 значений Nan\n"
     ]
    }
   ],
   "source": [
    "empty_count(sm, 'fedu')"
   ]
  },
  {
   "cell_type": "code",
   "execution_count": 84,
   "metadata": {},
   "outputs": [
    {
     "data": {
      "text/plain": [
       "2.0     105\n",
       "3.0      94\n",
       "4.0      88\n",
       "1.0      73\n",
       "0.0       2\n",
       "40.0      1\n",
       "Name: fedu, dtype: int64"
      ]
     },
     "execution_count": 84,
     "metadata": {},
     "output_type": "execute_result"
    }
   ],
   "source": [
    "sm.fedu.value_counts()"
   ]
  },
  {
   "cell_type": "code",
   "execution_count": 85,
   "metadata": {},
   "outputs": [
    {
     "data": {
      "text/plain": [
       "<matplotlib.axes._subplots.AxesSubplot at 0x24c9ecd5040>"
      ]
     },
     "execution_count": 85,
     "metadata": {},
     "output_type": "execute_result"
    },
    {
     "data": {
      "image/png": "[encoded data removed]",
      "text/plain": [
       "<Figure size 432x288 with 1 Axes>"
      ]
     },
     "metadata": {},
     "output_type": "display_data"
    }
   ],
   "source": [
    "sm.fedu.hist(bins=10)"
   ]
  },
  {
   "cell_type": "markdown",
   "metadata": {},
   "source": [
    "40 это явный выброс. Скорее ошибка и это либо 4 либо 0. Заменим на частое из 4 и 0, это 4."
   ]
  },
  {
   "cell_type": "code",
   "execution_count": 88,
   "metadata": {},
   "outputs": [],
   "source": [
    "sm.fedu.replace(40, 4, inplace=True)"
   ]
  },
  {
   "cell_type": "code",
   "execution_count": 89,
   "metadata": {},
   "outputs": [
    {
     "data": {
      "text/plain": [
       "<matplotlib.axes._subplots.AxesSubplot at 0x24c9d6b3c10>"
      ]
     },
     "execution_count": 89,
     "metadata": {},
     "output_type": "execute_result"
    },
    {
     "data": {
      "image/png": "[encoded data removed]",
      "text/plain": [
       "<Figure size 432x288 with 1 Axes>"
      ]
     },
     "metadata": {},
     "output_type": "display_data"
    }
   ],
   "source": [
    "sm.fedu.hist(bins=10)"
   ]
  },
  {
   "cell_type": "code",
   "execution_count": 90,
   "metadata": {},
   "outputs": [
    {
     "data": {
      "image/png": "[encoded data removed]",
      "text/plain": [
       "<Figure size 432x288 with 1 Axes>"
      ]
     },
     "metadata": {},
     "output_type": "display_data"
    }
   ],
   "source": [
    "boxan(sm, 'fedu', 'score', '0-нет, 1-4кл, 2-5-9кл, 3-среднее, 4-высшее')"
   ]
  },
  {
   "cell_type": "markdown",
   "metadata": {},
   "source": [
    "Похожая ситуация и с отцами без образования. Проверим на доп.занятия по математике. (По другим криетриям данных нет)"
   ]
  },
  {
   "cell_type": "code",
   "execution_count": 91,
   "metadata": {},
   "outputs": [
    {
     "data": {
      "text/html": [
       "<div>\n",
       "<style scoped>\n",
       "    .dataframe tbody tr th:only-of-type {\n",
       "        vertical-align: middle;\n",
       "    }\n",
       "\n",
       "    .dataframe tbody tr th {\n",
       "        vertical-align: top;\n",
       "    }\n",
       "\n",
       "    .dataframe thead tr th {\n",
       "        text-align: left;\n",
       "    }\n",
       "\n",
       "    .dataframe thead tr:last-of-type th {\n",
       "        text-align: right;\n",
       "    }\n",
       "</style>\n",
       "<table border=\"1\" class=\"dataframe\">\n",
       "  <thead>\n",
       "    <tr>\n",
       "      <th></th>\n",
       "      <th colspan=\"5\" halign=\"left\">score</th>\n",
       "    </tr>\n",
       "    <tr>\n",
       "      <th>fedu</th>\n",
       "      <th>0.0</th>\n",
       "      <th>1.0</th>\n",
       "      <th>2.0</th>\n",
       "      <th>3.0</th>\n",
       "      <th>4.0</th>\n",
       "    </tr>\n",
       "    <tr>\n",
       "      <th>paid</th>\n",
       "      <th></th>\n",
       "      <th></th>\n",
       "      <th></th>\n",
       "      <th></th>\n",
       "      <th></th>\n",
       "    </tr>\n",
       "  </thead>\n",
       "  <tbody>\n",
       "    <tr>\n",
       "      <th>no</th>\n",
       "      <td>50.0</td>\n",
       "      <td>90.0</td>\n",
       "      <td>95.0</td>\n",
       "      <td>100.0</td>\n",
       "      <td>95.0</td>\n",
       "    </tr>\n",
       "    <tr>\n",
       "      <th>yes</th>\n",
       "      <td>80.0</td>\n",
       "      <td>90.0</td>\n",
       "      <td>95.0</td>\n",
       "      <td>90.0</td>\n",
       "      <td>90.0</td>\n",
       "    </tr>\n",
       "  </tbody>\n",
       "</table>\n",
       "</div>"
      ],
      "text/plain": [
       "     score                         \n",
       "fedu   0.0   1.0   2.0    3.0   4.0\n",
       "paid                               \n",
       "no    50.0  90.0  95.0  100.0  95.0\n",
       "yes   80.0  90.0  95.0   90.0  90.0"
      ]
     },
     "execution_count": 91,
     "metadata": {},
     "output_type": "execute_result"
    }
   ],
   "source": [
    "per_2 = sm.pivot_table(index=['paid'],\n",
    "                      columns=['fedu'],\n",
    "                      values=['score'],\n",
    "                      aggfunc='max')\n",
    "per_2"
   ]
  },
  {
   "cell_type": "markdown",
   "metadata": {},
   "source": [
    "Малоинформативная сборка...\n",
    "\n",
    "Проверка на стат.значимость (без Nan)\n"
   ]
  },
  {
   "cell_type": "code",
   "execution_count": 92,
   "metadata": {},
   "outputs": [
    {
     "name": "stdout",
     "output_type": "stream",
     "text": [
      "Cтатистически значимые различия для колонки fedu не найдены\n"
     ]
    }
   ],
   "source": [
    "get_stat_dif1(sm, 'fedu', met='score')"
   ]
  },
  {
   "cell_type": "markdown",
   "metadata": {},
   "source": [
    "Пустых значений 23, заменим в данном случае медианой. И повторим тест"
   ]
  },
  {
   "cell_type": "code",
   "execution_count": 93,
   "metadata": {},
   "outputs": [
    {
     "data": {
      "text/plain": [
       "count    363.000000\n",
       "mean       2.537190\n",
       "std        1.085118\n",
       "min        0.000000\n",
       "25%        2.000000\n",
       "50%        3.000000\n",
       "75%        3.000000\n",
       "max        4.000000\n",
       "Name: fedu, dtype: float64"
      ]
     },
     "execution_count": 93,
     "metadata": {},
     "output_type": "execute_result"
    }
   ],
   "source": [
    "sm.fedu.describe() "
   ]
  },
  {
   "cell_type": "code",
   "execution_count": 94,
   "metadata": {},
   "outputs": [],
   "source": [
    "sm.fedu.fillna(3, inplace=True)"
   ]
  },
  {
   "cell_type": "code",
   "execution_count": 95,
   "metadata": {},
   "outputs": [
    {
     "name": "stdout",
     "output_type": "stream",
     "text": [
      "Cтатистически значимые различия для колонки fedu не найдены\n"
     ]
    }
   ],
   "source": [
    "get_stat_dif1(sm, 'fedu', met='score')"
   ]
  },
  {
   "cell_type": "markdown",
   "metadata": {},
   "source": [
    "Зависимость образования отца явно не влияет на оценку.\n",
    "\n",
    "Не будем использовать для модели."
   ]
  },
  {
   "cell_type": "markdown",
   "metadata": {},
   "source": [
    "#########################################################################################################################"
   ]
  },
  {
   "cell_type": "markdown",
   "metadata": {},
   "source": [
    "### Информация о столбце \"mjob\" работа матери ('teacher' - учитель, 'health' - сфера здравоохранения, 'services' - гос служба, 'at_home' - не работает, 'other' - другое)"
   ]
  },
  {
   "cell_type": "code",
   "execution_count": 96,
   "metadata": {},
   "outputs": [
    {
     "name": "stdout",
     "output_type": "stream",
     "text": [
      "В колонке mjob - 4.9 % пропусков, это 19 значений Nan\n"
     ]
    }
   ],
   "source": [
    "empty_count(sm, 'mjob')"
   ]
  },
  {
   "cell_type": "code",
   "execution_count": 97,
   "metadata": {},
   "outputs": [
    {
     "data": {
      "text/plain": [
       "<matplotlib.axes._subplots.AxesSubplot at 0x24c9d7ef730>"
      ]
     },
     "execution_count": 97,
     "metadata": {},
     "output_type": "execute_result"
    },
    {
     "data": {
      "image/png": "[encoded data removed]",
      "text/plain": [
       "<Figure size 432x288 with 1 Axes>"
      ]
     },
     "metadata": {},
     "output_type": "display_data"
    }
   ],
   "source": [
    "sm.mjob.hist(bins=5)"
   ]
  },
  {
   "cell_type": "code",
   "execution_count": 98,
   "metadata": {},
   "outputs": [
    {
     "data": {
      "text/plain": [
       "other       126\n",
       "services     97\n",
       "at_home      58\n",
       "teacher      55\n",
       "health       32\n",
       "Name: mjob, dtype: int64"
      ]
     },
     "execution_count": 98,
     "metadata": {},
     "output_type": "execute_result"
    }
   ],
   "source": [
    "sm.mjob.value_counts()"
   ]
  },
  {
   "cell_type": "code",
   "execution_count": 99,
   "metadata": {},
   "outputs": [
    {
     "data": {
      "image/png": "[encoded data removed]",
      "text/plain": [
       "<Figure size 432x288 with 1 Axes>"
      ]
     },
     "metadata": {},
     "output_type": "display_data"
    }
   ],
   "source": [
    "boxan(sm, 'mjob', 'score', 'Вид деятельности')\n"
   ]
  },
  {
   "cell_type": "markdown",
   "metadata": {},
   "source": [
    "Медианное значение оценки для работы матери в сфере здравоохранения, выше чем, для других. Некоторая зависимость прослеживается. \n"
   ]
  },
  {
   "cell_type": "code",
   "execution_count": 100,
   "metadata": {
    "scrolled": true
   },
   "outputs": [
    {
     "data": {
      "text/html": [
       "<div>\n",
       "<style scoped>\n",
       "    .dataframe tbody tr th:only-of-type {\n",
       "        vertical-align: middle;\n",
       "    }\n",
       "\n",
       "    .dataframe tbody tr th {\n",
       "        vertical-align: top;\n",
       "    }\n",
       "\n",
       "    .dataframe thead tr th {\n",
       "        text-align: left;\n",
       "    }\n",
       "\n",
       "    .dataframe thead tr:last-of-type th {\n",
       "        text-align: right;\n",
       "    }\n",
       "</style>\n",
       "<table border=\"1\" class=\"dataframe\">\n",
       "  <thead>\n",
       "    <tr>\n",
       "      <th></th>\n",
       "      <th></th>\n",
       "      <th></th>\n",
       "      <th colspan=\"5\" halign=\"left\">score</th>\n",
       "    </tr>\n",
       "    <tr>\n",
       "      <th></th>\n",
       "      <th></th>\n",
       "      <th>mjob</th>\n",
       "      <th>at_home</th>\n",
       "      <th>health</th>\n",
       "      <th>other</th>\n",
       "      <th>services</th>\n",
       "      <th>teacher</th>\n",
       "    </tr>\n",
       "    <tr>\n",
       "      <th>higher</th>\n",
       "      <th>paid</th>\n",
       "      <th>famsup</th>\n",
       "      <th></th>\n",
       "      <th></th>\n",
       "      <th></th>\n",
       "      <th></th>\n",
       "      <th></th>\n",
       "    </tr>\n",
       "  </thead>\n",
       "  <tbody>\n",
       "    <tr>\n",
       "      <th rowspan=\"2\" valign=\"top\">no</th>\n",
       "      <th rowspan=\"2\" valign=\"top\">no</th>\n",
       "      <th>no</th>\n",
       "      <td>60.0</td>\n",
       "      <td>NaN</td>\n",
       "      <td>0.0</td>\n",
       "      <td>40.0</td>\n",
       "      <td>NaN</td>\n",
       "    </tr>\n",
       "    <tr>\n",
       "      <th>yes</th>\n",
       "      <td>65.0</td>\n",
       "      <td>NaN</td>\n",
       "      <td>NaN</td>\n",
       "      <td>60.0</td>\n",
       "      <td>NaN</td>\n",
       "    </tr>\n",
       "    <tr>\n",
       "      <th rowspan=\"4\" valign=\"top\">yes</th>\n",
       "      <th rowspan=\"2\" valign=\"top\">no</th>\n",
       "      <th>no</th>\n",
       "      <td>80.0</td>\n",
       "      <td>100.0</td>\n",
       "      <td>95.0</td>\n",
       "      <td>90.0</td>\n",
       "      <td>95.0</td>\n",
       "    </tr>\n",
       "    <tr>\n",
       "      <th>yes</th>\n",
       "      <td>50.0</td>\n",
       "      <td>70.0</td>\n",
       "      <td>80.0</td>\n",
       "      <td>90.0</td>\n",
       "      <td>90.0</td>\n",
       "    </tr>\n",
       "    <tr>\n",
       "      <th rowspan=\"2\" valign=\"top\">yes</th>\n",
       "      <th>no</th>\n",
       "      <td>50.0</td>\n",
       "      <td>75.0</td>\n",
       "      <td>75.0</td>\n",
       "      <td>90.0</td>\n",
       "      <td>90.0</td>\n",
       "    </tr>\n",
       "    <tr>\n",
       "      <th>yes</th>\n",
       "      <td>95.0</td>\n",
       "      <td>90.0</td>\n",
       "      <td>75.0</td>\n",
       "      <td>95.0</td>\n",
       "      <td>80.0</td>\n",
       "    </tr>\n",
       "  </tbody>\n",
       "</table>\n",
       "</div>"
      ],
      "text/plain": [
       "                     score                              \n",
       "mjob               at_home health other services teacher\n",
       "higher paid famsup                                      \n",
       "no     no   no        60.0    NaN   0.0     40.0     NaN\n",
       "            yes       65.0    NaN   NaN     60.0     NaN\n",
       "yes    no   no        80.0  100.0  95.0     90.0    95.0\n",
       "            yes       50.0   70.0  80.0     90.0    90.0\n",
       "       yes  no        50.0   75.0  75.0     90.0    90.0\n",
       "            yes       95.0   90.0  75.0     95.0    80.0"
      ]
     },
     "execution_count": 100,
     "metadata": {},
     "output_type": "execute_result"
    }
   ],
   "source": [
    "per_3 = sm.pivot_table(index=['higher', 'paid', 'famsup'],\n",
    "                      columns=['mjob'],\n",
    "                      values=['score'],\n",
    "                      aggfunc='max')\n",
    "per_3"
   ]
  },
  {
   "cell_type": "markdown",
   "metadata": {},
   "source": [
    "Видно, что при желании получить вышку можно достигнуть такой оценки. Верхний выброс - допустимый.\n",
    "\n",
    "Проверка на стат.значимость (без Nan)\n"
   ]
  },
  {
   "cell_type": "code",
   "execution_count": 101,
   "metadata": {},
   "outputs": [
    {
     "name": "stdout",
     "output_type": "stream",
     "text": [
      "Найдены статистически значимые различия для колонки mjob\n"
     ]
    }
   ],
   "source": [
    "get_stat_dif1(sm, 'mjob', met='score')"
   ]
  },
  {
   "cell_type": "markdown",
   "metadata": {},
   "source": [
    "Остаются пустые значения. Заменим модой, к тому же, мода здсь означает большинство профессий в целом."
   ]
  },
  {
   "cell_type": "code",
   "execution_count": 102,
   "metadata": {},
   "outputs": [],
   "source": [
    "desc_obj(sm.mjob)"
   ]
  },
  {
   "cell_type": "markdown",
   "metadata": {},
   "source": [
    "Повторная проверка на стат. значимость"
   ]
  },
  {
   "cell_type": "code",
   "execution_count": 103,
   "metadata": {},
   "outputs": [
    {
     "name": "stdout",
     "output_type": "stream",
     "text": [
      "Найдены статистически значимые различия для колонки mjob\n"
     ]
    }
   ],
   "source": [
    "get_stat_dif1(sm, 'mjob', met='score')"
   ]
  },
  {
   "cell_type": "markdown",
   "metadata": {},
   "source": [
    "Вывод: визуальная и статистическая зависимоть наблюдается. Профессия в сфере здравоохранения все-таки давольна узкая, не будем считать ее значимой. \n",
    "\n",
    "Будем использовать для модели."
   ]
  },
  {
   "cell_type": "markdown",
   "metadata": {},
   "source": [
    "#########################################################################################################################"
   ]
  },
  {
   "cell_type": "markdown",
   "metadata": {},
   "source": [
    "### Информация о столбце \"fjob\" работа отца ('teacher' - учитель, 'health' - сфера здравоохранения, 'services' - гос служба, 'at_home' - не работает, 'other' - другое)"
   ]
  },
  {
   "cell_type": "code",
   "execution_count": 104,
   "metadata": {},
   "outputs": [
    {
     "name": "stdout",
     "output_type": "stream",
     "text": [
      "В колонке fjob - 9.3 % пропусков, это 36 значений Nan\n"
     ]
    }
   ],
   "source": [
    "empty_count(sm, 'fjob')"
   ]
  },
  {
   "cell_type": "code",
   "execution_count": 105,
   "metadata": {},
   "outputs": [
    {
     "data": {
      "text/plain": [
       "<matplotlib.axes._subplots.AxesSubplot at 0x24c9ee1e160>"
      ]
     },
     "execution_count": 105,
     "metadata": {},
     "output_type": "execute_result"
    },
    {
     "data": {
      "image/png": "[encoded data removed]",
      "text/plain": [
       "<Figure size 432x288 with 1 Axes>"
      ]
     },
     "metadata": {},
     "output_type": "display_data"
    }
   ],
   "source": [
    "sm.fjob.hist(bins=5)"
   ]
  },
  {
   "cell_type": "code",
   "execution_count": 106,
   "metadata": {},
   "outputs": [
    {
     "data": {
      "image/png": "[encoded data removed]",
      "text/plain": [
       "<Figure size 432x288 with 1 Axes>"
      ]
     },
     "metadata": {},
     "output_type": "display_data"
    }
   ],
   "source": [
    "boxan(sm, 'fjob', 'score', 'Вид деятельности')"
   ]
  },
  {
   "cell_type": "markdown",
   "metadata": {},
   "source": [
    "Если отец учитель, то получать плохие оценки не хорошо. А в остальном работа отца слабо влияет на оценку (наверно потому, что он всегда на работе)\n",
    "\n",
    "Проверка на стат. значимость (без Nan)\n"
   ]
  },
  {
   "cell_type": "code",
   "execution_count": 107,
   "metadata": {},
   "outputs": [
    {
     "name": "stdout",
     "output_type": "stream",
     "text": [
      "Cтатистически значимые различия для колонки fjob не найдены\n"
     ]
    }
   ],
   "source": [
    "get_stat_dif1(sm, 'fjob', met='score')"
   ]
  },
  {
   "cell_type": "markdown",
   "metadata": {},
   "source": [
    "Заменим пустые значения заменим модой."
   ]
  },
  {
   "cell_type": "code",
   "execution_count": 108,
   "metadata": {},
   "outputs": [],
   "source": [
    "desc_obj(sm.fjob)"
   ]
  },
  {
   "cell_type": "code",
   "execution_count": 109,
   "metadata": {},
   "outputs": [
    {
     "name": "stdout",
     "output_type": "stream",
     "text": [
      "Cтатистически значимые различия для колонки fjob не найдены\n"
     ]
    }
   ],
   "source": [
    "get_stat_dif1(sm, 'fjob', met='score')"
   ]
  },
  {
   "cell_type": "markdown",
   "metadata": {},
   "source": [
    "Вывод: по аналогии с профессией матери, какая-то одна (пускай даже более-менее значимая визуально)не может быть значимой для целевой перменной. \n",
    "\n",
    "Не будем использовать для модели."
   ]
  },
  {
   "cell_type": "markdown",
   "metadata": {},
   "source": [
    "#########################################################################################################################"
   ]
  },
  {
   "cell_type": "markdown",
   "metadata": {},
   "source": [
    "### Информация о столбце reason - причина выбора школы ('home' - близость к дому, 'reputation' - репутация школы, 'course' - образовательная программа, 'other' - другое)"
   ]
  },
  {
   "cell_type": "code",
   "execution_count": 110,
   "metadata": {},
   "outputs": [
    {
     "name": "stdout",
     "output_type": "stream",
     "text": [
      "В колонке reason - 4.4 % пропусков, это 17 значений Nan\n"
     ]
    }
   ],
   "source": [
    "empty_count(sm, 'reason')"
   ]
  },
  {
   "cell_type": "code",
   "execution_count": 111,
   "metadata": {},
   "outputs": [
    {
     "data": {
      "text/plain": [
       "<matplotlib.axes._subplots.AxesSubplot at 0x24c9ef15250>"
      ]
     },
     "execution_count": 111,
     "metadata": {},
     "output_type": "execute_result"
    },
    {
     "data": {
      "image/png": "[encoded data removed]",
      "text/plain": [
       "<Figure size 432x288 with 1 Axes>"
      ]
     },
     "metadata": {},
     "output_type": "display_data"
    }
   ],
   "source": [
    "sm.reason.hist(bins=10)"
   ]
  },
  {
   "cell_type": "code",
   "execution_count": 112,
   "metadata": {},
   "outputs": [
    {
     "data": {
      "text/plain": [
       "course        134\n",
       "reputation    102\n",
       "home          101\n",
       "other          33\n",
       "Name: reason, dtype: int64"
      ]
     },
     "execution_count": 112,
     "metadata": {},
     "output_type": "execute_result"
    }
   ],
   "source": [
    "sm.reason.value_counts()"
   ]
  },
  {
   "cell_type": "code",
   "execution_count": 113,
   "metadata": {},
   "outputs": [
    {
     "data": {
      "image/png": "[encoded data removed]",
      "text/plain": [
       "<Figure size 432x288 with 1 Axes>"
      ]
     },
     "metadata": {},
     "output_type": "display_data"
    }
   ],
   "source": [
    "boxan(sm, 'reason', 'score', 'Причина')"
   ]
  },
  {
   "cell_type": "markdown",
   "metadata": {},
   "source": [
    "Явной зависимости нет. Можно отметить, что разность в оценках у тех, кто выбрал школу рядом с домом немного ниже по сравнению с другими. А вот репутация школы и какие-то причины требуют стараний. \n",
    "\n",
    "Проверка на стат. значимость (без Nan)\n"
   ]
  },
  {
   "cell_type": "code",
   "execution_count": 114,
   "metadata": {},
   "outputs": [
    {
     "name": "stdout",
     "output_type": "stream",
     "text": [
      "Cтатистически значимые различия для колонки reason не найдены\n"
     ]
    }
   ],
   "source": [
    "get_stat_dif1(sm, 'reason', met='score')"
   ]
  },
  {
   "cell_type": "markdown",
   "metadata": {},
   "source": [
    "Может это не верно, но я бы здсь пропуски заполнил 'other'. Это, как мне кажется, более логично. "
   ]
  },
  {
   "cell_type": "code",
   "execution_count": 115,
   "metadata": {},
   "outputs": [],
   "source": [
    "sm.reason.fillna('other', inplace=True)"
   ]
  },
  {
   "cell_type": "code",
   "execution_count": 116,
   "metadata": {},
   "outputs": [
    {
     "name": "stdout",
     "output_type": "stream",
     "text": [
      "Cтатистически значимые различия для колонки reason не найдены\n"
     ]
    }
   ],
   "source": [
    "get_stat_dif1(sm, 'reason', met='score')"
   ]
  },
  {
   "cell_type": "markdown",
   "metadata": {},
   "source": [
    "Вывод: Ни визуальных, ни статистических различий нет. \n",
    "\n",
    "Не будем использовать для модели"
   ]
  },
  {
   "cell_type": "markdown",
   "metadata": {},
   "source": [
    "#########################################################################################################################"
   ]
  },
  {
   "cell_type": "markdown",
   "metadata": {},
   "source": [
    "### Информация о стобце guardian - опекун ('mother' - мать, 'father' - отец, 'other' - другое)"
   ]
  },
  {
   "cell_type": "code",
   "execution_count": 126,
   "metadata": {},
   "outputs": [
    {
     "name": "stdout",
     "output_type": "stream",
     "text": [
      "В колонке guardian - 7.8 % пропусков, это 30 значений Nan\n"
     ]
    }
   ],
   "source": [
    "empty_count(sm, 'guardian')"
   ]
  },
  {
   "cell_type": "code",
   "execution_count": 127,
   "metadata": {},
   "outputs": [
    {
     "data": {
      "text/plain": [
       "<matplotlib.axes._subplots.AxesSubplot at 0x24c9d1e96a0>"
      ]
     },
     "execution_count": 127,
     "metadata": {},
     "output_type": "execute_result"
    },
    {
     "data": {
      "image/png": "[encoded data removed]",
      "text/plain": [
       "<Figure size 432x288 with 1 Axes>"
      ]
     },
     "metadata": {},
     "output_type": "display_data"
    }
   ],
   "source": [
    "sm.guardian.hist(bins=10)"
   ]
  },
  {
   "cell_type": "code",
   "execution_count": 128,
   "metadata": {},
   "outputs": [
    {
     "data": {
      "text/plain": [
       "mother    247\n",
       "father     86\n",
       "other      24\n",
       "Name: guardian, dtype: int64"
      ]
     },
     "execution_count": 128,
     "metadata": {},
     "output_type": "execute_result"
    }
   ],
   "source": [
    "sm.guardian.value_counts()"
   ]
  },
  {
   "cell_type": "code",
   "execution_count": 129,
   "metadata": {},
   "outputs": [
    {
     "data": {
      "image/png": "[encoded data removed]",
      "text/plain": [
       "<Figure size 432x288 with 1 Axes>"
      ]
     },
     "metadata": {},
     "output_type": "display_data"
    }
   ],
   "source": [
    "boxan(sm, 'guardian', 'score', 'Опекун')"
   ]
  },
  {
   "cell_type": "markdown",
   "metadata": {},
   "source": [
    "Явной зависимсоти нет. Ну можно сказать, что у тех учеников у кого опекун отец большинство оценок побольше (ну отцы же строже), а больше результатов у матерей (оно и ясно, отцы же на работе). Другие опекуны - результат немного ниже, может это бабушка или дедушка. \n",
    "\n",
    "Проверка на стат. значимость (без Nan)\n"
   ]
  },
  {
   "cell_type": "code",
   "execution_count": 130,
   "metadata": {},
   "outputs": [
    {
     "name": "stdout",
     "output_type": "stream",
     "text": [
      "Cтатистически значимые различия для колонки guardian не найдены\n"
     ]
    }
   ],
   "source": [
    "get_stat_dif1(sm, 'guardian', met='score')"
   ]
  },
  {
   "cell_type": "markdown",
   "metadata": {},
   "source": [
    "Пропусков почти 8% - заполнять такое - рисковать. Удалим столбец. (Но если бы заменял то на \"mother\")."
   ]
  },
  {
   "cell_type": "code",
   "execution_count": 131,
   "metadata": {},
   "outputs": [],
   "source": [
    "sm.drop(labels = ['guardian'], axis=1, inplace=True)"
   ]
  },
  {
   "cell_type": "markdown",
   "metadata": {},
   "source": [
    "#########################################################################################################################"
   ]
  },
  {
   "cell_type": "markdown",
   "metadata": {},
   "source": [
    "### Информация о столбце  traveltime (1 (<15), 2 (15-30), 3 (30-60), 4 (>60), минут) "
   ]
  },
  {
   "cell_type": "code",
   "execution_count": 132,
   "metadata": {},
   "outputs": [
    {
     "name": "stdout",
     "output_type": "stream",
     "text": [
      "В колонке traveltime - 7.2 % пропусков, это 28 значений Nan\n"
     ]
    }
   ],
   "source": [
    "empty_count(sm, 'traveltime')"
   ]
  },
  {
   "cell_type": "code",
   "execution_count": 133,
   "metadata": {},
   "outputs": [
    {
     "data": {
      "text/plain": [
       "<matplotlib.axes._subplots.AxesSubplot at 0x24c9d1fbf70>"
      ]
     },
     "execution_count": 133,
     "metadata": {},
     "output_type": "execute_result"
    },
    {
     "data": {
      "image/png": "[encoded data removed]",
      "text/plain": [
       "<Figure size 432x288 with 1 Axes>"
      ]
     },
     "metadata": {},
     "output_type": "display_data"
    }
   ],
   "source": [
    "sm.traveltime.hist(bins=5)"
   ]
  },
  {
   "cell_type": "code",
   "execution_count": 134,
   "metadata": {},
   "outputs": [
    {
     "data": {
      "text/plain": [
       "1.0    237\n",
       "2.0     94\n",
       "3.0     21\n",
       "4.0      7\n",
       "Name: traveltime, dtype: int64"
      ]
     },
     "execution_count": 134,
     "metadata": {},
     "output_type": "execute_result"
    }
   ],
   "source": [
    "sm.traveltime.value_counts()"
   ]
  },
  {
   "cell_type": "code",
   "execution_count": 135,
   "metadata": {},
   "outputs": [
    {
     "data": {
      "image/png": "[encoded data removed]",
      "text/plain": [
       "<Figure size 432x288 with 1 Axes>"
      ]
     },
     "metadata": {},
     "output_type": "display_data"
    }
   ],
   "source": [
    "boxan(sm, 'traveltime', 'score', '1 (<15), 2 (15-30), 3 (30-60), 4 (>60), мин')"
   ]
  },
  {
   "cell_type": "markdown",
   "metadata": {},
   "source": [
    "Время в пути до школы не оказывает особого влияния. Максимальная и минимальная оценка для пути более 60 минут оказалась вбросом. Но здесь, скорее всего нужно искать свзять с другими признаками. \n",
    "\n",
    "Проверка на стат. значимость (без Nan)\n",
    "\n"
   ]
  },
  {
   "cell_type": "code",
   "execution_count": 136,
   "metadata": {},
   "outputs": [
    {
     "name": "stdout",
     "output_type": "stream",
     "text": [
      "Cтатистически значимые различия для колонки traveltime не найдены\n"
     ]
    }
   ],
   "source": [
    "get_stat_dif1(sm, 'traveltime', met='score')"
   ]
  },
  {
   "cell_type": "markdown",
   "metadata": {},
   "source": [
    "7% пустых значений, медиана почти равная... Заменим пустые значения на 2 и посмотрим, что изменится. На 2 потому, что большинство учеников в городе, выбор в пользу школы у дома на 2 месте, все не могут жить очень рядом со школой, оптимально около 30 минут.  "
   ]
  },
  {
   "cell_type": "code",
   "execution_count": 137,
   "metadata": {},
   "outputs": [],
   "source": [
    "sm.traveltime.fillna(2, inplace=True)"
   ]
  },
  {
   "cell_type": "code",
   "execution_count": 138,
   "metadata": {},
   "outputs": [
    {
     "data": {
      "image/png": "[encoded data removed]",
      "text/plain": [
       "<Figure size 432x288 with 1 Axes>"
      ]
     },
     "metadata": {},
     "output_type": "display_data"
    }
   ],
   "source": [
    "boxan(sm, 'traveltime', 'score', '1 (<15), 2 (15-30), 3 (30-60), 4 (>60)')"
   ]
  },
  {
   "cell_type": "code",
   "execution_count": 139,
   "metadata": {},
   "outputs": [
    {
     "name": "stdout",
     "output_type": "stream",
     "text": [
      "Cтатистически значимые различия для колонки traveltime не найдены\n"
     ]
    }
   ],
   "source": [
    "get_stat_dif1(sm, 'traveltime', met='score')"
   ]
  },
  {
   "cell_type": "markdown",
   "metadata": {},
   "source": [
    "sm.drop(labels = ['traveltime'], axis=1, inplace=True)"
   ]
  },
  {
   "cell_type": "markdown",
   "metadata": {},
   "source": [
    "#########################################################################################################################"
   ]
  },
  {
   "cell_type": "markdown",
   "metadata": {},
   "source": [
    "### Информация о столбце studytime — время на учёбу помимо школы в неделю (1 - <2 часов, 2 - 2-5 часов, 3 - 5-10 часов, 4 - >10 часов) и stadytime_g"
   ]
  },
  {
   "cell_type": "code",
   "execution_count": 140,
   "metadata": {},
   "outputs": [
    {
     "name": "stdout",
     "output_type": "stream",
     "text": [
      "В колонке studytime - 1.8 % пропусков, это 7 значений Nan\n"
     ]
    }
   ],
   "source": [
    "empty_count(sm, 'studytime')"
   ]
  },
  {
   "cell_type": "code",
   "execution_count": 141,
   "metadata": {},
   "outputs": [
    {
     "name": "stdout",
     "output_type": "stream",
     "text": [
      "В колонке studytime_s - 1.8 % пропусков, это 7 значений Nan\n"
     ]
    }
   ],
   "source": [
    "empty_count(sm, 'studytime_s')"
   ]
  },
  {
   "cell_type": "code",
   "execution_count": 142,
   "metadata": {},
   "outputs": [
    {
     "name": "stdout",
     "output_type": "stream",
     "text": [
      "2.0    189\n",
      "1.0    101\n",
      "3.0     63\n",
      "4.0     27\n",
      "Name: studytime, dtype: int64\n",
      "-6.0     189\n",
      "-3.0     101\n",
      "-9.0      63\n",
      "-12.0     27\n",
      "Name: studytime_s, dtype: int64\n"
     ]
    }
   ],
   "source": [
    "print(sm.studytime.value_counts())\n",
    "print(sm.studytime_s.value_counts())"
   ]
  },
  {
   "cell_type": "code",
   "execution_count": 143,
   "metadata": {},
   "outputs": [
    {
     "data": {
      "text/plain": [
       "Text(0, 0.5, 'Оценка по экзамену')"
      ]
     },
     "execution_count": 143,
     "metadata": {},
     "output_type": "execute_result"
    },
    {
     "data": {
      "image/png": "[encoded data removed]",
      "text/plain": [
       "<Figure size 432x288 with 2 Axes>"
      ]
     },
     "metadata": {},
     "output_type": "display_data"
    }
   ],
   "source": [
    "fig = plt.figure()\n",
    "axes = fig.add_axes([0, 0, 1, 1])\n",
    "axes.set_ylim(-1,110)\n",
    "sns.boxplot(x = sm['studytime'], y = sm['score'])\n",
    "axes.set_xlabel('1-меньше 2 часов, 2- 2-5 часов, 3-5-10 часов, 4 более 10 часов')\n",
    "axes.set_ylabel('Оценка по экзамену')\n",
    "\n",
    "axes2 = fig.add_axes([1.3, 0, 1, 1])\n",
    "axes2.set_ylim(-1,110)\n",
    "sns.boxplot(x = sm['studytime_s'], y = sm['score'])\n",
    "axes2.set_xlabel('None')\n",
    "axes2.set_ylabel('Оценка по экзамену')"
   ]
  },
  {
   "cell_type": "markdown",
   "metadata": {},
   "source": [
    "Судя по графикам это зеркальное отображение колонки studytime. Вполне возможно, что это общее время учебы в неделю разбитое на (в школе/вне школы). С учетом того, что зависимость оценок сохранится, а мы точно не знаем, что означает studytime_s - удалим его. "
   ]
  },
  {
   "cell_type": "code",
   "execution_count": 144,
   "metadata": {},
   "outputs": [],
   "source": [
    "sm.drop(labels = ['studytime_s'], axis=1, inplace=True)"
   ]
  },
  {
   "cell_type": "markdown",
   "metadata": {},
   "source": [
    "Проверка на стат. значимость (без Nan)"
   ]
  },
  {
   "cell_type": "code",
   "execution_count": 145,
   "metadata": {},
   "outputs": [
    {
     "name": "stdout",
     "output_type": "stream",
     "text": [
      "Cтатистически значимые различия для колонки studytime не найдены\n"
     ]
    }
   ],
   "source": [
    "get_stat_dif1(sm, 'studytime', met='score')"
   ]
  },
  {
   "cell_type": "markdown",
   "metadata": {},
   "source": [
    "NaN заменим на моду. "
   ]
  },
  {
   "cell_type": "code",
   "execution_count": 146,
   "metadata": {},
   "outputs": [],
   "source": [
    "sm.studytime.fillna(2, inplace=True)"
   ]
  },
  {
   "cell_type": "code",
   "execution_count": 147,
   "metadata": {},
   "outputs": [
    {
     "name": "stdout",
     "output_type": "stream",
     "text": [
      "Cтатистически значимые различия для колонки studytime не найдены\n"
     ]
    }
   ],
   "source": [
    "get_stat_dif1(sm, 'studytime', met='score')"
   ]
  },
  {
   "cell_type": "markdown",
   "metadata": {},
   "source": [
    "Вывод: Те, кто трантит на внеклассное обучение от 5 до 10 часов в неделю более успешны чем остальные. Наверное это оптимальное время. \n",
    "\n",
    "Не будем использовать для модели"
   ]
  },
  {
   "cell_type": "markdown",
   "metadata": {},
   "source": [
    "#########################################################################################################################"
   ]
  },
  {
   "cell_type": "markdown",
   "metadata": {},
   "source": [
    "### Информация о столбце failures — количество внеучебных неудач (n, если 1<=n<=3, иначе 0)"
   ]
  },
  {
   "cell_type": "code",
   "execution_count": 148,
   "metadata": {},
   "outputs": [
    {
     "name": "stdout",
     "output_type": "stream",
     "text": [
      "В колонке failures - 5.7 % пропусков, это 22 значений Nan\n"
     ]
    }
   ],
   "source": [
    "empty_count(sm, 'failures')"
   ]
  },
  {
   "cell_type": "code",
   "execution_count": 149,
   "metadata": {},
   "outputs": [
    {
     "data": {
      "text/plain": [
       "0.0    290\n",
       "1.0     48\n",
       "2.0     15\n",
       "3.0     12\n",
       "Name: failures, dtype: int64"
      ]
     },
     "execution_count": 149,
     "metadata": {},
     "output_type": "execute_result"
    }
   ],
   "source": [
    "sm.failures.value_counts()"
   ]
  },
  {
   "cell_type": "code",
   "execution_count": 150,
   "metadata": {},
   "outputs": [
    {
     "data": {
      "text/plain": [
       "<matplotlib.axes._subplots.AxesSubplot at 0x24c9f0e62e0>"
      ]
     },
     "execution_count": 150,
     "metadata": {},
     "output_type": "execute_result"
    },
    {
     "data": {
      "image/png": "[encoded data removed]",
      "text/plain": [
       "<Figure size 432x288 with 1 Axes>"
      ]
     },
     "metadata": {},
     "output_type": "display_data"
    }
   ],
   "source": [
    "sm.failures.hist(bins=10)"
   ]
  },
  {
   "cell_type": "code",
   "execution_count": 151,
   "metadata": {},
   "outputs": [
    {
     "data": {
      "image/png": "[encoded data removed]",
      "text/plain": [
       "<Figure size 432x288 with 1 Axes>"
      ]
     },
     "metadata": {},
     "output_type": "display_data"
    }
   ],
   "source": [
    "boxan(sm, 'failures', 'score', 'Количесвто неудач')"
   ]
  },
  {
   "cell_type": "markdown",
   "metadata": {},
   "source": [
    "Очень сильное влияние на оценку по математике. Даже наличие 1 неудачи влияет на оценку. \n",
    "\n",
    "Позже проведем корреляционный тест, а пока оставим.\n"
   ]
  },
  {
   "cell_type": "markdown",
   "metadata": {},
   "source": [
    " Отсуствующие значения заменим модой."
   ]
  },
  {
   "cell_type": "code",
   "execution_count": 152,
   "metadata": {},
   "outputs": [],
   "source": [
    "sm.failures.fillna(0, inplace=True)"
   ]
  },
  {
   "cell_type": "markdown",
   "metadata": {},
   "source": [
    "#########################################################################################################################"
   ]
  },
  {
   "cell_type": "markdown",
   "metadata": {},
   "source": [
    "### Информация о колонках с 16 по 23 (все имеют значения Yes/No)\n",
    "\n",
    "Ообъеденим их в отдельный датасет и поанализируем"
   ]
  },
  {
   "cell_type": "code",
   "execution_count": 153,
   "metadata": {},
   "outputs": [
    {
     "name": "stdout",
     "output_type": "stream",
     "text": [
      "В колонке schoolsup - 2.1 % пропусков, это 8 значений Nan\n",
      "В колонке famsup - 9.8 % пропусков, это 38 значений Nan\n",
      "В колонке paid - 10.1 % пропусков, это 39 значений Nan\n",
      "В колонке activities - 3.6 % пропусков, это 14 значений Nan\n",
      "В колонке nursery - 3.9 % пропусков, это 15 значений Nan\n",
      "В колонке higher - 4.9 % пропусков, это 19 значений Nan\n",
      "В колонке internet - 8.8 % пропусков, это 34 значений Nan\n",
      "В колонке romantic - 8.0 % пропусков, это 31 значений Nan\n"
     ]
    }
   ],
   "source": [
    "sm_YN = sm[['schoolsup', 'famsup', 'paid', 'activities', 'nursery', 'higher', 'internet', 'romantic']]\n",
    "for col in sm_YN.columns:\n",
    "    empty_count(sm, col)\n"
   ]
  },
  {
   "cell_type": "markdown",
   "metadata": {},
   "source": [
    "Пропусков очень много. До принятия решения о замены или удалении посмотрим на зависимость признака и целевой переменной. Для ускорения, проверку сделаем сразу по 4 признака."
   ]
  },
  {
   "cell_type": "code",
   "execution_count": 154,
   "metadata": {},
   "outputs": [],
   "source": [
    "sm_YN['score'] = sm.score # Добавим столбец с оценками "
   ]
  },
  {
   "cell_type": "code",
   "execution_count": 155,
   "metadata": {},
   "outputs": [
    {
     "name": "stdout",
     "output_type": "stream",
     "text": [
      "no     330\n",
      "yes     49\n",
      "Name: schoolsup, dtype: int64\n",
      "yes    216\n",
      "no     133\n",
      "Name: famsup, dtype: int64\n",
      "no     195\n",
      "yes    153\n",
      "Name: paid, dtype: int64\n",
      "yes    192\n",
      "no     181\n",
      "Name: activities, dtype: int64\n"
     ]
    },
    {
     "data": {
      "image/png": "[encoded data removed]",
      "text/plain": [
       "<Figure size 432x288 with 4 Axes>"
      ]
     },
     "metadata": {},
     "output_type": "display_data"
    }
   ],
   "source": [
    "get_box(sm_YN,'schoolsup', 'famsup', 'paid', 'activities', 'score' )"
   ]
  },
  {
   "cell_type": "markdown",
   "metadata": {},
   "source": [
    "1. Доп.образование в школе (schoolsup):\n",
    "Странно, но результаты говорят, что если ученик не получает доп.образования в школе, он успшнее здает экзамен.\n",
    "\n",
    "2. Доп. образование дома (famsup):\n",
    "Пропусков 36 значений, явной зависимости нет. \n",
    "3. Платные курсы по математике:\n",
    "Явной зависимости нет (хотя казалось бы...).\n",
    "\n",
    "4. Дополнительные внеучебные занятия (activities):\n",
    "Визуально прослеживается некоторая зависимость те ученики у которых такие занятия есть в большинстве получают выше медианы.\n"
   ]
  },
  {
   "cell_type": "markdown",
   "metadata": {},
   "source": [
    "Проверим на стат. значимость"
   ]
  },
  {
   "cell_type": "markdown",
   "metadata": {},
   "source": [
    "#### Внимание! Следующая ячейка ресурсоемкая"
   ]
  },
  {
   "cell_type": "code",
   "execution_count": 156,
   "metadata": {},
   "outputs": [
    {
     "name": "stdout",
     "output_type": "stream",
     "text": [
      "Cтатистически значимые различия для колонки schoolsup не найдены\n",
      "Cтатистически значимые различия для колонки famsup не найдены\n",
      "Cтатистически значимые различия для колонки paid не найдены\n",
      "Cтатистически значимые различия для колонки activities не найдены\n"
     ]
    }
   ],
   "source": [
    "get_stat_dif1(sm, 'schoolsup', met='score')\n",
    "get_stat_dif1(sm, 'famsup', met='score')\n",
    "get_stat_dif1(sm, 'paid', met='score')\n",
    "get_stat_dif1(sm, 'activities', met='score')"
   ]
  },
  {
   "cell_type": "code",
   "execution_count": 157,
   "metadata": {},
   "outputs": [],
   "source": [
    "for col in ['schoolsup', 'famsup', 'paid', 'activities']:\n",
    "    desc_obj(sm[col])"
   ]
  },
  {
   "cell_type": "markdown",
   "metadata": {},
   "source": [
    "#### Внимание! Следующая ячейка ресурсоемкая"
   ]
  },
  {
   "cell_type": "code",
   "execution_count": 159,
   "metadata": {},
   "outputs": [
    {
     "name": "stdout",
     "output_type": "stream",
     "text": [
      "Cтатистически значимые различия для колонки schoolsup не найдены\n",
      "Cтатистически значимые различия для колонки famsup не найдены\n",
      "Cтатистически значимые различия для колонки paid не найдены\n",
      "Cтатистически значимые различия для колонки activities не найдены\n"
     ]
    }
   ],
   "source": [
    "get_stat_dif1(sm, 'schoolsup', met='score')\n",
    "get_stat_dif1(sm, 'famsup', met='score')\n",
    "get_stat_dif1(sm, 'paid', met='score')\n",
    "get_stat_dif1(sm, 'activities', met='score')"
   ]
  },
  {
   "cell_type": "markdown",
   "metadata": {},
   "source": [
    "##### Часть 2"
   ]
  },
  {
   "cell_type": "code",
   "execution_count": 160,
   "metadata": {},
   "outputs": [
    {
     "name": "stdout",
     "output_type": "stream",
     "text": [
      "yes    297\n",
      "no      75\n",
      "Name: nursery, dtype: int64\n",
      "yes    350\n",
      "no      18\n",
      "Name: higher, dtype: int64\n",
      "yes    299\n",
      "no      54\n",
      "Name: internet, dtype: int64\n",
      "no     234\n",
      "yes    122\n",
      "Name: romantic, dtype: int64\n"
     ]
    },
    {
     "data": {
      "image/png": "[encoded data removed]",
      "text/plain": [
       "<Figure size 432x288 with 4 Axes>"
      ]
     },
     "metadata": {},
     "output_type": "display_data"
    }
   ],
   "source": [
    "get_box(sm_YN, 'nursery', 'higher', 'internet', 'romantic', 'score')"
   ]
  },
  {
   "cell_type": "markdown",
   "metadata": {},
   "source": [
    "1. Детский садик (nursery):\n",
    "Визуальной зависимости нет.\n",
    "\n",
    "2. Желание получить высшее образование (higher):\n",
    "Визуальняа зависимость явная, кто этого не хочет получает по математике низкую оценку\n",
    ". \n",
    "3. Интернет:\n",
    "Явной зависимости нет.\n",
    "\n",
    "4. Романтические отношения:\n",
    "Визуально прослеживается некоторая зависимость те ученики у которых отношения есть в большинстве получают выше медианы.\n"
   ]
  },
  {
   "cell_type": "markdown",
   "metadata": {},
   "source": [
    "Проверим стат. значимость"
   ]
  },
  {
   "cell_type": "code",
   "execution_count": 161,
   "metadata": {},
   "outputs": [
    {
     "name": "stdout",
     "output_type": "stream",
     "text": [
      "Cтатистически значимые различия для колонки nursery не найдены\n",
      "Найдены статистически значимые различия для колонки higher\n",
      "Cтатистически значимые различия для колонки internet не найдены\n",
      "Найдены статистически значимые различия для колонки romantic\n"
     ]
    }
   ],
   "source": [
    "get_stat_dif1(sm, 'nursery', met='score')\n",
    "get_stat_dif1(sm, 'higher', met='score')\n",
    "get_stat_dif1(sm, 'internet', met='score')\n",
    "get_stat_dif1(sm, 'romantic', met='score')"
   ]
  },
  {
   "cell_type": "markdown",
   "metadata": {},
   "source": [
    "Заменим на моду"
   ]
  },
  {
   "cell_type": "code",
   "execution_count": 162,
   "metadata": {},
   "outputs": [],
   "source": [
    "for col in ['nursery', 'higher', 'internet', 'romantic']:\n",
    "    desc_obj(sm[col])"
   ]
  },
  {
   "cell_type": "code",
   "execution_count": 163,
   "metadata": {},
   "outputs": [
    {
     "name": "stdout",
     "output_type": "stream",
     "text": [
      "Cтатистически значимые различия для колонки nursery не найдены\n",
      "Найдены статистически значимые различия для колонки higher\n",
      "Cтатистически значимые различия для колонки internet не найдены\n",
      "Найдены статистически значимые различия для колонки romantic\n"
     ]
    }
   ],
   "source": [
    "get_stat_dif1(sm, 'nursery', met='score')\n",
    "get_stat_dif1(sm, 'higher', met='score')\n",
    "get_stat_dif1(sm, 'internet', met='score')\n",
    "get_stat_dif1(sm, 'romantic', met='score')"
   ]
  },
  {
   "cell_type": "markdown",
   "metadata": {},
   "source": [
    "Вывод по метрикам 16-23:\n",
    "\n",
    "Визуально и логично предположить, что желание получить высшее образование может повлиять на оценку по математике. Поэтому колонку 'higher' я оставлю для модели. Также тетс показал, что есть статистическая значимость для колонки romantic"
   ]
  },
  {
   "cell_type": "markdown",
   "metadata": {},
   "source": [
    "#########################################################################################################################"
   ]
  },
  {
   "cell_type": "markdown",
   "metadata": {},
   "source": [
    "### Информация о колонках с 24 по 27 (все имеют значения от 1 (очень плохо/мало)  до 5 (очень хорошо/много))\n",
    "\n",
    "Ообъеденим их в отдельный датасет и поанализируем"
   ]
  },
  {
   "cell_type": "code",
   "execution_count": 164,
   "metadata": {},
   "outputs": [
    {
     "name": "stdout",
     "output_type": "stream",
     "text": [
      "В колонке famrel - 7.0 % пропусков, это 27 значений Nan\n",
      "В колонке freetime - 2.3 % пропусков, это 9 значений Nan\n",
      "В колонке goout - 1.8 % пропусков, это 7 значений Nan\n",
      "В колонке health - 3.9 % пропусков, это 15 значений Nan\n"
     ]
    }
   ],
   "source": [
    "sm_OtF = sm[['famrel', 'freetime', 'goout', 'health']]\n",
    "for col in sm_OtF.columns:\n",
    "    empty_count(sm, col)"
   ]
  },
  {
   "cell_type": "code",
   "execution_count": 165,
   "metadata": {},
   "outputs": [],
   "source": [
    "sm_OtF['score'] = sm.score # Добавим столбец с оценками "
   ]
  },
  {
   "cell_type": "code",
   "execution_count": 168,
   "metadata": {},
   "outputs": [
    {
     "name": "stdout",
     "output_type": "stream",
     "text": [
      " 4.0    178\n",
      " 5.0     95\n",
      " 3.0     62\n",
      " 2.0     17\n",
      " 1.0      7\n",
      "-1.0      1\n",
      "Name: famrel, dtype: int64\n",
      "3.0    152\n",
      "4.0    109\n",
      "2.0     63\n",
      "5.0     36\n",
      "1.0     18\n",
      "Name: freetime, dtype: int64\n",
      "3.0    125\n",
      "2.0    101\n",
      "4.0     81\n",
      "5.0     50\n",
      "1.0     23\n",
      "Name: goout, dtype: int64\n",
      "5.0    137\n",
      "3.0     87\n",
      "4.0     60\n",
      "1.0     46\n",
      "2.0     42\n",
      "Name: health, dtype: int64\n"
     ]
    },
    {
     "data": {
      "image/png": "[encoded data removed]",
      "text/plain": [
       "<Figure size 432x288 with 4 Axes>"
      ]
     },
     "metadata": {},
     "output_type": "display_data"
    }
   ],
   "source": [
    "get_box(sm_OtF,'famrel', 'freetime', 'goout', 'health', 'score' )"
   ]
  },
  {
   "cell_type": "markdown",
   "metadata": {},
   "source": [
    "1. Семейные отношения (famrel):\n",
    "Значение равное -1 это выброс, удалим его. Плохие отношения - выше результат, но количесвто таких учеников мало. Наверное здесь играет роль мотивация к лучшей жизни через образование. \n",
    "Очень одинаково выглядят результаты как для значения famrel 2 (плохо) и 5 (очень хорошо). Это странно.\n",
    "\n",
    "\n",
    "2. Свободное время после школ(freetime):\n",
    "А здесь визуально прослеживается легкая зависимость. В целом чем больше свободного времени после школы, тем результат выше. \n",
    "\n",
    "\n",
    "3. Время проведенное с друзьями (goout):\n",
    "Есть визуальная зависимость - чем больше времени тратистя на посиделки с друзьями тем оценка ниже. \n",
    "\n",
    "\n",
    "4. Текущее состояние здоровься (health):\n",
    "Есть визуальная зависимость. У учеников с очень плохим здоровьем медиана выше, чем у других. А остальные степени состояния здоровья явной зависимости не вызывают.\n"
   ]
  },
  {
   "cell_type": "code",
   "execution_count": 169,
   "metadata": {},
   "outputs": [],
   "source": [
    "# Замена выброса в колонке famrel\n",
    "sm.famrel.replace(-1, 1, inplace=True)"
   ]
  },
  {
   "cell_type": "markdown",
   "metadata": {},
   "source": [
    "Проверим на стат. значимость"
   ]
  },
  {
   "cell_type": "code",
   "execution_count": 170,
   "metadata": {},
   "outputs": [
    {
     "name": "stdout",
     "output_type": "stream",
     "text": [
      "Cтатистически значимые различия для колонки famrel не найдены\n",
      "Cтатистически значимые различия для колонки freetime не найдены\n",
      "Cтатистически значимые различия для колонки goout не найдены\n",
      "Cтатистически значимые различия для колонки health не найдены\n"
     ]
    }
   ],
   "source": [
    "for col in ['famrel', 'freetime', 'goout', 'health']:\n",
    "    get_stat_dif1(sm, col, met='score')"
   ]
  },
  {
   "cell_type": "code",
   "execution_count": 171,
   "metadata": {},
   "outputs": [],
   "source": [
    "for col in ['famrel', 'freetime', 'goout', 'health']:\n",
    "    rew_num_moda(sm[col])"
   ]
  },
  {
   "cell_type": "code",
   "execution_count": 172,
   "metadata": {},
   "outputs": [
    {
     "name": "stdout",
     "output_type": "stream",
     "text": [
      "Cтатистически значимые различия для колонки famrel не найдены\n",
      "Cтатистически значимые различия для колонки freetime не найдены\n",
      "Cтатистически значимые различия для колонки goout не найдены\n",
      "Cтатистически значимые различия для колонки health не найдены\n"
     ]
    }
   ],
   "source": [
    "for col in ['famrel', 'freetime', 'goout', 'health']:\n",
    "    get_stat_dif1(sm, col, met='score')"
   ]
  },
  {
   "cell_type": "markdown",
   "metadata": {},
   "source": [
    "Что ж... Ничего из этого не имеет математически подтвержденной зависимости с величиной оценки по математике. \n",
    "Не будем использовать для модели"
   ]
  },
  {
   "cell_type": "markdown",
   "metadata": {},
   "source": [
    "#########################################################################################################################"
   ]
  },
  {
   "cell_type": "markdown",
   "metadata": {},
   "source": [
    "### Информация о столбце absences количесвто пропущенных занятий."
   ]
  },
  {
   "cell_type": "code",
   "execution_count": 173,
   "metadata": {},
   "outputs": [
    {
     "name": "stdout",
     "output_type": "stream",
     "text": [
      "В колонке absences - 2.8 % пропусков, это 11 значений Nan\n"
     ]
    }
   ],
   "source": [
    "empty_count(sm, 'absences')"
   ]
  },
  {
   "cell_type": "markdown",
   "metadata": {},
   "source": [
    "Числовой стобец. Посмотрим распределение, выбросы"
   ]
  },
  {
   "cell_type": "code",
   "execution_count": 174,
   "metadata": {},
   "outputs": [
    {
     "data": {
      "text/plain": [
       "36"
      ]
     },
     "execution_count": 174,
     "metadata": {},
     "output_type": "execute_result"
    }
   ],
   "source": [
    "sm.absences.nunique()"
   ]
  },
  {
   "cell_type": "code",
   "execution_count": 175,
   "metadata": {},
   "outputs": [
    {
     "data": {
      "text/plain": [
       "count    376.000000\n",
       "mean       7.308511\n",
       "std       23.673119\n",
       "min        0.000000\n",
       "25%        0.000000\n",
       "50%        4.000000\n",
       "75%        8.000000\n",
       "max      385.000000\n",
       "Name: absences, dtype: float64"
      ]
     },
     "execution_count": 175,
     "metadata": {},
     "output_type": "execute_result"
    }
   ],
   "source": [
    "sm.absences.describe()"
   ]
  },
  {
   "cell_type": "markdown",
   "metadata": {},
   "source": [
    "385! Выброс скорее всего."
   ]
  },
  {
   "cell_type": "code",
   "execution_count": 176,
   "metadata": {},
   "outputs": [
    {
     "data": {
      "text/plain": [
       "<matplotlib.axes._subplots.AxesSubplot at 0x24ca0202460>"
      ]
     },
     "execution_count": 176,
     "metadata": {},
     "output_type": "execute_result"
    },
    {
     "data": {
      "image/png": "[encoded data removed]",
      "text/plain": [
       "<Figure size 432x288 with 1 Axes>"
      ]
     },
     "metadata": {},
     "output_type": "display_data"
    }
   ],
   "source": [
    "sm.absences.hist(bins=20)"
   ]
  },
  {
   "cell_type": "code",
   "execution_count": 177,
   "metadata": {},
   "outputs": [
    {
     "data": {
      "image/png": "[encoded data removed]",
      "text/plain": [
       "<Figure size 432x288 with 1 Axes>"
      ]
     },
     "metadata": {},
     "output_type": "display_data"
    }
   ],
   "source": [
    "sm_a = sm[['absences', 'score']]\n",
    "sns.scatterplot(data=sm_a, x=\"absences\", y=\"score\");"
   ]
  },
  {
   "cell_type": "markdown",
   "metadata": {},
   "source": [
    "Больше 50-ти пропусков будем считать выбросами. Уберм их, но пока, что в датасете sm_a"
   ]
  },
  {
   "cell_type": "code",
   "execution_count": 178,
   "metadata": {},
   "outputs": [],
   "source": [
    "sm_a.drop(sm_a[sm_a.absences >50].index, inplace=True)"
   ]
  },
  {
   "cell_type": "code",
   "execution_count": 179,
   "metadata": {},
   "outputs": [
    {
     "data": {
      "image/png": "[encoded data removed]",
      "text/plain": [
       "<Figure size 432x288 with 1 Axes>"
      ]
     },
     "metadata": {},
     "output_type": "display_data"
    }
   ],
   "source": [
    "sns.scatterplot(data=sm_a, x=\"absences\", y=\"score\");"
   ]
  },
  {
   "cell_type": "markdown",
   "metadata": {},
   "source": [
    "Более 30-то пропусков тоже выглядит как выброс."
   ]
  },
  {
   "cell_type": "code",
   "execution_count": 180,
   "metadata": {},
   "outputs": [],
   "source": [
    "sm_a = sm_a.drop(sm_a[sm_a.absences >30].index)"
   ]
  },
  {
   "cell_type": "code",
   "execution_count": 181,
   "metadata": {},
   "outputs": [
    {
     "data": {
      "image/png": "[encoded data removed]",
      "text/plain": [
       "<Figure size 432x288 with 1 Axes>"
      ]
     },
     "metadata": {},
     "output_type": "display_data"
    }
   ],
   "source": [
    "sns.scatterplot(data=sm_a, x=\"absences\", y=\"score\");"
   ]
  },
  {
   "cell_type": "code",
   "execution_count": 182,
   "metadata": {},
   "outputs": [],
   "source": [
    "sm_b = sm_a.astype('Int64') # Для лучшего отображения чисел на графике."
   ]
  },
  {
   "cell_type": "code",
   "execution_count": 183,
   "metadata": {},
   "outputs": [],
   "source": [
    "sm_a = sm_a.sort_values(by='absences')\n",
    "sm_b = sm_b.sort_values(by='absences') # Отсротирум по количеству пропусков. Для боксплота."
   ]
  },
  {
   "cell_type": "code",
   "execution_count": 184,
   "metadata": {},
   "outputs": [
    {
     "data": {
      "image/png": "[encoded data removed]",
      "text/plain": [
       "<Figure size 432x288 with 1 Axes>"
      ]
     },
     "metadata": {},
     "output_type": "display_data"
    }
   ],
   "source": [
    "boxan(sm_b, 'absences', 'score', 'Возраст учеников')"
   ]
  },
  {
   "cell_type": "code",
   "execution_count": 185,
   "metadata": {},
   "outputs": [
    {
     "data": {
      "text/html": [
       "<div>\n",
       "<style scoped>\n",
       "    .dataframe tbody tr th:only-of-type {\n",
       "        vertical-align: middle;\n",
       "    }\n",
       "\n",
       "    .dataframe tbody tr th {\n",
       "        vertical-align: top;\n",
       "    }\n",
       "\n",
       "    .dataframe thead th {\n",
       "        text-align: right;\n",
       "    }\n",
       "</style>\n",
       "<table border=\"1\" class=\"dataframe\">\n",
       "  <thead>\n",
       "    <tr style=\"text-align: right;\">\n",
       "      <th></th>\n",
       "      <th>absences</th>\n",
       "      <th>score</th>\n",
       "    </tr>\n",
       "  </thead>\n",
       "  <tbody>\n",
       "    <tr>\n",
       "      <th>237</th>\n",
       "      <td>20.0</td>\n",
       "      <td>60.0</td>\n",
       "    </tr>\n",
       "    <tr>\n",
       "      <th>304</th>\n",
       "      <td>20.0</td>\n",
       "      <td>65.0</td>\n",
       "    </tr>\n",
       "    <tr>\n",
       "      <th>311</th>\n",
       "      <td>20.0</td>\n",
       "      <td>65.0</td>\n",
       "    </tr>\n",
       "    <tr>\n",
       "      <th>118</th>\n",
       "      <td>20.0</td>\n",
       "      <td>40.0</td>\n",
       "    </tr>\n",
       "  </tbody>\n",
       "</table>\n",
       "</div>"
      ],
      "text/plain": [
       "     absences  score\n",
       "237      20.0   60.0\n",
       "304      20.0   65.0\n",
       "311      20.0   65.0\n",
       "118      20.0   40.0"
      ]
     },
     "execution_count": 185,
     "metadata": {},
     "output_type": "execute_result"
    }
   ],
   "source": [
    "sm_a[sm_a['absences'] == 20]"
   ]
  },
  {
   "cell_type": "markdown",
   "metadata": {},
   "source": [
    "1. Мы видим несколько значений явно выбросы это 21 и 24 пропущеных занятий - получена очень высокая оценка.\n",
    "2. 23 и 25 пропущеных тоже лежат выше большинства медиан. \n",
    "\n",
    "3. Ученики пропустивышие 20 занятий (это 4 значения) получили подозрительно высокие оценки, чем у учеников с 18 и 22 пропущенными \n",
    "\n",
    "\n",
    "Удалим все, что больше 19 пропущных уроков, кроме 21 пропущенного урока."
   ]
  },
  {
   "cell_type": "code",
   "execution_count": 186,
   "metadata": {},
   "outputs": [
    {
     "data": {
      "image/png": "[encoded data removed]",
      "text/plain": [
       "<Figure size 432x288 with 1 Axes>"
      ]
     },
     "metadata": {},
     "output_type": "display_data"
    }
   ],
   "source": [
    "sm_a = sm_a.drop(sm_a[(sm_a.absences>22)|(sm.absences==20)|(sm.absences==21)].index)\n",
    "#sm_a = sm_a.drop(sm_a[sm_a.absences==20].index)\n",
    "#sm_a = sm_a.drop(sm_a[sm_a.absences==21].index) # Так более читаемо чем в одной строке, хотя может это не правильно.\n",
    "sm_a = sm_a.astype('Int64')\n",
    "boxan(sm_a, 'absences', 'score', 'Возраст учеников')"
   ]
  },
  {
   "cell_type": "markdown",
   "metadata": {},
   "source": [
    "Теперь значения лежат в некоторой зависимости. Немного поправим главный датасет, и заменим отсуствующие значения медианой."
   ]
  },
  {
   "cell_type": "code",
   "execution_count": 187,
   "metadata": {},
   "outputs": [],
   "source": [
    "sm.drop(sm[sm.absences>22].index, inplace=True)\n",
    "sm.drop(sm[(sm.absences==20)|(sm.absences==21)].index, inplace=True)"
   ]
  },
  {
   "cell_type": "code",
   "execution_count": 188,
   "metadata": {},
   "outputs": [
    {
     "data": {
      "text/plain": [
       "count    358.000000\n",
       "mean       4.555866\n",
       "std        4.961584\n",
       "min        0.000000\n",
       "25%        0.000000\n",
       "50%        3.500000\n",
       "75%        7.000000\n",
       "max       22.000000\n",
       "Name: absences, dtype: float64"
      ]
     },
     "execution_count": 188,
     "metadata": {},
     "output_type": "execute_result"
    }
   ],
   "source": [
    "sm.absences.describe()"
   ]
  },
  {
   "cell_type": "code",
   "execution_count": 189,
   "metadata": {},
   "outputs": [],
   "source": [
    "sm.absences.fillna(3, inplace=True)"
   ]
  },
  {
   "cell_type": "markdown",
   "metadata": {},
   "source": [
    "#########################################################################################################################"
   ]
  },
  {
   "cell_type": "markdown",
   "metadata": {},
   "source": [
    "### Корреляционные тесты количественных переменных"
   ]
  },
  {
   "cell_type": "code",
   "execution_count": 190,
   "metadata": {},
   "outputs": [
    {
     "data": {
      "text/plain": [
       "<seaborn.axisgrid.PairGrid at 0x24c9d5b12b0>"
      ]
     },
     "execution_count": 190,
     "metadata": {},
     "output_type": "execute_result"
    },
    {
     "data": {
      "image/png": "[encoded data removed]",
      "text/plain": [
       "<Figure size 720x720 with 20 Axes>"
      ]
     },
     "metadata": {},
     "output_type": "display_data"
    }
   ],
   "source": [
    "sm_corr = sm[['age', 'failures', 'absences', 'score']]\n",
    "sns.pairplot(sm_corr, kind='reg')"
   ]
  },
  {
   "cell_type": "code",
   "execution_count": 191,
   "metadata": {},
   "outputs": [
    {
     "data": {
      "text/plain": [
       "<matplotlib.axes._subplots.AxesSubplot at 0x24c9d375a00>"
      ]
     },
     "execution_count": 191,
     "metadata": {},
     "output_type": "execute_result"
    },
    {
     "data": {
      "image/png": "[encoded data removed]",
      "text/plain": [
       "<Figure size 432x288 with 2 Axes>"
      ]
     },
     "metadata": {},
     "output_type": "display_data"
    }
   ],
   "source": [
    "sns.heatmap(sm_corr.corr(), cmap='Blues', annot=True)"
   ]
  },
  {
   "cell_type": "markdown",
   "metadata": {},
   "source": [
    "Все 3 переменные слабоскоррелированы с оценкой по математике. \n",
    "\n",
    "Возраст (age): Заметно снижение оценки с увеличением возраста. (Может увеличивается сложность заданий по математике и в более старших классах уже не так просто получить высокую оценку)\n",
    "\n",
    "Внеучебные неудачи (failures): Самая сильная корреляция из представленных. Видно, что чем больше неудач (знать бы еще какого они рода) тем более низкая оценка по математике. \n",
    "\n",
    "Пропущенные занятия (absences): Вот тут неожиданно. Единственно положительная корреляци. Чем больше занятий пропущено, тем выше оценка. Может у них было домашнее обучение или репетиторство вместо уроков."
   ]
  },
  {
   "cell_type": "markdown",
   "metadata": {},
   "source": [
    "Вывод:\n",
    "Все 3 метрики будем использовать для модели"
   ]
  },
  {
   "cell_type": "markdown",
   "metadata": {},
   "source": [
    "Проверка:"
   ]
  },
  {
   "cell_type": "code",
   "execution_count": 192,
   "metadata": {},
   "outputs": [
    {
     "name": "stdout",
     "output_type": "stream",
     "text": [
      "<class 'pandas.core.frame.DataFrame'>\n",
      "Int64Index: 369 entries, 0 to 394\n",
      "Data columns (total 27 columns):\n",
      " #   Column      Non-Null Count  Dtype  \n",
      "---  ------      --------------  -----  \n",
      " 0   school      369 non-null    object \n",
      " 1   sex         369 non-null    object \n",
      " 2   age         369 non-null    int64  \n",
      " 3   address     369 non-null    object \n",
      " 4   famsize     369 non-null    object \n",
      " 5   medu        369 non-null    float64\n",
      " 6   fedu        369 non-null    float64\n",
      " 7   mjob        369 non-null    object \n",
      " 8   fjob        369 non-null    object \n",
      " 9   reason      369 non-null    object \n",
      " 10  traveltime  369 non-null    float64\n",
      " 11  studytime   369 non-null    float64\n",
      " 12  failures    369 non-null    float64\n",
      " 13  schoolsup   369 non-null    object \n",
      " 14  famsup      369 non-null    object \n",
      " 15  paid        369 non-null    object \n",
      " 16  activities  369 non-null    object \n",
      " 17  nursery     369 non-null    object \n",
      " 18  higher      369 non-null    object \n",
      " 19  internet    369 non-null    object \n",
      " 20  romantic    369 non-null    object \n",
      " 21  famrel      369 non-null    float64\n",
      " 22  freetime    369 non-null    float64\n",
      " 23  goout       369 non-null    float64\n",
      " 24  health      369 non-null    float64\n",
      " 25  absences    369 non-null    float64\n",
      " 26  score       369 non-null    float64\n",
      "dtypes: float64(11), int64(1), object(15)\n",
      "memory usage: 90.7+ KB\n"
     ]
    }
   ],
   "source": [
    "sm.info()"
   ]
  },
  {
   "cell_type": "markdown",
   "metadata": {},
   "source": [
    "# Общий вывод:\n",
    "\n",
    "- В данных присутсвовали пропуски, в некоторых случаях достигающие 11% от всего столбца. Для категориальных данных пропуски заполнялись модой, после проверки на статистическую значимость. Проверка на стат. значимость проводилась дважды (до и после замены пропусков). У количественных данных пропуски также заменялись модой или средним. Общее число количественных данных намного меньше по сравнению с категориальными.\n",
    "\n",
    "- Выброс равный 0 оценки - считается допустимым и не удалялся. (Но тут вопрос к ментору) \n",
    "\n",
    "- Среди категориальных переменных, с помощью теста на стат. значимость, не было обнаружено ни одной зависимости. Однако, я бы выделил признак 'higher', где визуально есть некоторая зависимость и скорее всего он оказывает влияние на оценку по математике.\n",
    "            \n",
    "\n",
    "- Признаки, которые войдут в датасет для построения модели выбраны следующие:\n",
    "           \n",
    "      1 'age'\n",
    "      2 'failures'\n",
    "      3 'absences'\n",
    "      4 'higher'\n",
    "      5 'address'\n",
    "      6 'medu'\n",
    "      7 'mjob'\n",
    "      8 'romantic'\n",
    "Итоговый датасет:"
   ]
  },
  {
   "cell_type": "code",
   "execution_count": 193,
   "metadata": {},
   "outputs": [
    {
     "data": {
      "text/html": [
       "<div>\n",
       "<style scoped>\n",
       "    .dataframe tbody tr th:only-of-type {\n",
       "        vertical-align: middle;\n",
       "    }\n",
       "\n",
       "    .dataframe tbody tr th {\n",
       "        vertical-align: top;\n",
       "    }\n",
       "\n",
       "    .dataframe thead th {\n",
       "        text-align: right;\n",
       "    }\n",
       "</style>\n",
       "<table border=\"1\" class=\"dataframe\">\n",
       "  <thead>\n",
       "    <tr style=\"text-align: right;\">\n",
       "      <th></th>\n",
       "      <th>age</th>\n",
       "      <th>failures</th>\n",
       "      <th>absences</th>\n",
       "      <th>higher</th>\n",
       "      <th>address</th>\n",
       "      <th>medu</th>\n",
       "      <th>mjob</th>\n",
       "      <th>romantic</th>\n",
       "    </tr>\n",
       "  </thead>\n",
       "  <tbody>\n",
       "    <tr>\n",
       "      <th>0</th>\n",
       "      <td>18</td>\n",
       "      <td>0.0</td>\n",
       "      <td>6.0</td>\n",
       "      <td>yes</td>\n",
       "      <td>U</td>\n",
       "      <td>4.0</td>\n",
       "      <td>at_home</td>\n",
       "      <td>no</td>\n",
       "    </tr>\n",
       "    <tr>\n",
       "      <th>1</th>\n",
       "      <td>17</td>\n",
       "      <td>0.0</td>\n",
       "      <td>4.0</td>\n",
       "      <td>yes</td>\n",
       "      <td>U</td>\n",
       "      <td>1.0</td>\n",
       "      <td>at_home</td>\n",
       "      <td>no</td>\n",
       "    </tr>\n",
       "    <tr>\n",
       "      <th>2</th>\n",
       "      <td>15</td>\n",
       "      <td>3.0</td>\n",
       "      <td>10.0</td>\n",
       "      <td>yes</td>\n",
       "      <td>U</td>\n",
       "      <td>1.0</td>\n",
       "      <td>at_home</td>\n",
       "      <td>no</td>\n",
       "    </tr>\n",
       "    <tr>\n",
       "      <th>3</th>\n",
       "      <td>15</td>\n",
       "      <td>0.0</td>\n",
       "      <td>2.0</td>\n",
       "      <td>yes</td>\n",
       "      <td>U</td>\n",
       "      <td>4.0</td>\n",
       "      <td>health</td>\n",
       "      <td>yes</td>\n",
       "    </tr>\n",
       "    <tr>\n",
       "      <th>4</th>\n",
       "      <td>16</td>\n",
       "      <td>0.0</td>\n",
       "      <td>4.0</td>\n",
       "      <td>yes</td>\n",
       "      <td>U</td>\n",
       "      <td>3.0</td>\n",
       "      <td>other</td>\n",
       "      <td>no</td>\n",
       "    </tr>\n",
       "  </tbody>\n",
       "</table>\n",
       "</div>"
      ],
      "text/plain": [
       "   age  failures  absences higher address  medu     mjob romantic\n",
       "0   18       0.0       6.0    yes       U   4.0  at_home       no\n",
       "1   17       0.0       4.0    yes       U   1.0  at_home       no\n",
       "2   15       3.0      10.0    yes       U   1.0  at_home       no\n",
       "3   15       0.0       2.0    yes       U   4.0   health      yes\n",
       "4   16       0.0       4.0    yes       U   3.0    other       no"
      ]
     },
     "execution_count": 193,
     "metadata": {},
     "output_type": "execute_result"
    }
   ],
   "source": [
    "sm_for_model = sm.loc[:, ['age', 'failures', 'absences', 'higher', 'address', 'medu', 'mjob', 'romantic']]\n",
    "sm_for_model.head()\n",
    "                      "
   ]
  },
  {
   "cell_type": "markdown",
   "metadata": {},
   "source": [
    "#########################################################################################################################"
   ]
  },
  {
   "cell_type": "markdown",
   "metadata": {},
   "source": [
    "#########################################################################################################################"
   ]
  },
  {
   "cell_type": "markdown",
   "metadata": {},
   "source": [
    "### Вопросы ментору:"
   ]
  },
  {
   "cell_type": "markdown",
   "metadata": {},
   "source": [
    "#### 1. Что делать с 0 у score?"
   ]
  },
  {
   "cell_type": "markdown",
   "metadata": {},
   "source": [
    "Везде видно, что 0 считается выбросом. И сначла хочется его удлаить. Но это целевая метрика! И как говорили на вебенаре \"если выброс в пределах возможных значенйи (а проваленый тест это какая-никакая, но оценка), то удалять его не нужно\"\n",
    "\n",
    "Что означает 0? Тест не сдавался или набрано меньше чем минимум (судя по всему 20)?\n",
    "Если не сдавался, то эти данные нам мешают, но таких значений с 0 много и зачем их тогда добавлять в датасет изначально.\n",
    "\n",
    "Тут приходит мысль, что в 0 скрыты все значения баллов до 20. (Судя по всему 5, 10, 15), просто если успех это от 20 то все, что меньше имеет только одно значение - ТЕСТ НЕ СДАН. \n",
    "\n",
    "Можно ли в такой ситуации сделать так:\n",
    "\n",
    "Заменить все значения с 0 на, например значение 10? Графики будут более информативны.\n",
    "\n",
    "Все-таки как тут лучше поступить?\n"
   ]
  },
  {
   "cell_type": "code",
   "execution_count": 153,
   "metadata": {},
   "outputs": [],
   "source": [
    "sm_10 = pd.read_csv('stud_math.csv')"
   ]
  },
  {
   "cell_type": "code",
   "execution_count": 161,
   "metadata": {},
   "outputs": [
    {
     "data": {
      "image/png": "[encoded data removed]",
      "text/plain": [
       "<Figure size 432x288 with 1 Axes>"
      ]
     },
     "metadata": {},
     "output_type": "display_data"
    }
   ],
   "source": [
    "sm_10 = sm_10[['age', 'score']]\n",
    "sm_10.score.fillna(0, inplace=True)\n",
    "sm_10.score.replace({0:10}, inplace=True)\n",
    "boxan(sm_10, 'age', 'score', 'Возраст')"
   ]
  },
  {
   "cell_type": "markdown",
   "metadata": {},
   "source": [
    "#### 2. Что делать если визуально есть ЯВНАЯ зависимость, а стат. тест показывает, что ее нет?\n",
    "\n",
    "Как например колонка про высшее образование. И есть логика в этом."
   ]
  },
  {
   "cell_type": "markdown",
   "metadata": {},
   "source": [
    "#### 3. В каких случаях нужно переводить бинарные признаки в 0 и 1? Нужно ли это делать всегда, когда такие попались в датасете?\n",
    " "
   ]
  },
  {
   "cell_type": "markdown",
   "metadata": {},
   "source": [
    "#### 4. Какой тип графиков лучше всего подходит для визуального анализа бинарных (или любых категориальных) признаков? "
   ]
  },
  {
   "cell_type": "markdown",
   "metadata": {},
   "source": [
    "#### 5. Сравнение зависимости одного признака с другим, если ни один из них не являестя целевой переменной имеет смысл? \n",
    "\n",
    "Или это уже выходит за рамки EDA? Просто можно же найти зависимость одного признака на другой, который в свою очередь влияет на целевую переменную. То есть, влияние одного признака на целевую переменную не напрямую, а через другой признак. "
   ]
  },
  {
   "cell_type": "markdown",
   "metadata": {},
   "source": [
    "#### Спасибо."
   ]
  },
  {
   "cell_type": "code",
   "execution_count": null,
   "metadata": {},
   "outputs": [],
   "source": []
  }
 ],
 "metadata": {
  "kernelspec": {
   "display_name": "Python 3",
   "language": "python",
   "name": "python3"
  },
  "language_info": {
   "codemirror_mode": {
    "name": "ipython",
    "version": 3
   },
   "file_extension": ".py",
   "mimetype": "text/x-python",
   "name": "python",
   "nbconvert_exporter": "python",
   "pygments_lexer": "ipython3",
   "version": "3.8.3"
  }
 },
 "nbformat": 4,
 "nbformat_minor": 4
}
