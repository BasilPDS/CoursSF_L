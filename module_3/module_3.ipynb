{
 "cells": [
  {
   "cell_type": "markdown",
   "metadata": {},
   "source": [
    "![](https://www.pata.org/wp-content/uploads/2014/09/TripAdvisor_Logo-300x119.png)\n",
    "# Predict TripAdvisor Rating\n",
    "## В этом соревновании нам предстоит предсказать рейтинг ресторана в TripAdvisor\n",
    "**По ходу задачи:**\n",
    "* Прокачаем работу с pandas\n",
    "* Научимся работать с Kaggle Notebooks\n",
    "* Поймем как делать предобработку различных данных\n",
    "* Научимся работать с пропущенными данными (Nan)\n",
    "* Познакомимся с различными видами кодирования признаков\n",
    "* Немного попробуем [Feature Engineering](https://ru.wikipedia.org/wiki/Конструирование_признаков) (генерировать новые признаки)\n",
    "* И совсем немного затронем ML\n",
    "* И многое другое...   \n",
    "\n",
    "\n",
    "\n",
    "### И самое важное, все это вы сможете сделать самостоятельно!\n",
    "\n",
    "*Этот Ноутбук являетсся Примером/Шаблоном к этому соревнованию (Baseline) и не служит готовым решением!*   \n",
    "Вы можете использовать его как основу для построения своего решения.\n",
    "\n",
    "> что такое baseline решение, зачем оно нужно и почему предоставлять baseline к соревнованию стало важным стандартом на kaggle и других площадках.   \n",
    "**baseline** создается больше как шаблон, где можно посмотреть как происходит обращение с входящими данными и что нужно получить на выходе. При этом МЛ начинка может быть достаточно простой, просто для примера. Это помогает быстрее приступить к самому МЛ, а не тратить ценное время на чисто инженерные задачи. \n",
    "Также baseline являеться хорошей опорной точкой по метрике. Если твое решение хуже baseline - ты явно делаешь что-то не то и стоит попробовать другой путь) \n",
    "\n",
    "В контексте нашего соревнования baseline идет с небольшими примерами того, что можно делать с данными, и с инструкцией, что делать дальше, чтобы улучшить результат.  Вообще готовым решением это сложно назвать, так как используются всего 2 самых простых признака (а остальные исключаются)."
   ]
  },
  {
   "cell_type": "markdown",
   "metadata": {},
   "source": [
    "<a href='#2' > DATA\n",
    "    \n",
    "<a href='#3' > Exploratory data analysis (EDA)\n",
    "    \n",
    "<a href='#4' > Data Preprocessing"
   ]
  },
  {
   "cell_type": "markdown",
   "metadata": {},
   "source": [
    "# import"
   ]
  },
  {
   "cell_type": "code",
   "execution_count": 1,
   "metadata": {
    "_cell_guid": "b1076dfc-b9ad-4769-8c92-a6c4dae69d19",
    "_uuid": "8f2839f25d086af736a60e9eeb907d3b93b6e0e5"
   },
   "outputs": [
    {
     "name": "stdout",
     "output_type": "stream",
     "text": [
      "/kaggle/input/sf-dst-restaurant-rating/sample_submission.csv\n",
      "/kaggle/input/sf-dst-restaurant-rating/main_task.csv\n",
      "/kaggle/input/sf-dst-restaurant-rating/kaggle_task.csv\n"
     ]
    }
   ],
   "source": [
    "# This Python 3 environment comes with many helpful analytics libraries installed\n",
    "# It is defined by the kaggle/python docker image: https://github.com/kaggle/docker-python\n",
    "# For example, here's several helpful packages to load in \n",
    "\n",
    "import re\n",
    "import numpy as np # linear algebra\n",
    "import pandas as pd # data processing, CSV file I/O (e.g. pd.read_csv)\n",
    "from datetime import date\n",
    "\n",
    "import matplotlib.pyplot as plt\n",
    "import seaborn as sns \n",
    "%matplotlib inline\n",
    "\n",
    "# Загружаем специальный удобный инструмент для разделения датасета:\n",
    "from sklearn.model_selection import train_test_split\n",
    "from sklearn.preprocessing import MultiLabelBinarizer # Для кодирования Cuisine Style в dummy-переменные\n",
    "\n",
    "\n",
    "# Инструмены для ML и расчета MAE\n",
    "from sklearn.ensemble import RandomForestRegressor # инструмент для создания и обучения модели\n",
    "from sklearn import metrics # инструменты для оценки точности модели\n",
    "\n",
    "# Input data files are available in the \"../input/\" directory.\n",
    "# For example, running this (by clicking run or pressing Shift+Enter) will list all files under the input directory\n",
    "\n",
    "import os\n",
    "for dirname, _, filenames in os.walk('/kaggle/input'):\n",
    "    for filename in filenames:\n",
    "        print(os.path.join(dirname, filename))\n",
    "\n",
    "# Any results you write to the current directory are saved as output."
   ]
  },
  {
   "cell_type": "code",
   "execution_count": 2,
   "metadata": {},
   "outputs": [],
   "source": [
    "# всегда фиксируйте RANDOM_SEED, чтобы ваши эксперименты были воспроизводимы!\n",
    "RANDOM_SEED = 42"
   ]
  },
  {
   "cell_type": "code",
   "execution_count": 3,
   "metadata": {},
   "outputs": [],
   "source": [
    "# зафиксируем версию пакетов, чтобы эксперименты были воспроизводимы:\n",
    "!pip freeze > requirements.txt"
   ]
  },
  {
   "cell_type": "markdown",
   "metadata": {},
   "source": [
    "# Создание класса"
   ]
  },
  {
   "cell_type": "code",
   "execution_count": 4,
   "metadata": {},
   "outputs": [],
   "source": [
    "class TadRating():\n",
    "    ''' FIXME '''\n",
    "    \n",
    "    def __init__(self, dataframe):\n",
    "        self.dat = dataframe\n",
    "        \n",
    "        \n",
    "        \n",
    "    \n",
    "    def per_none(self):\n",
    "        ''' \n",
    "        Метод который считает процент пропусков в датасете \n",
    "        и рисует график распределения пропусков (Название столбца - процент пропусков)\n",
    "        '''\n",
    "        # Считаем процент пропусков\n",
    "        per_of_skips = pd.DataFrame(1-self.dat.count()/self.dat.shape[0]).reset_index().rename({0: 'percent'}, axis=1)\n",
    "        per_of_skips = per_of_skips.sort_values('percent', ascending=False).query('percent>0')\n",
    "\n",
    "        # Визуализация пропусков\n",
    "        fig, ax = plt.subplots(figsize = (12, 8))\n",
    "        bar_plot = sns.barplot(x='percent', y='index', data=per_of_skips, alpha=0.8, ci=None)\n",
    "        for ytick in bar_plot.get_yticks():\n",
    "            if per_of_skips.iloc[ytick][1]>0:\n",
    "                bar_plot.text(per_of_skips.iloc[ytick][1]+0.0125, ytick, str(round(per_of_skips.iloc[ytick][1]*100,2))+' %', \n",
    "                    horizontalalignment='center',size=10, color='black', weight='semibold')\n",
    "        plt.title('Относительное количество пропусков')\n",
    "        plt.gca().set_xlabel('Процент', fontsize=12)\n",
    "        plt.gca().set_ylabel('Название колонки', fontsize=12)\n",
    "        plt.show()\n",
    "        \n",
    "        \n",
    "    def city_info(self):\n",
    "        ''' \n",
    "        Метод показывающий информацию по колонке City.\n",
    "        Выводит информацию обуникальных городах, количество ресторанов по городам\n",
    "        '''\n",
    "        \n",
    "        print(self.dat['City'].value_counts(ascending=False))\n",
    "        print('##########################################')\n",
    "        print('Всего городов в датасете представлено - {}'.format(len(self.dat['City'].value_counts(ascending=True))))\n",
    "        print('##########################################')\n",
    "        # График \n",
    "        plt.rcParams['figure.figsize'] = (10, 10)\n",
    "        self.dat['City'].value_counts(ascending=True).plot(kind='barh')\n",
    "        plt.gca().set_xlabel('Количество ресторанов', fontsize=18)\n",
    "        plt.gca().set_ylabel('Город', fontsize=18)\n",
    "        plt.title(\"Распределение количества ресторанов по городам\", fontsize=20)\n",
    "        plt.grid(linestyle='--', alpha=0.7)\n",
    "        \n",
    "        \n",
    "        \n",
    "    def draw_bp(self, column):\n",
    "        ''' \n",
    "        Метод для отрисовки боклсплота для конкретного признака\n",
    "        по целевой переменной Rating.\n",
    "        '''\n",
    "\n",
    "        fig, ax = plt.subplots(figsize=(25, 5))\n",
    "        sns.boxplot(x=column, y='Rating', data=self.dat, ax=ax)\n",
    "        ax.set_title('Боксплот для ' + column)\n",
    "        plt.show()\n",
    "        \n",
    "    def cuisine_info(self):\n",
    "        \n",
    "        ''' \n",
    "        Метод показывающий информацию по колонке Cuisine Style.\n",
    "        Выводит информацию о видах кухни представленых их количестве\n",
    "        Неизвестные кухни заменяет на Unknown        \n",
    "        \n",
    "        '''\n",
    "        \n",
    "            \n",
    "        def clean_name(str_val):\n",
    " \n",
    "            '''\n",
    "            Преобразует строку с названиями кухонь в список [list] названий кухонь.\n",
    "            На входе:\n",
    "                - строковая переменная, содержащая названия кухонь.\n",
    "            На выходе:\n",
    "                - список [list] названий кухонь.\n",
    "            '''\n",
    "            if pd.isna(str_val): return [\"Unknown\"]\n",
    "            str_val = str_val.strip('[]') # Отбрасываем скобки.\n",
    "            str_val = str_val.replace(\"\\'\",'') # Убираем кавычки '.\n",
    "            str_val = str_val.split(\", \") # Разбиваем строку по названиям кухонь.\n",
    "            return str_val\n",
    "        \n",
    "        print(self.dat['Cuisine Style'].describe())\n",
    "        print('##########################################')\n",
    "        print('Пустых значений - {}'.format(self.dat['Cuisine Style'].isna().value_counts().min()))\n",
    "        print('##########################################')\n",
    "        \n",
    "        \n",
    "        self.dat['Cuisine Style'] = self.dat['Cuisine Style'].apply(clean_name)\n",
    "        dft = self.dat['Cuisine Style'].explode() # Для подсчета всех кухонь в датасете\n",
    "        print ('Всего в датасете представлено {} кухонь'.format(len(dft.value_counts())-1))      \n",
    "        print ('##########################################')\n",
    "        print ('Пустые значения переименованы в \"Unknown\"\\n','##### Топ типов кухонь в ресторанах ###### \\n',dft.value_counts(), sep='')\n",
    "        \n",
    "    def cuisine_fill_null(self):\n",
    "        '''\n",
    "        Метод заменяет неизвестные значия кухонь на список \"European\" и \"Vegetarian Friendly\"\n",
    "        '''\n",
    "        self.dat['Cuisine Style'] = self.dat.loc[:, ('Cuisine Style')].apply(lambda x: ['European', 'Vegetarian Friendly'] \n",
    "                                                                   if x == ['Unknown'] else x)\n",
    "        print(self.dat.info())\n",
    "        \n",
    "    def price_range_info(self):\n",
    "        ''' \n",
    "        Метод показывает информацию о колонке Price Range\n",
    "        '''\n",
    "        print(self.dat['Price Range'].describe())\n",
    "        print('##########################################')\n",
    "        print(self.dat['Price Range'].explode().value_counts())\n",
    "        print('##########################################')\n",
    "        print('Пустых значений - {}'.format(self.dat['Price Range'].isna().sum()))\n",
    "    \n",
    "    def repair_price_range(self):\n",
    "        ''' \n",
    "        Метод который заполняет пропущенные значения в колонке Price Range \n",
    "        на средний ценовой сигмент.\n",
    "        А также превращает Price Range - порядковый категориальный признак\n",
    "        '''\n",
    "        self.dat['Price Range'] = self.dat['Price Range'].fillna('$$ - $$$')\n",
    "        \n",
    "        cleanup_price ={'Price Range': {'$':1, '$$ - $$$':2, '$$$$':3 }}\n",
    "        self.dat.replace(cleanup_price, inplace=True)\n",
    "        \n",
    "        plt.rcParams['figure.figsize'] = (10, 10)\n",
    "        self.dat['Price Range'].value_counts(ascending=True).plot(kind='barh')\n",
    "        plt.gca().set_xlabel('Количество ресторанов', fontsize=18)\n",
    "        plt.gca().set_ylabel('Ценовой сигмент', fontsize=18)\n",
    "        plt.title(\"Распределение количества ресторанов по ценам\", fontsize=20)\n",
    "        plt.grid(linestyle='--', alpha=0.7)\n",
    "        \n",
    "        print(self.dat.info())\n",
    "        \n",
    "    def num_of_reviews_info(self):\n",
    "        '''\n",
    "        Метод показывает информацию о колонке Number of Reviews\n",
    "        '''\n",
    "        \n",
    "        print('Пустых значений - {}'.format(self.dat['Number of Reviews'].isna().sum()))\n",
    "        \n",
    "        plt.rcParams['figure.figsize'] = (15, 12)\n",
    "        self.dat.groupby(['City', 'Pop'])['Number of Reviews'].max().sort_values(ascending=True).plot(kind='barh')\n",
    "        plt.gca().set_xlabel('Макисмальное количество отзывов', fontsize=18)\n",
    "        plt.gca().set_ylabel('Город', fontsize=18)\n",
    "        plt.title(\"Распределение максимального количества отзывов по городам\", fontsize=20)\n",
    "        plt.grid(linestyle='--', alpha=0.7)\n",
    "        \n",
    "        \n",
    "    def repair_num_of_reviews(self):\n",
    "        '''\n",
    "        Метод для замены отсуствующих значений в колонке Number of Reviews \n",
    "        на значение 0, только в тех случаях когда отсуствуюет сам текст отзывов\n",
    "        \n",
    "        '''\n",
    "                \n",
    "        print ('Количество пропусков до замены - {}'.format(self.dat['Number of Reviews'].isna().sum()))\n",
    "         \n",
    "        for index in self.dat.loc[self.dat['Number of Reviews'].isna() == True].index:\n",
    "            if (len(self.dat.loc[self.dat['Number of Reviews'].isna() == True].loc[index][6])) <=8: # 8 символов пустой отзыв (только скобки)\n",
    "                 self.dat['Number of Reviews'].loc[index] = 0 \n",
    "        print('Количество пропусков после замены - {}'.format(self.dat['Number of Reviews'].isna().sum()))\n",
    "        print('##########################################')\n",
    "        print('Далее замена медианой')\n",
    "        median = self.dat['Number of Reviews'].median()\n",
    "        self.dat['Number of Reviews'] = self.dat['Number of Reviews'].apply (lambda x: median if pd.isnull(x) else x)\n",
    "        print('##########################################')\n",
    "        print(self.dat.info())\n",
    "        \n",
    "        \n",
    "    def reviews_info(self):\n",
    "        '''\n",
    "        Метод показывает информацию о колонке Reviews\n",
    "        '''\n",
    "    \n",
    "        summ = 0\n",
    "        for rev in data['Reviews']:\n",
    "            if len(rev)<=8:\n",
    "                summ+=1\n",
    "        print('Количество пустых значений - {} (Пустые строки, а не Nan)'.format(summ))\n",
    "        \n",
    "    def ranking_info(self):\n",
    "        '''\n",
    "        Метод показывает информацию о колонке Ranking\n",
    "        '''\n",
    "        fig = plt.figure(figsize = [10,12])\n",
    "        axis1 = fig.add_subplot(3,1,1)\n",
    "        axis2 = fig.add_subplot(312)\n",
    "        axis3 = fig.add_subplot(313)\n",
    "\n",
    "\n",
    "        axis1.hist(self.dat['Ranking'], bins = 100)\n",
    "        axis1.set_title('Распределение признака Ranking')\n",
    "        axis1.grid(linestyle='--', alpha=0.7)\n",
    "\n",
    "\n",
    "        axis2.hist(self.dat['Ranking'][self.dat['City'] =='London'],bins = 100)\n",
    "        axis2.set_title('Распределение признака Ranking в Лондоне')\n",
    "        axis2.grid(linestyle='--', alpha=0.7)\n",
    "\n",
    "        for x in (self.dat['City'].value_counts())[0:10].index:\n",
    "                   axis3.hist(self.dat['Ranking'][self.dat['City'] == x], bins=100)\n",
    "        axis3.set_title('Распределение признака Ranking в первых 10 городах')\n",
    "        axis3.grid(linestyle='--', alpha=0.7)\n",
    "        \n",
    "        \n",
    "        \n",
    "    \n",
    "    # Функции для создания новых признаков\n",
    "    \n",
    "\n",
    "    # Новые признаки на основе City\n",
    "    \n",
    "    def city_to_pop(self):\n",
    "        '''\n",
    "        Метод для создания нового признака Pop (население)\n",
    "        на основе признака City\n",
    "        '''\n",
    "        \n",
    "        # Словарь значений численности населения\n",
    "        pop = {'London': 8_908_081, 'Paris':2_148_327, 'Madrid': 3_266_126, 'Barcelona': 1_664_182, 'Berlin': 3_644_826,\n",
    "               'Milan': 1_378_689, 'Rome': 2_870_500, 'Prague': 1_301_132, 'Lisbon': 505_526, 'Vienna': 1_897_491, \n",
    "               'Amsterdam': 872_757, 'Brussels': 179_277, 'Hamburg': 1_841_179, 'Munich': 1_471_508, 'Lyon': 506_615,\n",
    "               'Stockholm': 961_609, 'Budapest': 1_752_286, 'Warsaw': 1_790_658, 'Dublin': 1_173_179, 'Copenhagen': 615_993,\n",
    "               'Athens': 664_046, 'Edinburgh': 488_100, 'Zurich': 428_737, 'Oporto': 237_591, 'Geneva': 200_548, 'Krakow': 779_115,\n",
    "               'Oslo': 673_469, 'Helsinki': 655_281, 'Bratislava': 437_725, 'Luxembourg': 626_108, 'Ljubljana': 284_355\n",
    "                }\n",
    "        \n",
    "        self.dat['Pop'] = self.dat.loc[:, ('City')].apply(lambda x: pop[x])\n",
    "        \n",
    "        print(self.dat.info())\n",
    "     \n",
    "    \n",
    "    def new_feat_city(self):\n",
    "        ''' \n",
    "        Метод создает новые признаки:\n",
    "        1 - country - в какой стране город\n",
    "        2 - is_capiral - является ли город столицей (да/нет)\n",
    "        3 - pop_cat - категория города относительно населения\n",
    "        \n",
    "        '''    \n",
    "        # 1\n",
    "        country = {\n",
    "        'Paris': 'France',\n",
    "        'Stockholm': 'Sweden',\n",
    "        'London': 'United Kingdom',\n",
    "        'Berlin': 'Germany',\n",
    "        'Munich': 'Germany',\n",
    "        'Oporto': 'Portugal',\n",
    "        'Milan': 'Italy',\n",
    "        'Bratislava': 'Slovakia',\n",
    "        'Vienna': 'Austria',\n",
    "        'Rome': 'Italy',\n",
    "        'Barcelona': 'Spain',\n",
    "        'Madrid': 'Spain',\n",
    "        'Dublin': 'Ireland',\n",
    "        'Brussels': 'Belgium',\n",
    "        'Zurich': 'Switzerland',\n",
    "        'Warsaw': 'Poland',\n",
    "        'Budapest': 'Hungary',\n",
    "        'Copenhagen': 'Denmark',\n",
    "        'Amsterdam': 'Netherlands',\n",
    "        'Lyon': 'France',\n",
    "        'Hamburg': 'Germany',\n",
    "        'Lisbon': 'Portugal',\n",
    "        'Prague': 'Chechia',\n",
    "        'Oslo': 'Norway',\n",
    "        'Helsinki': 'Finland',\n",
    "        'Edinburgh': 'United Kingdom',\n",
    "        'Geneva': 'Switzerland',\n",
    "        'Ljubljana': 'Slovenia',\n",
    "        'Athens': 'Greece',\n",
    "        'Luxembourg': 'Luxemburg',\n",
    "        'Krakow': 'Poland'}\n",
    "    \n",
    "        self.dat['Country'] = self.dat.loc[:, ('City')].apply(lambda x: country[x])\n",
    "        \n",
    "        # 2\n",
    "        capital = {'London': 1, 'Paris':1, 'Madrid':1, 'Barcelona': 0, 'Berlin':1,\n",
    "       'Milan':0, 'Rome':1, 'Prague':1, 'Lisbon':1, 'Vienna':1, \n",
    "       'Amsterdam':1, 'Brussels':1, 'Hamburg':0, 'Munich':0, 'Lyon':0,\n",
    "       'Stockholm':1, 'Budapest':1, 'Warsaw':1, 'Dublin':1, 'Copenhagen':1,\n",
    "       'Athens':1, 'Edinburgh':1, 'Zurich':1, 'Oporto':0, 'Geneva':0, 'Krakow':0,\n",
    "       'Oslo':1, 'Helsinki':1, 'Bratislava':1, 'Luxembourg':1, 'Ljubljana':1\n",
    "        }\n",
    "        self.dat['Is_capital'] = self.dat.loc[:, ('City')].apply(lambda x: capital[x])\n",
    "        \n",
    "        #3\n",
    "        self.dat['Pop_cat'] = pd.qcut( self.dat['Pop'], q=[0, 1/3, 2/3, 1],  labels=[1, 2, 3])\n",
    "    \n",
    "    \n",
    "    \n",
    "    # Новые признаки на основе Cuisine Style\n",
    "    def new_feat_cuisine(self):\n",
    "        ''' \n",
    "        Метод создает новые признаки:\n",
    "        1 - poly_cuisine - количество уникальных кухонь в ресторанах каждого города.\n",
    "        2 - local_cuisine - есть ли в ресторане местаня кухня (да/нет)\n",
    "        3 - \n",
    "        '''\n",
    "        # 1\n",
    "        \n",
    "        # Создадим отдельный датасет из городов и кухонь и разобьем колонку \"кухни\" по 1 типу на строку.\n",
    "        df_cuisine = self.dat.loc[:, ('City', 'Cuisine Style')]\n",
    "        df_cuisine = df_cuisine.explode('Cuisine Style')\n",
    "        # Создадим словарь к тором будут храниться название городов и кухни, котрые предствалены в их ресторанах\n",
    "        city_poly_cuisine = {}\n",
    "        # Создадим словарь к тором будут храниться название городов и количество кухонь, котрые предствалены в их ресторанах\n",
    "        city_num_poly_cuisine = {}\n",
    "        for polis in df_cuisine['City']:\n",
    "            # Если в словаре нет ключа в виде города добавляем его\n",
    "            if polis not in city_poly_cuisine:\n",
    "                city_poly_cuisine[polis] = set(df_cuisine.loc[df_cuisine['City'] == polis, 'Cuisine Style'].unique())\n",
    "                city_num_poly_cuisine[polis] = df_cuisine.loc[df_cuisine['City'] == polis, 'Cuisine Style'].nunique()\n",
    "            else:\n",
    "                continue \n",
    "        self.dat['poly_cuisine'] = self.dat.loc[:, ('City')].apply(lambda x: city_num_poly_cuisine[x])\n",
    "        \n",
    "        #2 \n",
    "        local_cuisine = {\n",
    "            'United Kingdom': ['British','Scottish'],\n",
    "            'Spain': ['Spanish', 'Mediterranean'],\n",
    "            'France': ['French','Central European'], \n",
    "            'Italy': ['Italian','Central European', 'Mediterranean'],\n",
    "            'Germany': ['Dutch','German','Central European'],\n",
    "            'Portugal': ['Portuguese'],\n",
    "            'Chechia': ['Czech','Eastern European'],\n",
    "            'Poland':['Polish','Eastern European'],\n",
    "            'Austria': ['Austrian','Central European'],\n",
    "            'Netherlands':['Scandinavian'],\n",
    "            'Belgium': ['Belgian','Eastern European'],\n",
    "            'Switzerland':['Swiss','Central European'],\n",
    "            'Sweden':['Swedish', 'Scandinavian'],\n",
    "            'Hungary':['Hungarian','Eastern European'],\n",
    "            'Ireland':['Irish'],\n",
    "            'Denmark':['Scandinavian'],\n",
    "            'Greece':['Greece', 'Mediterranean'],\n",
    "            'Norway':['Scandinavian'],\n",
    "            'Finland':['Scandinavian'],\n",
    "            'Slovakia':['Eastern European'],\n",
    "            'Luxemburg':['Eastern European'],\n",
    "            'Slovenia':['Slovenian','Eastern European']\n",
    "            }\n",
    "        self.dat['local_cuisine'] = 0 # Сначала создадим колонку, заполненную 0\n",
    "        for i in range(len(self.dat)):\n",
    "            i_country = self.dat['Country'][i] # Для каждой строки (ресторана) определяем страну\n",
    "            for cuis in local_cuisine[i_country]: # Для каждого типа кухни из словаря\n",
    "                if cuis in self.dat['Cuisine Style'][i]:\n",
    "                    self.dat['local_cuisine'].loc[i] = 1\n",
    "                    break\n",
    "                else:\n",
    "                    pass\n",
    "        print(self.dat['local_cuisine'].value_counts())\n",
    "        print('Большинство ресторанов не имеют местной кухни')\n",
    "        \n",
    "    # Новые признаки на основе Number of Reviews\n",
    "    def per_city_mean(self):\n",
    "        '''\n",
    "        Метод создающий признак среднее количество отзывов в городе. \n",
    "        '''\n",
    "        NoF_per_city_mean = self.dat.groupby('City')['Number of Reviews'].mean()\n",
    "        self.dat['NoF_per_city_mean'] = self.dat['City'].apply(lambda x: NoF_per_city_mean[x]) \n",
    "    \n",
    "    \n",
    "    # Новые признаки на основе Reviews\n",
    "   \n",
    "    def reviews_to_date(self):\n",
    "        \n",
    "        '''\n",
    "        Метод который вычлиняет дату из комментариев и переводит ее в формат datetime\n",
    "        ''' \n",
    "        pattern = re.compile(\"\\d+\\/\\d+\\/\\d+\")\n",
    "        self.dat['review_date'] = self.dat['Reviews'].apply(pattern.findall)\n",
    "\n",
    "        self.dat['review_date'] = self.dat['review_date'].apply(lambda x: [x[-2], x[-1]] if len(x)>=3 else x)\n",
    "\n",
    "        # случаи с одной датой и с двумя датами\n",
    "        self.dat['review_date_1'] = self.dat['review_date'].apply(lambda x: x[0] if len(x)>=1 else None)\n",
    "        self.dat['review_date_2'] = self.dat['review_date'].apply(lambda x: x[1] if len(x)==2 else None)\n",
    "\n",
    "        # преобразуем к типу datetime\n",
    "        self.dat['review_date_1'] = pd.to_datetime(self.dat['review_date_1'])\n",
    "        self.dat['review_date_2'] = pd.to_datetime(self.dat['review_date_2'])\n",
    "        \n",
    "        \n",
    "        print(\"Самая свежая дата\", self.dat[['review_date_1', 'review_date_2']].max().max())\n",
    "        print(\"Самая первая дата\", self.dat[['review_date_1', 'review_date_2']].min().min())\n",
    "\n",
    "        max_days = abs(self.dat['review_date_1'] - self.dat['review_date_2']).max()\n",
    "        print(\"Количество дней между свежей и самой первой датой\", max_days)\n",
    "    \n",
    "    \n",
    "    def new_feat_reviews(self):\n",
    "        ''' \n",
    "        Метод создает признак review_day_freq. Как часто оставляют отзывы в ресторане. \n",
    "        Пустые значения заполним 0.\n",
    "        '''\n",
    "        self.dat['review_day_freq'] = abs((self.dat['review_date_1'] - self.dat['review_date_2']).dt.days)\n",
    "        self.dat['review_day_freq'] = self.dat['review_day_freq'].fillna(0)\n",
    "\n",
    "    # Новые признаки на основе Ranking\n",
    "    \n",
    "    def new_feat_ranking(self):\n",
    "    \n",
    "        \"\"\"\n",
    "        Перевод признака Ranking в порядковую категориальную переменную,\n",
    "\n",
    "        группировкой ее на 5 интервалов, с учетом количества населенияв городе\n",
    "\n",
    "        («Топовый», «высокий», «средний», «ниже среднего», «низкий»), где:\n",
    "        - 5 - Топовый\n",
    "        - ...\n",
    "        - 1 - Низкий\n",
    "        - 0 - Нет ранга\n",
    "        - При этом 5<4<3<2<1 \n",
    "\n",
    "        На вход подается датафрем, на выходе датафрем + 3 колонки:\n",
    "        - 'Big_City_Rank'\n",
    "        - 'Mid_City_Rank'\n",
    "        - 'Lit_City_Rank'\n",
    "\n",
    "        \"\"\"\n",
    "        # Создаем серии с рангом ресторана для каждой группы городов\n",
    "        rating_in_big_city = self.dat[self.dat['Pop_cat'] == 3]['Ranking']\n",
    "        rating_in_mid_city = self.dat[self.dat['Pop_cat'] == 2]['Ranking']\n",
    "        rating_in_lit_city = self.dat[self.dat['Pop_cat'] == 1]['Ranking']\n",
    "\n",
    "\n",
    "        self.dat['Big_City_Rank'] = pd.qcut(rating_in_big_city, q=[0, .2, .4, .6, .8, 1], labels=[1, 2, 3, 4, 5])\n",
    "        self.dat['Big_City_Rank'] = self.dat['Big_City_Rank'].astype('float') # Изменим тип колонки, чтобы заполнить Nan - 0\n",
    "        self.dat['Big_City_Rank'].fillna(0, inplace=True)\n",
    "\n",
    "        self.dat['Mid_City_Rank'] = pd.qcut(rating_in_mid_city, q=[0, .2, .4, .6, .8, 1], labels=[1, 2, 3, 4, 5])\n",
    "        self.dat['Mid_City_Rank'] = self.dat['Mid_City_Rank'].astype('float') \n",
    "        self.dat['Mid_City_Rank'].fillna(0, inplace=True)\n",
    "\n",
    "        self.dat['Lit_City_Rank'] = pd.qcut(rating_in_lit_city, q=[0, .2, .4, .6, .8, 1], labels=[1, 2, 3, 4, 5])\n",
    "        self.dat['Lit_City_Rank'] = self.dat['Lit_City_Rank'].astype('float') \n",
    "        self.dat['Lit_City_Rank'].fillna(0, inplace=True)\n",
    "    \n",
    "    \n",
    "  "
   ]
  },
  {
   "cell_type": "code",
   "execution_count": 5,
   "metadata": {},
   "outputs": [
    {
     "data": {
      "text/plain": [
       "['__class__',\n",
       " '__delattr__',\n",
       " '__dict__',\n",
       " '__dir__',\n",
       " '__doc__',\n",
       " '__eq__',\n",
       " '__format__',\n",
       " '__ge__',\n",
       " '__getattribute__',\n",
       " '__gt__',\n",
       " '__hash__',\n",
       " '__init__',\n",
       " '__init_subclass__',\n",
       " '__le__',\n",
       " '__lt__',\n",
       " '__module__',\n",
       " '__ne__',\n",
       " '__new__',\n",
       " '__reduce__',\n",
       " '__reduce_ex__',\n",
       " '__repr__',\n",
       " '__setattr__',\n",
       " '__sizeof__',\n",
       " '__str__',\n",
       " '__subclasshook__',\n",
       " '__weakref__',\n",
       " 'city_info',\n",
       " 'city_to_pop',\n",
       " 'cuisine_fill_null',\n",
       " 'cuisine_info',\n",
       " 'draw_bp',\n",
       " 'new_feat_city',\n",
       " 'new_feat_cuisine',\n",
       " 'new_feat_ranking',\n",
       " 'new_feat_reviews',\n",
       " 'num_of_reviews_info',\n",
       " 'per_city_mean',\n",
       " 'per_none',\n",
       " 'price_range_info',\n",
       " 'ranking_info',\n",
       " 'repair_num_of_reviews',\n",
       " 'repair_price_range',\n",
       " 'reviews_info',\n",
       " 'reviews_to_date']"
      ]
     },
     "execution_count": 5,
     "metadata": {},
     "output_type": "execute_result"
    }
   ],
   "source": [
    "dir(TadRating)"
   ]
  },
  {
   "cell_type": "markdown",
   "metadata": {},
   "source": [
    "<a id='2'> </a>\n",
    "# DATA"
   ]
  },
  {
   "cell_type": "code",
   "execution_count": 6,
   "metadata": {
    "_cell_guid": "79c7e3d0-c299-4dcb-8224-4455121ee9b0",
    "_uuid": "d629ff2d2480ee46fbb7e2d37f6b5fab8052498a"
   },
   "outputs": [],
   "source": [
    "DATA_DIR = '/kaggle/input/sf-dst-restaurant-rating/'\n",
    "df_train = pd.read_csv(DATA_DIR+'/main_task.csv')\n",
    "df_test = pd.read_csv(DATA_DIR+'kaggle_task.csv')\n",
    "sample_submission = pd.read_csv(DATA_DIR+'/sample_submission.csv')"
   ]
  },
  {
   "cell_type": "code",
   "execution_count": 7,
   "metadata": {},
   "outputs": [
    {
     "name": "stdout",
     "output_type": "stream",
     "text": [
      "<class 'pandas.core.frame.DataFrame'>\n",
      "RangeIndex: 40000 entries, 0 to 39999\n",
      "Data columns (total 10 columns):\n",
      "Restaurant_id        40000 non-null object\n",
      "City                 40000 non-null object\n",
      "Cuisine Style        30717 non-null object\n",
      "Ranking              40000 non-null float64\n",
      "Rating               40000 non-null float64\n",
      "Price Range          26114 non-null object\n",
      "Number of Reviews    37457 non-null float64\n",
      "Reviews              40000 non-null object\n",
      "URL_TA               40000 non-null object\n",
      "ID_TA                40000 non-null object\n",
      "dtypes: float64(3), object(7)\n",
      "memory usage: 3.1+ MB\n"
     ]
    }
   ],
   "source": [
    "df_train.info()"
   ]
  },
  {
   "cell_type": "code",
   "execution_count": 8,
   "metadata": {},
   "outputs": [
    {
     "data": {
      "text/html": [
       "<div>\n",
       "<style scoped>\n",
       "    .dataframe tbody tr th:only-of-type {\n",
       "        vertical-align: middle;\n",
       "    }\n",
       "\n",
       "    .dataframe tbody tr th {\n",
       "        vertical-align: top;\n",
       "    }\n",
       "\n",
       "    .dataframe thead th {\n",
       "        text-align: right;\n",
       "    }\n",
       "</style>\n",
       "<table border=\"1\" class=\"dataframe\">\n",
       "  <thead>\n",
       "    <tr style=\"text-align: right;\">\n",
       "      <th></th>\n",
       "      <th>Restaurant_id</th>\n",
       "      <th>City</th>\n",
       "      <th>Cuisine Style</th>\n",
       "      <th>Ranking</th>\n",
       "      <th>Rating</th>\n",
       "      <th>Price Range</th>\n",
       "      <th>Number of Reviews</th>\n",
       "      <th>Reviews</th>\n",
       "      <th>URL_TA</th>\n",
       "      <th>ID_TA</th>\n",
       "    </tr>\n",
       "  </thead>\n",
       "  <tbody>\n",
       "    <tr>\n",
       "      <th>0</th>\n",
       "      <td>id_5569</td>\n",
       "      <td>Paris</td>\n",
       "      <td>['European', 'French', 'International']</td>\n",
       "      <td>5570.0</td>\n",
       "      <td>3.5</td>\n",
       "      <td>$$ - $$$</td>\n",
       "      <td>194.0</td>\n",
       "      <td>[['Good food at your doorstep', 'A good hotel ...</td>\n",
       "      <td>/Restaurant_Review-g187147-d1912643-Reviews-R_...</td>\n",
       "      <td>d1912643</td>\n",
       "    </tr>\n",
       "    <tr>\n",
       "      <th>1</th>\n",
       "      <td>id_1535</td>\n",
       "      <td>Stockholm</td>\n",
       "      <td>NaN</td>\n",
       "      <td>1537.0</td>\n",
       "      <td>4.0</td>\n",
       "      <td>NaN</td>\n",
       "      <td>10.0</td>\n",
       "      <td>[['Unique cuisine', 'Delicious Nepalese food']...</td>\n",
       "      <td>/Restaurant_Review-g189852-d7992032-Reviews-Bu...</td>\n",
       "      <td>d7992032</td>\n",
       "    </tr>\n",
       "    <tr>\n",
       "      <th>2</th>\n",
       "      <td>id_352</td>\n",
       "      <td>London</td>\n",
       "      <td>['Japanese', 'Sushi', 'Asian', 'Grill', 'Veget...</td>\n",
       "      <td>353.0</td>\n",
       "      <td>4.5</td>\n",
       "      <td>$$$$</td>\n",
       "      <td>688.0</td>\n",
       "      <td>[['Catch up with friends', 'Not exceptional'],...</td>\n",
       "      <td>/Restaurant_Review-g186338-d8632781-Reviews-RO...</td>\n",
       "      <td>d8632781</td>\n",
       "    </tr>\n",
       "    <tr>\n",
       "      <th>3</th>\n",
       "      <td>id_3456</td>\n",
       "      <td>Berlin</td>\n",
       "      <td>NaN</td>\n",
       "      <td>3458.0</td>\n",
       "      <td>5.0</td>\n",
       "      <td>NaN</td>\n",
       "      <td>3.0</td>\n",
       "      <td>[[], []]</td>\n",
       "      <td>/Restaurant_Review-g187323-d1358776-Reviews-Es...</td>\n",
       "      <td>d1358776</td>\n",
       "    </tr>\n",
       "    <tr>\n",
       "      <th>4</th>\n",
       "      <td>id_615</td>\n",
       "      <td>Munich</td>\n",
       "      <td>['German', 'Central European', 'Vegetarian Fri...</td>\n",
       "      <td>621.0</td>\n",
       "      <td>4.0</td>\n",
       "      <td>$$ - $$$</td>\n",
       "      <td>84.0</td>\n",
       "      <td>[['Best place to try a Bavarian food', 'Nice b...</td>\n",
       "      <td>/Restaurant_Review-g187309-d6864963-Reviews-Au...</td>\n",
       "      <td>d6864963</td>\n",
       "    </tr>\n",
       "  </tbody>\n",
       "</table>\n",
       "</div>"
      ],
      "text/plain": [
       "  Restaurant_id       City                                      Cuisine Style  \\\n",
       "0       id_5569      Paris            ['European', 'French', 'International']   \n",
       "1       id_1535  Stockholm                                                NaN   \n",
       "2        id_352     London  ['Japanese', 'Sushi', 'Asian', 'Grill', 'Veget...   \n",
       "3       id_3456     Berlin                                                NaN   \n",
       "4        id_615     Munich  ['German', 'Central European', 'Vegetarian Fri...   \n",
       "\n",
       "   Ranking  Rating Price Range  Number of Reviews  \\\n",
       "0   5570.0     3.5    $$ - $$$              194.0   \n",
       "1   1537.0     4.0         NaN               10.0   \n",
       "2    353.0     4.5        $$$$              688.0   \n",
       "3   3458.0     5.0         NaN                3.0   \n",
       "4    621.0     4.0    $$ - $$$               84.0   \n",
       "\n",
       "                                             Reviews  \\\n",
       "0  [['Good food at your doorstep', 'A good hotel ...   \n",
       "1  [['Unique cuisine', 'Delicious Nepalese food']...   \n",
       "2  [['Catch up with friends', 'Not exceptional'],...   \n",
       "3                                           [[], []]   \n",
       "4  [['Best place to try a Bavarian food', 'Nice b...   \n",
       "\n",
       "                                              URL_TA     ID_TA  \n",
       "0  /Restaurant_Review-g187147-d1912643-Reviews-R_...  d1912643  \n",
       "1  /Restaurant_Review-g189852-d7992032-Reviews-Bu...  d7992032  \n",
       "2  /Restaurant_Review-g186338-d8632781-Reviews-RO...  d8632781  \n",
       "3  /Restaurant_Review-g187323-d1358776-Reviews-Es...  d1358776  \n",
       "4  /Restaurant_Review-g187309-d6864963-Reviews-Au...  d6864963  "
      ]
     },
     "execution_count": 8,
     "metadata": {},
     "output_type": "execute_result"
    }
   ],
   "source": [
    "df_train.head(5)"
   ]
  },
  {
   "cell_type": "code",
   "execution_count": 9,
   "metadata": {},
   "outputs": [
    {
     "name": "stdout",
     "output_type": "stream",
     "text": [
      "<class 'pandas.core.frame.DataFrame'>\n",
      "RangeIndex: 10000 entries, 0 to 9999\n",
      "Data columns (total 9 columns):\n",
      "Restaurant_id        10000 non-null object\n",
      "City                 10000 non-null object\n",
      "Cuisine Style        7693 non-null object\n",
      "Ranking              10000 non-null float64\n",
      "Price Range          6525 non-null object\n",
      "Number of Reviews    9343 non-null float64\n",
      "Reviews              9998 non-null object\n",
      "URL_TA               10000 non-null object\n",
      "ID_TA                10000 non-null object\n",
      "dtypes: float64(2), object(7)\n",
      "memory usage: 703.2+ KB\n"
     ]
    }
   ],
   "source": [
    "df_test.info()"
   ]
  },
  {
   "cell_type": "code",
   "execution_count": 10,
   "metadata": {},
   "outputs": [
    {
     "data": {
      "text/html": [
       "<div>\n",
       "<style scoped>\n",
       "    .dataframe tbody tr th:only-of-type {\n",
       "        vertical-align: middle;\n",
       "    }\n",
       "\n",
       "    .dataframe tbody tr th {\n",
       "        vertical-align: top;\n",
       "    }\n",
       "\n",
       "    .dataframe thead th {\n",
       "        text-align: right;\n",
       "    }\n",
       "</style>\n",
       "<table border=\"1\" class=\"dataframe\">\n",
       "  <thead>\n",
       "    <tr style=\"text-align: right;\">\n",
       "      <th></th>\n",
       "      <th>Restaurant_id</th>\n",
       "      <th>City</th>\n",
       "      <th>Cuisine Style</th>\n",
       "      <th>Ranking</th>\n",
       "      <th>Price Range</th>\n",
       "      <th>Number of Reviews</th>\n",
       "      <th>Reviews</th>\n",
       "      <th>URL_TA</th>\n",
       "      <th>ID_TA</th>\n",
       "    </tr>\n",
       "  </thead>\n",
       "  <tbody>\n",
       "    <tr>\n",
       "      <th>0</th>\n",
       "      <td>id_0</td>\n",
       "      <td>Paris</td>\n",
       "      <td>['Bar', 'Pub']</td>\n",
       "      <td>12963.0</td>\n",
       "      <td>$$ - $$$</td>\n",
       "      <td>4.0</td>\n",
       "      <td>[[], []]</td>\n",
       "      <td>/Restaurant_Review-g187147-d10746918-Reviews-L...</td>\n",
       "      <td>d10746918</td>\n",
       "    </tr>\n",
       "    <tr>\n",
       "      <th>1</th>\n",
       "      <td>id_1</td>\n",
       "      <td>Helsinki</td>\n",
       "      <td>['European', 'Scandinavian', 'Gluten Free Opti...</td>\n",
       "      <td>106.0</td>\n",
       "      <td>$$ - $$$</td>\n",
       "      <td>97.0</td>\n",
       "      <td>[['Very good reviews!', 'Fine dining in Hakani...</td>\n",
       "      <td>/Restaurant_Review-g189934-d6674944-Reviews-Ra...</td>\n",
       "      <td>d6674944</td>\n",
       "    </tr>\n",
       "    <tr>\n",
       "      <th>2</th>\n",
       "      <td>id_2</td>\n",
       "      <td>Edinburgh</td>\n",
       "      <td>['Vegetarian Friendly']</td>\n",
       "      <td>810.0</td>\n",
       "      <td>$$ - $$$</td>\n",
       "      <td>28.0</td>\n",
       "      <td>[['Better than the Links', 'Ivy Black'], ['12/...</td>\n",
       "      <td>/Restaurant_Review-g186525-d13129638-Reviews-B...</td>\n",
       "      <td>d13129638</td>\n",
       "    </tr>\n",
       "    <tr>\n",
       "      <th>3</th>\n",
       "      <td>id_3</td>\n",
       "      <td>London</td>\n",
       "      <td>['Italian', 'Mediterranean', 'European', 'Vege...</td>\n",
       "      <td>1669.0</td>\n",
       "      <td>$$$$</td>\n",
       "      <td>202.0</td>\n",
       "      <td>[['Most exquisite', 'Delicious and authentic']...</td>\n",
       "      <td>/Restaurant_Review-g186338-d680417-Reviews-Qui...</td>\n",
       "      <td>d680417</td>\n",
       "    </tr>\n",
       "    <tr>\n",
       "      <th>4</th>\n",
       "      <td>id_4</td>\n",
       "      <td>Bratislava</td>\n",
       "      <td>['Italian', 'Mediterranean', 'European', 'Seaf...</td>\n",
       "      <td>37.0</td>\n",
       "      <td>$$$$</td>\n",
       "      <td>162.0</td>\n",
       "      <td>[['Always the best in bratislava', 'Very good ...</td>\n",
       "      <td>/Restaurant_Review-g274924-d1112354-Reviews-Ma...</td>\n",
       "      <td>d1112354</td>\n",
       "    </tr>\n",
       "  </tbody>\n",
       "</table>\n",
       "</div>"
      ],
      "text/plain": [
       "  Restaurant_id        City  \\\n",
       "0          id_0       Paris   \n",
       "1          id_1    Helsinki   \n",
       "2          id_2   Edinburgh   \n",
       "3          id_3      London   \n",
       "4          id_4  Bratislava   \n",
       "\n",
       "                                       Cuisine Style  Ranking Price Range  \\\n",
       "0                                     ['Bar', 'Pub']  12963.0    $$ - $$$   \n",
       "1  ['European', 'Scandinavian', 'Gluten Free Opti...    106.0    $$ - $$$   \n",
       "2                            ['Vegetarian Friendly']    810.0    $$ - $$$   \n",
       "3  ['Italian', 'Mediterranean', 'European', 'Vege...   1669.0        $$$$   \n",
       "4  ['Italian', 'Mediterranean', 'European', 'Seaf...     37.0        $$$$   \n",
       "\n",
       "   Number of Reviews                                            Reviews  \\\n",
       "0                4.0                                           [[], []]   \n",
       "1               97.0  [['Very good reviews!', 'Fine dining in Hakani...   \n",
       "2               28.0  [['Better than the Links', 'Ivy Black'], ['12/...   \n",
       "3              202.0  [['Most exquisite', 'Delicious and authentic']...   \n",
       "4              162.0  [['Always the best in bratislava', 'Very good ...   \n",
       "\n",
       "                                              URL_TA      ID_TA  \n",
       "0  /Restaurant_Review-g187147-d10746918-Reviews-L...  d10746918  \n",
       "1  /Restaurant_Review-g189934-d6674944-Reviews-Ra...   d6674944  \n",
       "2  /Restaurant_Review-g186525-d13129638-Reviews-B...  d13129638  \n",
       "3  /Restaurant_Review-g186338-d680417-Reviews-Qui...    d680417  \n",
       "4  /Restaurant_Review-g274924-d1112354-Reviews-Ma...   d1112354  "
      ]
     },
     "execution_count": 10,
     "metadata": {},
     "output_type": "execute_result"
    }
   ],
   "source": [
    "df_test.head(5)"
   ]
  },
  {
   "cell_type": "code",
   "execution_count": 11,
   "metadata": {},
   "outputs": [
    {
     "data": {
      "text/html": [
       "<div>\n",
       "<style scoped>\n",
       "    .dataframe tbody tr th:only-of-type {\n",
       "        vertical-align: middle;\n",
       "    }\n",
       "\n",
       "    .dataframe tbody tr th {\n",
       "        vertical-align: top;\n",
       "    }\n",
       "\n",
       "    .dataframe thead th {\n",
       "        text-align: right;\n",
       "    }\n",
       "</style>\n",
       "<table border=\"1\" class=\"dataframe\">\n",
       "  <thead>\n",
       "    <tr style=\"text-align: right;\">\n",
       "      <th></th>\n",
       "      <th>Restaurant_id</th>\n",
       "      <th>Rating</th>\n",
       "    </tr>\n",
       "  </thead>\n",
       "  <tbody>\n",
       "    <tr>\n",
       "      <th>0</th>\n",
       "      <td>id_0</td>\n",
       "      <td>2.0</td>\n",
       "    </tr>\n",
       "    <tr>\n",
       "      <th>1</th>\n",
       "      <td>id_1</td>\n",
       "      <td>2.5</td>\n",
       "    </tr>\n",
       "    <tr>\n",
       "      <th>2</th>\n",
       "      <td>id_2</td>\n",
       "      <td>4.0</td>\n",
       "    </tr>\n",
       "    <tr>\n",
       "      <th>3</th>\n",
       "      <td>id_3</td>\n",
       "      <td>1.0</td>\n",
       "    </tr>\n",
       "    <tr>\n",
       "      <th>4</th>\n",
       "      <td>id_4</td>\n",
       "      <td>4.0</td>\n",
       "    </tr>\n",
       "  </tbody>\n",
       "</table>\n",
       "</div>"
      ],
      "text/plain": [
       "  Restaurant_id  Rating\n",
       "0          id_0     2.0\n",
       "1          id_1     2.5\n",
       "2          id_2     4.0\n",
       "3          id_3     1.0\n",
       "4          id_4     4.0"
      ]
     },
     "execution_count": 11,
     "metadata": {},
     "output_type": "execute_result"
    }
   ],
   "source": [
    "sample_submission.head(5)"
   ]
  },
  {
   "cell_type": "code",
   "execution_count": 12,
   "metadata": {},
   "outputs": [
    {
     "name": "stdout",
     "output_type": "stream",
     "text": [
      "<class 'pandas.core.frame.DataFrame'>\n",
      "RangeIndex: 10000 entries, 0 to 9999\n",
      "Data columns (total 2 columns):\n",
      "Restaurant_id    10000 non-null object\n",
      "Rating           10000 non-null float64\n",
      "dtypes: float64(1), object(1)\n",
      "memory usage: 156.4+ KB\n"
     ]
    }
   ],
   "source": [
    "sample_submission.info()"
   ]
  },
  {
   "cell_type": "code",
   "execution_count": 13,
   "metadata": {},
   "outputs": [],
   "source": [
    "# ВАЖНО! дря корректной обработки признаков объединяем трейн и тест в один датасет\n",
    "df_train['sample'] = 1 # помечаем где у нас трейн\n",
    "df_test['sample'] = 0 # помечаем где у нас тест\n",
    "df_test['Rating'] = 0 # в тесте у нас нет значения Rating, мы его должны предсказать, по этому пока просто заполняем нулями\n",
    "\n",
    "data = df_test.append(df_train, sort=False).reset_index(drop=True) # объединяем"
   ]
  },
  {
   "cell_type": "code",
   "execution_count": 14,
   "metadata": {},
   "outputs": [
    {
     "name": "stdout",
     "output_type": "stream",
     "text": [
      "<class 'pandas.core.frame.DataFrame'>\n",
      "RangeIndex: 50000 entries, 0 to 49999\n",
      "Data columns (total 11 columns):\n",
      "Restaurant_id        50000 non-null object\n",
      "City                 50000 non-null object\n",
      "Cuisine Style        38410 non-null object\n",
      "Ranking              50000 non-null float64\n",
      "Price Range          32639 non-null object\n",
      "Number of Reviews    46800 non-null float64\n",
      "Reviews              49998 non-null object\n",
      "URL_TA               50000 non-null object\n",
      "ID_TA                50000 non-null object\n",
      "sample               50000 non-null int64\n",
      "Rating               50000 non-null float64\n",
      "dtypes: float64(3), int64(1), object(7)\n",
      "memory usage: 4.2+ MB\n"
     ]
    }
   ],
   "source": [
    "data.info()"
   ]
  },
  {
   "cell_type": "markdown",
   "metadata": {},
   "source": [
    "Подробнее по признакам:\n",
    "* City: Город \n",
    "* Cuisine Style: Кухня\n",
    "* Ranking: Ранг ресторана относительно других ресторанов в этом городе\n",
    "* Price Range: Цены в ресторане в 3 категориях\n",
    "* Number of Reviews: Количество отзывов\n",
    "* Reviews: 2 последних отзыва и даты этих отзывов\n",
    "* URL_TA: страница ресторана на 'www.tripadvisor.com' \n",
    "* ID_TA: ID ресторана в TripAdvisor\n",
    "* Rating: Рейтинг ресторана"
   ]
  },
  {
   "cell_type": "code",
   "execution_count": 15,
   "metadata": {},
   "outputs": [
    {
     "data": {
      "text/html": [
       "<div>\n",
       "<style scoped>\n",
       "    .dataframe tbody tr th:only-of-type {\n",
       "        vertical-align: middle;\n",
       "    }\n",
       "\n",
       "    .dataframe tbody tr th {\n",
       "        vertical-align: top;\n",
       "    }\n",
       "\n",
       "    .dataframe thead th {\n",
       "        text-align: right;\n",
       "    }\n",
       "</style>\n",
       "<table border=\"1\" class=\"dataframe\">\n",
       "  <thead>\n",
       "    <tr style=\"text-align: right;\">\n",
       "      <th></th>\n",
       "      <th>Restaurant_id</th>\n",
       "      <th>City</th>\n",
       "      <th>Cuisine Style</th>\n",
       "      <th>Ranking</th>\n",
       "      <th>Price Range</th>\n",
       "      <th>Number of Reviews</th>\n",
       "      <th>Reviews</th>\n",
       "      <th>URL_TA</th>\n",
       "      <th>ID_TA</th>\n",
       "      <th>sample</th>\n",
       "      <th>Rating</th>\n",
       "    </tr>\n",
       "  </thead>\n",
       "  <tbody>\n",
       "    <tr>\n",
       "      <th>25183</th>\n",
       "      <td>id_161</td>\n",
       "      <td>Zurich</td>\n",
       "      <td>['Lebanese', 'Moroccan', 'Cafe', 'Mediterranea...</td>\n",
       "      <td>162.0</td>\n",
       "      <td>$$ - $$$</td>\n",
       "      <td>274.0</td>\n",
       "      <td>[['Breakfast', 'Big city life'], ['01/01/2018'...</td>\n",
       "      <td>/Restaurant_Review-g188113-d6939522-Reviews-Ca...</td>\n",
       "      <td>d6939522</td>\n",
       "      <td>1</td>\n",
       "      <td>4.0</td>\n",
       "    </tr>\n",
       "    <tr>\n",
       "      <th>19612</th>\n",
       "      <td>id_1104</td>\n",
       "      <td>Krakow</td>\n",
       "      <td>NaN</td>\n",
       "      <td>1105.0</td>\n",
       "      <td>NaN</td>\n",
       "      <td>4.0</td>\n",
       "      <td>[[], []]</td>\n",
       "      <td>/Restaurant_Review-g274772-d11956851-Reviews-D...</td>\n",
       "      <td>d11956851</td>\n",
       "      <td>1</td>\n",
       "      <td>3.5</td>\n",
       "    </tr>\n",
       "    <tr>\n",
       "      <th>13855</th>\n",
       "      <td>id_473</td>\n",
       "      <td>Paris</td>\n",
       "      <td>['French', 'European']</td>\n",
       "      <td>474.0</td>\n",
       "      <td>$$ - $$$</td>\n",
       "      <td>156.0</td>\n",
       "      <td>[['Simply perfect!', 'Great place in the 14th'...</td>\n",
       "      <td>/Restaurant_Review-g187147-d4783611-Reviews-Au...</td>\n",
       "      <td>d4783611</td>\n",
       "      <td>1</td>\n",
       "      <td>4.5</td>\n",
       "    </tr>\n",
       "    <tr>\n",
       "      <th>11185</th>\n",
       "      <td>id_85</td>\n",
       "      <td>Prague</td>\n",
       "      <td>['French', 'Vegetarian Friendly', 'Gluten Free...</td>\n",
       "      <td>86.0</td>\n",
       "      <td>$$$$</td>\n",
       "      <td>166.0</td>\n",
       "      <td>[['Superb dining', 'Nice food in the city cent...</td>\n",
       "      <td>/Restaurant_Review-g274707-d694876-Reviews-Res...</td>\n",
       "      <td>d694876</td>\n",
       "      <td>1</td>\n",
       "      <td>4.5</td>\n",
       "    </tr>\n",
       "    <tr>\n",
       "      <th>1424</th>\n",
       "      <td>id_1424</td>\n",
       "      <td>London</td>\n",
       "      <td>['Cafe']</td>\n",
       "      <td>10885.0</td>\n",
       "      <td>$</td>\n",
       "      <td>11.0</td>\n",
       "      <td>[['Good service, not great coffee', 'Great cof...</td>\n",
       "      <td>/Restaurant_Review-g186338-d9849049-Reviews-Bl...</td>\n",
       "      <td>d9849049</td>\n",
       "      <td>0</td>\n",
       "      <td>0.0</td>\n",
       "    </tr>\n",
       "  </tbody>\n",
       "</table>\n",
       "</div>"
      ],
      "text/plain": [
       "      Restaurant_id    City  \\\n",
       "25183        id_161  Zurich   \n",
       "19612       id_1104  Krakow   \n",
       "13855        id_473   Paris   \n",
       "11185         id_85  Prague   \n",
       "1424        id_1424  London   \n",
       "\n",
       "                                           Cuisine Style  Ranking Price Range  \\\n",
       "25183  ['Lebanese', 'Moroccan', 'Cafe', 'Mediterranea...    162.0    $$ - $$$   \n",
       "19612                                                NaN   1105.0         NaN   \n",
       "13855                             ['French', 'European']    474.0    $$ - $$$   \n",
       "11185  ['French', 'Vegetarian Friendly', 'Gluten Free...     86.0        $$$$   \n",
       "1424                                            ['Cafe']  10885.0           $   \n",
       "\n",
       "       Number of Reviews                                            Reviews  \\\n",
       "25183              274.0  [['Breakfast', 'Big city life'], ['01/01/2018'...   \n",
       "19612                4.0                                           [[], []]   \n",
       "13855              156.0  [['Simply perfect!', 'Great place in the 14th'...   \n",
       "11185              166.0  [['Superb dining', 'Nice food in the city cent...   \n",
       "1424                11.0  [['Good service, not great coffee', 'Great cof...   \n",
       "\n",
       "                                                  URL_TA      ID_TA  sample  \\\n",
       "25183  /Restaurant_Review-g188113-d6939522-Reviews-Ca...   d6939522       1   \n",
       "19612  /Restaurant_Review-g274772-d11956851-Reviews-D...  d11956851       1   \n",
       "13855  /Restaurant_Review-g187147-d4783611-Reviews-Au...   d4783611       1   \n",
       "11185  /Restaurant_Review-g274707-d694876-Reviews-Res...    d694876       1   \n",
       "1424   /Restaurant_Review-g186338-d9849049-Reviews-Bl...   d9849049       0   \n",
       "\n",
       "       Rating  \n",
       "25183     4.0  \n",
       "19612     3.5  \n",
       "13855     4.5  \n",
       "11185     4.5  \n",
       "1424      0.0  "
      ]
     },
     "execution_count": 15,
     "metadata": {},
     "output_type": "execute_result"
    }
   ],
   "source": [
    "data.sample(5)"
   ]
  },
  {
   "cell_type": "code",
   "execution_count": 16,
   "metadata": {},
   "outputs": [
    {
     "data": {
      "text/plain": [
       "\"[['Very good reviews!', 'Fine dining in Hakaniemi'], ['12/05/2017', '10/29/2017']]\""
      ]
     },
     "execution_count": 16,
     "metadata": {},
     "output_type": "execute_result"
    }
   ],
   "source": [
    "data.Reviews[1]"
   ]
  },
  {
   "cell_type": "markdown",
   "metadata": {},
   "source": [
    "Как видим, большинство признаков у нас требует очистки и предварительной обработки."
   ]
  },
  {
   "cell_type": "markdown",
   "metadata": {},
   "source": [
    "<a id='3'> </a>\n",
    "# Exploratory data analysis (EDA)\n",
    "\n",
    "\n",
    "Проведем первичный анализ данных. Проверка на наличие пропусков и их подсчет. \n",
    "\n",
    "Все дополнительные признаки (кроме признака Pop) будут создаваться в разделе <a href='#4' > Data Preprocessing"
   ]
  },
  {
   "cell_type": "code",
   "execution_count": 17,
   "metadata": {},
   "outputs": [],
   "source": [
    "# Для корректной работы некоторых функций\n",
    "data['Reviews'] = data['Reviews'].fillna('')\n",
    "data['Reviews'] = data['Reviews'].astype('str')"
   ]
  },
  {
   "cell_type": "code",
   "execution_count": 18,
   "metadata": {},
   "outputs": [],
   "source": [
    "# Создадим экземпляр класса TadTadRating data_w - (data work) рабочий датасет\n",
    "data_w = TadRating(data)"
   ]
  },
  {
   "cell_type": "code",
   "execution_count": 19,
   "metadata": {},
   "outputs": [
    {
     "data": {
      "image/png": "[encoded data removed]",
      "text/plain": [
       "<Figure size 864x576 with 1 Axes>"
      ]
     },
     "metadata": {
      "needs_background": "light"
     },
     "output_type": "display_data"
    }
   ],
   "source": [
    "data_w.per_none()"
   ]
  },
  {
   "cell_type": "markdown",
   "metadata": {},
   "source": [
    "#### Restaurant_id - порядковый номер ресторана"
   ]
  },
  {
   "cell_type": "code",
   "execution_count": 20,
   "metadata": {},
   "outputs": [
    {
     "name": "stdout",
     "output_type": "stream",
     "text": [
      "<class 'pandas.core.frame.DataFrame'>\n",
      "RangeIndex: 50000 entries, 0 to 49999\n",
      "Data columns (total 1 columns):\n",
      "Restaurant_id    50000 non-null object\n",
      "dtypes: object(1)\n",
      "memory usage: 390.8+ KB\n"
     ]
    },
    {
     "data": {
      "text/plain": [
       "id_871      19\n",
       "id_227      19\n",
       "id_436      19\n",
       "id_633      19\n",
       "id_71       18\n",
       "            ..\n",
       "id_15263     1\n",
       "id_13084     1\n",
       "id_11211     1\n",
       "id_12360     1\n",
       "id_10869     1\n",
       "Name: Restaurant_id, Length: 13094, dtype: int64"
      ]
     },
     "metadata": {},
     "output_type": "display_data"
    }
   ],
   "source": [
    "data.loc[:, ['Restaurant_id']].info()\n",
    "display(data.Restaurant_id.value_counts())"
   ]
  },
  {
   "cell_type": "markdown",
   "metadata": {},
   "source": [
    "Нет пропусков но есть повторяющиеся значения - можно сделать вывод что это сеть ресторанов. Можно добавить новый признак является ли ресторан частью сети или нет."
   ]
  },
  {
   "cell_type": "markdown",
   "metadata": {},
   "source": [
    "#### City"
   ]
  },
  {
   "cell_type": "code",
   "execution_count": 21,
   "metadata": {},
   "outputs": [
    {
     "name": "stdout",
     "output_type": "stream",
     "text": [
      "London        7193\n",
      "Paris         6108\n",
      "Madrid        3813\n",
      "Barcelona     3395\n",
      "Berlin        2705\n",
      "Milan         2694\n",
      "Rome          2589\n",
      "Prague        1816\n",
      "Lisbon        1647\n",
      "Vienna        1443\n",
      "Amsterdam     1372\n",
      "Brussels      1314\n",
      "Hamburg       1186\n",
      "Munich        1145\n",
      "Lyon          1126\n",
      "Stockholm     1033\n",
      "Budapest      1021\n",
      "Warsaw         925\n",
      "Dublin         836\n",
      "Copenhagen     819\n",
      "Athens         776\n",
      "Edinburgh      745\n",
      "Zurich         685\n",
      "Oporto         642\n",
      "Geneva         590\n",
      "Krakow         554\n",
      "Oslo           488\n",
      "Helsinki       475\n",
      "Bratislava     380\n",
      "Luxembourg     263\n",
      "Ljubljana      222\n",
      "Name: City, dtype: int64\n",
      "##########################################\n",
      "Всего городов в датасете представлено - 31\n",
      "##########################################\n"
     ]
    },
    {
     "data": {
      "image/png": "[encoded data removed]",
      "text/plain": [
       "<Figure size 720x720 with 1 Axes>"
      ]
     },
     "metadata": {
      "needs_background": "light"
     },
     "output_type": "display_data"
    },
    {
     "data": {
      "image/png": "[encoded data removed]",
      "text/plain": [
       "<Figure size 1800x360 with 1 Axes>"
      ]
     },
     "metadata": {
      "needs_background": "light"
     },
     "output_type": "display_data"
    }
   ],
   "source": [
    "data_w.city_info()\n",
    "data_w.draw_bp('City')"
   ]
  },
  {
   "cell_type": "markdown",
   "metadata": {},
   "source": [
    "Пропусков нет. Всего в датасете представлен 31 город. Медиана по рейтингу в городах почти одинаковая. Низкий рейтинг (исключая 0) является допустимым выбросом.\n",
    "\n",
    "На основе этого признака можно создать дополнительные. Одним из них будет признак Pop - Население города  "
   ]
  },
  {
   "cell_type": "code",
   "execution_count": 22,
   "metadata": {},
   "outputs": [
    {
     "name": "stdout",
     "output_type": "stream",
     "text": [
      "<class 'pandas.core.frame.DataFrame'>\n",
      "RangeIndex: 50000 entries, 0 to 49999\n",
      "Data columns (total 12 columns):\n",
      "Restaurant_id        50000 non-null object\n",
      "City                 50000 non-null object\n",
      "Cuisine Style        38410 non-null object\n",
      "Ranking              50000 non-null float64\n",
      "Price Range          32639 non-null object\n",
      "Number of Reviews    46800 non-null float64\n",
      "Reviews              50000 non-null object\n",
      "URL_TA               50000 non-null object\n",
      "ID_TA                50000 non-null object\n",
      "sample               50000 non-null int64\n",
      "Rating               50000 non-null float64\n",
      "Pop                  50000 non-null int64\n",
      "dtypes: float64(3), int64(2), object(7)\n",
      "memory usage: 4.6+ MB\n",
      "None\n"
     ]
    }
   ],
   "source": [
    "data_w.city_to_pop()"
   ]
  },
  {
   "cell_type": "markdown",
   "metadata": {},
   "source": [
    "#### Cousine Style - виды кухни которые предствлены в ресторане"
   ]
  },
  {
   "cell_type": "code",
   "execution_count": 23,
   "metadata": {},
   "outputs": [
    {
     "name": "stdout",
     "output_type": "stream",
     "text": [
      "count           38410\n",
      "unique          10731\n",
      "top       ['Italian']\n",
      "freq             1332\n",
      "Name: Cuisine Style, dtype: object\n",
      "##########################################\n",
      "Пустых значений - 11590\n",
      "##########################################\n",
      "Всего в датасете представлено 125 кухонь\n",
      "##########################################\n",
      "Пустые значения переименованы в \"Unknown\"\n",
      "##### Топ типов кухонь в ресторанах ###### \n",
      "Vegetarian Friendly    14021\n",
      "European               12561\n",
      "Unknown                11590\n",
      "Mediterranean           7820\n",
      "Italian                 7433\n",
      "                       ...  \n",
      "Fujian                     2\n",
      "Xinjiang                   1\n",
      "Burmese                    1\n",
      "Latvian                    1\n",
      "Salvadoran                 1\n",
      "Name: Cuisine Style, Length: 126, dtype: int64\n"
     ]
    }
   ],
   "source": [
    "data_w.cuisine_info()"
   ]
  },
  {
   "cell_type": "markdown",
   "metadata": {},
   "source": [
    "На основе этого признака создадим дополнительные. Пустые значения заменим на список из 2х самых популярных кухонь  \"European\" и \"Vegetarian Friendly\". Более того в датасете седержатся только города Европы и европейская кухня как обощающая подходит идеально. "
   ]
  },
  {
   "cell_type": "code",
   "execution_count": 24,
   "metadata": {},
   "outputs": [
    {
     "name": "stdout",
     "output_type": "stream",
     "text": [
      "<class 'pandas.core.frame.DataFrame'>\n",
      "RangeIndex: 50000 entries, 0 to 49999\n",
      "Data columns (total 12 columns):\n",
      "Restaurant_id        50000 non-null object\n",
      "City                 50000 non-null object\n",
      "Cuisine Style        50000 non-null object\n",
      "Ranking              50000 non-null float64\n",
      "Price Range          32639 non-null object\n",
      "Number of Reviews    46800 non-null float64\n",
      "Reviews              50000 non-null object\n",
      "URL_TA               50000 non-null object\n",
      "ID_TA                50000 non-null object\n",
      "sample               50000 non-null int64\n",
      "Rating               50000 non-null float64\n",
      "Pop                  50000 non-null int64\n",
      "dtypes: float64(3), int64(2), object(7)\n",
      "memory usage: 4.6+ MB\n",
      "None\n"
     ]
    }
   ],
   "source": [
    "data_w.cuisine_fill_null()"
   ]
  },
  {
   "cell_type": "markdown",
   "metadata": {},
   "source": [
    "#### Price Range"
   ]
  },
  {
   "cell_type": "code",
   "execution_count": 25,
   "metadata": {},
   "outputs": [
    {
     "name": "stdout",
     "output_type": "stream",
     "text": [
      "count        32639\n",
      "unique           3\n",
      "top       $$ - $$$\n",
      "freq         23041\n",
      "Name: Price Range, dtype: object\n",
      "##########################################\n",
      "$$ - $$$    23041\n",
      "$            7816\n",
      "$$$$         1782\n",
      "Name: Price Range, dtype: int64\n",
      "##########################################\n",
      "Пустых значений - 17361\n"
     ]
    }
   ],
   "source": [
    "data_w.price_range_info()"
   ]
  },
  {
   "cell_type": "markdown",
   "metadata": {},
   "source": [
    "Есть пропуски - заполним наиболее частным значением - Средним ценовым сигментом.\n",
    "\n",
    "Признак Price Range - порядковый категориальный признак. Закодируем его методом replace() как:\n",
    "\n",
    "- \\$ - низкий ценовой сегмент стоимость = 1\n",
    "\n",
    "\n",
    "- \\$\\$ - средний ценовой сегмент = 2 \n",
    "\n",
    "\n",
    "- \\$$\\$$ - высокий ценовой сегмент = 3\n"
   ]
  },
  {
   "cell_type": "code",
   "execution_count": 26,
   "metadata": {},
   "outputs": [
    {
     "name": "stdout",
     "output_type": "stream",
     "text": [
      "<class 'pandas.core.frame.DataFrame'>\n",
      "RangeIndex: 50000 entries, 0 to 49999\n",
      "Data columns (total 12 columns):\n",
      "Restaurant_id        50000 non-null object\n",
      "City                 50000 non-null object\n",
      "Cuisine Style        50000 non-null object\n",
      "Ranking              50000 non-null float64\n",
      "Price Range          50000 non-null int64\n",
      "Number of Reviews    46800 non-null float64\n",
      "Reviews              50000 non-null object\n",
      "URL_TA               50000 non-null object\n",
      "ID_TA                50000 non-null object\n",
      "sample               50000 non-null int64\n",
      "Rating               50000 non-null float64\n",
      "Pop                  50000 non-null int64\n",
      "dtypes: float64(3), int64(3), object(6)\n",
      "memory usage: 4.6+ MB\n",
      "None\n"
     ]
    },
    {
     "data": {
      "image/png": "[encoded data removed]",
      "text/plain": [
       "<Figure size 720x720 with 1 Axes>"
      ]
     },
     "metadata": {
      "needs_background": "light"
     },
     "output_type": "display_data"
    },
    {
     "data": {
      "image/png": "[encoded data removed]",
      "text/plain": [
       "<Figure size 1800x360 with 1 Axes>"
      ]
     },
     "metadata": {
      "needs_background": "light"
     },
     "output_type": "display_data"
    }
   ],
   "source": [
    "data_w.repair_price_range()\n",
    "data_w.draw_bp('Price Range')"
   ]
  },
  {
   "cell_type": "markdown",
   "metadata": {},
   "source": [
    "Анализируя боксплот можно сказать, что в ресторанах с высокой ценой более высокий порог самого низкого отзыва, а значения меньше 2 вообще считаются выбросами. Но в данном случае допустимыми."
   ]
  },
  {
   "cell_type": "markdown",
   "metadata": {},
   "source": [
    "####  Number of Reviews\n"
   ]
  },
  {
   "cell_type": "code",
   "execution_count": 27,
   "metadata": {},
   "outputs": [
    {
     "data": {
      "text/plain": [
       "<matplotlib.axes._subplots.AxesSubplot at 0x7ff014ffd9e8>"
      ]
     },
     "metadata": {},
     "output_type": "display_data"
    },
    {
     "data": {
      "image/png": "[encoded data removed]",
      "text/plain": [
       "<Figure size 720x720 with 1 Axes>"
      ]
     },
     "metadata": {
      "needs_background": "light"
     },
     "output_type": "display_data"
    }
   ],
   "source": [
    "# Распределение признака\n",
    "display(data['Number of Reviews'].hist(bins=50))"
   ]
  },
  {
   "cell_type": "markdown",
   "metadata": {},
   "source": [
    "Большинство ресторанов имеют небольшое количество отзывов. Посмотрим как распределены отзывы по городам."
   ]
  },
  {
   "cell_type": "code",
   "execution_count": 28,
   "metadata": {},
   "outputs": [
    {
     "name": "stdout",
     "output_type": "stream",
     "text": [
      "Пустых значений - 3200\n"
     ]
    },
    {
     "data": {
      "image/png": "[encoded data removed]",
      "text/plain": [
       "<Figure size 1080x864 with 1 Axes>"
      ]
     },
     "metadata": {
      "needs_background": "light"
     },
     "output_type": "display_data"
    }
   ],
   "source": [
    "data_w.num_of_reviews_info()"
   ]
  },
  {
   "cell_type": "markdown",
   "metadata": {},
   "source": [
    "Пустые значения могут озачать отсутсвие отзывов. Это было бы точно верно, если бы также отсутсвовали значения и в самих отзывах. Но кроме таких случаев, есть строки где нет количества отзывов, а тексты и даты отзывов присутсвуют и наоборот. Попробуем сделать следующим образом. Те строки, где отсутсвует и количество отзывов и сам отзыв, заменим на 0 - Отзывов нет.\n",
    "\n",
    "Остальные отсуствующие значения заменим средним значением."
   ]
  },
  {
   "cell_type": "code",
   "execution_count": 29,
   "metadata": {},
   "outputs": [
    {
     "name": "stdout",
     "output_type": "stream",
     "text": [
      "Количество пропусков до замены - 3200\n"
     ]
    },
    {
     "name": "stderr",
     "output_type": "stream",
     "text": [
      "/opt/conda/lib/python3.6/site-packages/pandas/core/indexing.py:205: SettingWithCopyWarning: \n",
      "A value is trying to be set on a copy of a slice from a DataFrame\n",
      "\n",
      "See the caveats in the documentation: http://pandas.pydata.org/pandas-docs/stable/user_guide/indexing.html#returning-a-view-versus-a-copy\n",
      "  self._setitem_with_indexer(indexer, value)\n"
     ]
    },
    {
     "name": "stdout",
     "output_type": "stream",
     "text": [
      "Количество пропусков после замены - 1176\n",
      "##########################################\n",
      "Далее замена медианой\n",
      "##########################################\n",
      "<class 'pandas.core.frame.DataFrame'>\n",
      "RangeIndex: 50000 entries, 0 to 49999\n",
      "Data columns (total 12 columns):\n",
      "Restaurant_id        50000 non-null object\n",
      "City                 50000 non-null object\n",
      "Cuisine Style        50000 non-null object\n",
      "Ranking              50000 non-null float64\n",
      "Price Range          50000 non-null int64\n",
      "Number of Reviews    50000 non-null float64\n",
      "Reviews              50000 non-null object\n",
      "URL_TA               50000 non-null object\n",
      "ID_TA                50000 non-null object\n",
      "sample               50000 non-null int64\n",
      "Rating               50000 non-null float64\n",
      "Pop                  50000 non-null int64\n",
      "dtypes: float64(3), int64(3), object(6)\n",
      "memory usage: 4.6+ MB\n",
      "None\n"
     ]
    }
   ],
   "source": [
    "data_w.repair_num_of_reviews()"
   ]
  },
  {
   "cell_type": "markdown",
   "metadata": {},
   "source": [
    "#### Reviews"
   ]
  },
  {
   "cell_type": "code",
   "execution_count": 30,
   "metadata": {},
   "outputs": [
    {
     "name": "stdout",
     "output_type": "stream",
     "text": [
      "Количество пустых значений - 8114 (Пустые строки, а не Nan)\n"
     ]
    }
   ],
   "source": [
    "data_w.reviews_info()"
   ]
  },
  {
   "cell_type": "markdown",
   "metadata": {},
   "source": [
    "Вытащим из этотого признака дату, и прведем ее к формату datetime"
   ]
  },
  {
   "cell_type": "code",
   "execution_count": 31,
   "metadata": {},
   "outputs": [
    {
     "name": "stdout",
     "output_type": "stream",
     "text": [
      "Самая свежая дата 2018-02-26 00:00:00\n",
      "Самая первая дата 2004-04-21 00:00:00\n",
      "Количество дней между свежей и самой первой датой 3296 days 00:00:00\n"
     ]
    }
   ],
   "source": [
    "data_w.reviews_to_date()"
   ]
  },
  {
   "cell_type": "markdown",
   "metadata": {},
   "source": [
    "Пустые строки оставим. Изменим это при создании дополнительного признака"
   ]
  },
  {
   "cell_type": "markdown",
   "metadata": {},
   "source": [
    "#### URL_TA и ID_TA"
   ]
  },
  {
   "cell_type": "code",
   "execution_count": 32,
   "metadata": {},
   "outputs": [
    {
     "data": {
      "text/plain": [
       "count                                                 50000\n",
       "unique                                                49963\n",
       "top       /Restaurant_Review-g187514-d9877640-Reviews-Ra...\n",
       "freq                                                      2\n",
       "Name: URL_TA, dtype: object"
      ]
     },
     "execution_count": 32,
     "metadata": {},
     "output_type": "execute_result"
    }
   ],
   "source": [
    "data['URL_TA'].describe() # предствляет собой страницы ресторанов с трипэдвайзера - в модели учавствовать не будет (хотя интересно что есть повторяющееся значения) "
   ]
  },
  {
   "cell_type": "code",
   "execution_count": 33,
   "metadata": {},
   "outputs": [
    {
     "data": {
      "text/plain": [
       "count       50000\n",
       "unique      49963\n",
       "top       d793170\n",
       "freq            2\n",
       "Name: ID_TA, dtype: object"
      ]
     },
     "execution_count": 33,
     "metadata": {},
     "output_type": "execute_result"
    }
   ],
   "source": [
    "data['ID_TA'].describe() # предствляет собой ID ресторана на том же самом сайте - в модели учавствовать не будет "
   ]
  },
  {
   "cell_type": "markdown",
   "metadata": {},
   "source": [
    "#### Ranking "
   ]
  },
  {
   "cell_type": "code",
   "execution_count": 34,
   "metadata": {},
   "outputs": [
    {
     "data": {
      "image/png": "[encoded data removed]",
      "text/plain": [
       "<Figure size 720x864 with 3 Axes>"
      ]
     },
     "metadata": {
      "needs_background": "light"
     },
     "output_type": "display_data"
    }
   ],
   "source": [
    "data_w.ranking_info()"
   ]
  },
  {
   "cell_type": "markdown",
   "metadata": {},
   "source": [
    "У нас много ресторанов, которые не дотягивают и до 2500 места в своем городе. Признак Ranking зависит от количества ресторанов в городе, а следовательно, от размера города, который в нашем случае определяется по количеству населения. Далее обработаем этот признак и превратим его в порядковую категоральную переменную.\n",
    "\n"
   ]
  },
  {
   "cell_type": "markdown",
   "metadata": {},
   "source": [
    "### Посмотрим распределение целевой переменной"
   ]
  },
  {
   "cell_type": "code",
   "execution_count": 35,
   "metadata": {},
   "outputs": [
    {
     "data": {
      "text/plain": [
       "<matplotlib.axes._subplots.AxesSubplot at 0x7fefe73ca048>"
      ]
     },
     "execution_count": 35,
     "metadata": {},
     "output_type": "execute_result"
    },
    {
     "data": {
      "image/png": "[encoded data removed]",
      "text/plain": [
       "<Figure size 1080x864 with 1 Axes>"
      ]
     },
     "metadata": {
      "needs_background": "light"
     },
     "output_type": "display_data"
    }
   ],
   "source": [
    "data['Rating'].hist(bins=30)"
   ]
  },
  {
   "cell_type": "markdown",
   "metadata": {},
   "source": [
    "Не учитывая 0, целевая переменная имеет отрицательное распределение."
   ]
  },
  {
   "cell_type": "markdown",
   "metadata": {},
   "source": [
    "### Корреляция признаков до создания новых (кроме Pop)\n"
   ]
  },
  {
   "cell_type": "code",
   "execution_count": 36,
   "metadata": {},
   "outputs": [
    {
     "data": {
      "text/html": [
       "<div>\n",
       "<style scoped>\n",
       "    .dataframe tbody tr th:only-of-type {\n",
       "        vertical-align: middle;\n",
       "    }\n",
       "\n",
       "    .dataframe tbody tr th {\n",
       "        vertical-align: top;\n",
       "    }\n",
       "\n",
       "    .dataframe thead th {\n",
       "        text-align: right;\n",
       "    }\n",
       "</style>\n",
       "<table border=\"1\" class=\"dataframe\">\n",
       "  <thead>\n",
       "    <tr style=\"text-align: right;\">\n",
       "      <th></th>\n",
       "      <th>Ranking</th>\n",
       "      <th>Price Range</th>\n",
       "      <th>Number of Reviews</th>\n",
       "      <th>Rating</th>\n",
       "      <th>Pop</th>\n",
       "    </tr>\n",
       "  </thead>\n",
       "  <tbody>\n",
       "    <tr>\n",
       "      <th>Ranking</th>\n",
       "      <td>1.000000</td>\n",
       "      <td>-0.026334</td>\n",
       "      <td>-0.221929</td>\n",
       "      <td>-0.109897</td>\n",
       "      <td>0.567760</td>\n",
       "    </tr>\n",
       "    <tr>\n",
       "      <th>Price Range</th>\n",
       "      <td>-0.026334</td>\n",
       "      <td>1.000000</td>\n",
       "      <td>0.108218</td>\n",
       "      <td>-0.012176</td>\n",
       "      <td>-0.017115</td>\n",
       "    </tr>\n",
       "    <tr>\n",
       "      <th>Number of Reviews</th>\n",
       "      <td>-0.221929</td>\n",
       "      <td>0.108218</td>\n",
       "      <td>1.000000</td>\n",
       "      <td>0.011158</td>\n",
       "      <td>0.024141</td>\n",
       "    </tr>\n",
       "    <tr>\n",
       "      <th>Rating</th>\n",
       "      <td>-0.109897</td>\n",
       "      <td>-0.012176</td>\n",
       "      <td>0.011158</td>\n",
       "      <td>1.000000</td>\n",
       "      <td>-0.004963</td>\n",
       "    </tr>\n",
       "    <tr>\n",
       "      <th>Pop</th>\n",
       "      <td>0.567760</td>\n",
       "      <td>-0.017115</td>\n",
       "      <td>0.024141</td>\n",
       "      <td>-0.004963</td>\n",
       "      <td>1.000000</td>\n",
       "    </tr>\n",
       "  </tbody>\n",
       "</table>\n",
       "</div>"
      ],
      "text/plain": [
       "                    Ranking  Price Range  Number of Reviews    Rating  \\\n",
       "Ranking            1.000000    -0.026334          -0.221929 -0.109897   \n",
       "Price Range       -0.026334     1.000000           0.108218 -0.012176   \n",
       "Number of Reviews -0.221929     0.108218           1.000000  0.011158   \n",
       "Rating            -0.109897    -0.012176           0.011158  1.000000   \n",
       "Pop                0.567760    -0.017115           0.024141 -0.004963   \n",
       "\n",
       "                        Pop  \n",
       "Ranking            0.567760  \n",
       "Price Range       -0.017115  \n",
       "Number of Reviews  0.024141  \n",
       "Rating            -0.004963  \n",
       "Pop                1.000000  "
      ]
     },
     "execution_count": 36,
     "metadata": {},
     "output_type": "execute_result"
    },
    {
     "data": {
      "image/png": "[encoded data removed]",
      "text/plain": [
       "<Figure size 1080x720 with 2 Axes>"
      ]
     },
     "metadata": {
      "needs_background": "light"
     },
     "output_type": "display_data"
    }
   ],
   "source": [
    "plt.rcParams['figure.figsize'] = (15,10)\n",
    "sns.heatmap(data.drop(['sample'], axis=1).corr(),cmap=\"BrBG\")\n",
    "data.drop(['sample'], axis=1).corr()"
   ]
  },
  {
   "cell_type": "markdown",
   "metadata": {},
   "source": [
    "<a id='4'> <a/>\n",
    "# Data Preprocessing"
   ]
  },
  {
   "cell_type": "code",
   "execution_count": 37,
   "metadata": {},
   "outputs": [],
   "source": [
    "# на всякий случай, заново подгружаем данные\n",
    "#df_train = pd.read_csv(DATA_DIR+'/main_task.csv')\n",
    "#df_test = pd.read_csv(DATA_DIR+'/kaggle_task.csv')\n",
    "#df_train['sample'] = 1 # помечаем где у нас трейн\n",
    "#df_test['sample'] = 0 # помечаем где у нас тест\n",
    "#df_test['Rating'] = 0 # в тесте у нас нет значения Rating, мы его должны предсказать, по этому пока просто заполняем нулями\n",
    "\n",
    "#data = df_test.append(df_train, sort=False).reset_index(drop=True) # объединяем\n",
    "#data.info()"
   ]
  },
  {
   "cell_type": "code",
   "execution_count": 38,
   "metadata": {},
   "outputs": [
    {
     "data": {
      "text/plain": [
       "'includes several functions to pre-process the predictor data.'"
      ]
     },
     "execution_count": 38,
     "metadata": {},
     "output_type": "execute_result"
    }
   ],
   "source": [
    "#def preproc_data(df_input):\n",
    "    '''includes several functions to pre-process the predictor data.'''\n",
    "    \n",
    "    #df_output = df_input.copy()\n",
    "    \n",
    "    # ################### 1. Предобработка ############################################################## \n",
    "    # убираем не нужные для модели признаки\n",
    "    #df_output.drop(['Restaurant_id','ID_TA',], axis = 1, inplace=True)\n",
    "    \n",
    "    \n",
    "    # ################### 2. NAN ############################################################## \n",
    "    # Далее заполняем пропуски, вы можете попробовать заполнением средним или средним по городу и тд...\n",
    "    #df_output['Number of Reviews'].fillna(0, inplace=True)\n",
    "    # тут ваш код по обработке NAN\n",
    "    # ....\n",
    "    \n",
    "    \n",
    "    # ################### 3. Encoding ############################################################## \n",
    "    # для One-Hot Encoding в pandas есть готовая функция - get_dummies. Особенно радует параметр dummy_na\n",
    "    #df_output = pd.get_dummies(df_output, columns=[ 'City',], dummy_na=True)\n",
    "    # тут ваш код не Encoding фитчей\n",
    "    # ....\n",
    "    \n",
    "    \n",
    "    # ################### 4. Feature Engineering ####################################################\n",
    "    # тут ваш код не генерацию новых фитчей\n",
    "    # ....\n",
    "    \n",
    "    \n",
    "    # ################### 5. Clean #################################################### \n",
    "    # убираем признаки которые еще не успели обработать, \n",
    "    # модель на признаках с dtypes \"object\" обучаться не будет, просто выберим их и удалим\n",
    "    #object_columns = [s for s in df_output.columns if df_output[s].dtypes == 'object']\n",
    "    #df_output.drop(object_columns, axis = 1, inplace=True)\n",
    "    \n",
    "    #return df_output"
   ]
  },
  {
   "cell_type": "markdown",
   "metadata": {},
   "source": [
    ">По хорошему, можно было бы перевести эту большую функцию в класс и разбить на подфункции (согласно ООП). "
   ]
  },
  {
   "cell_type": "code",
   "execution_count": 39,
   "metadata": {},
   "outputs": [
    {
     "data": {
      "text/plain": [
       "count    50000.000000\n",
       "mean         0.923860\n",
       "std          0.265225\n",
       "min          0.000000\n",
       "25%          1.000000\n",
       "50%          1.000000\n",
       "75%          1.000000\n",
       "max          1.000000\n",
       "Name: Restaurant_chain, dtype: float64"
      ]
     },
     "execution_count": 39,
     "metadata": {},
     "output_type": "execute_result"
    }
   ],
   "source": [
    "restaurant_chain = data['Restaurant_id'].value_counts()[data['Restaurant_id'].value_counts()>1].index.tolist()\n",
    "data['Restaurant_chain'] = data[data['Restaurant_id'].isin(restaurant_chain)].Restaurant_id.apply(lambda x: 1) # заполняем единицей\n",
    "data['Restaurant_chain'] = data['Restaurant_chain'].fillna(0) # заролняем остаток 0\n",
    "data['Restaurant_chain'].describe()"
   ]
  },
  {
   "cell_type": "code",
   "execution_count": 40,
   "metadata": {},
   "outputs": [],
   "source": [
    "data_w.new_feat_city()\n"
   ]
  },
  {
   "cell_type": "code",
   "execution_count": 41,
   "metadata": {},
   "outputs": [
    {
     "name": "stdout",
     "output_type": "stream",
     "text": [
      "0    32964\n",
      "1    17036\n",
      "Name: local_cuisine, dtype: int64\n",
      "Большинство ресторанов не имеют местной кухни\n"
     ]
    }
   ],
   "source": [
    "data_w.new_feat_cuisine()"
   ]
  },
  {
   "cell_type": "code",
   "execution_count": 42,
   "metadata": {},
   "outputs": [],
   "source": [
    "data_w.per_city_mean()"
   ]
  },
  {
   "cell_type": "code",
   "execution_count": 43,
   "metadata": {},
   "outputs": [],
   "source": [
    "data_w.new_feat_reviews()"
   ]
  },
  {
   "cell_type": "markdown",
   "metadata": {},
   "source": [
    "Согласно карте корреляций признак Ranking имеет обратную корреляцию с целевой переменной Rating. Значит, чем больше номер позиции ресторана в городе, тем меньше рейтинг. \n",
    "\n",
    "Предположим, что номер позиции Ranking прикрепляется к ресторану не навсегда, а меняется в зависимости от каких-то других факторов. Тогда ресторан может двигаться в некотором диапазоне Ranking в своем городе. \n",
    "Попробуем перевести признак Ranking в порядковую категориальную переменную разбив ее на 5 интервалов («Топовый», «высокий», «средний», «ниже среднего», «низкий»), где:\n",
    "- 5 - Топовый\n",
    "- ...\n",
    "- 1 - Низкий\n",
    "- 0 - Нет ранга\n",
    "\n",
    "- При этом 5<4<3<2<1 \n",
    "\n",
    "Однако, стоит учесть, что в маленьких городах ресторанов в принципе меньше, чем в больших. А значит, например интервал «высокого» ранга в маленьком городе будет отличаться от аналогичного ранга в больших городах. \n",
    "\n",
    "Поэтому данный признак должен быть собственный для каждой группы городов. В нашем случае таких групп – 3. \n"
   ]
  },
  {
   "cell_type": "code",
   "execution_count": 44,
   "metadata": {},
   "outputs": [],
   "source": [
    "data_w.new_feat_ranking()"
   ]
  },
  {
   "cell_type": "markdown",
   "metadata": {},
   "source": [
    "Создание dummy-переменных.\n",
    "Разложим признак City и признак Cuisine Style в колонки (да/нет)"
   ]
  },
  {
   "cell_type": "code",
   "execution_count": 45,
   "metadata": {},
   "outputs": [],
   "source": [
    "data = pd.get_dummies(data, columns=[ 'City',], dummy_na=False)"
   ]
  },
  {
   "cell_type": "code",
   "execution_count": 46,
   "metadata": {},
   "outputs": [],
   "source": [
    "mlb = MultiLabelBinarizer()\n",
    "data_cuisine = pd.DataFrame(mlb.fit_transform(data['Cuisine Style']), columns=mlb.classes_)\n",
    "data = pd.concat([data, data_cuisine], axis=1)\n"
   ]
  },
  {
   "cell_type": "code",
   "execution_count": 47,
   "metadata": {},
   "outputs": [
    {
     "name": "stdout",
     "output_type": "stream",
     "text": [
      "<class 'pandas.core.frame.DataFrame'>\n",
      "RangeIndex: 50000 entries, 0 to 49999\n",
      "Columns: 181 entries, Restaurant_id to Yunnan\n",
      "dtypes: category(1), datetime64[ns](2), float64(9), int64(131), object(7), uint8(31)\n",
      "memory usage: 58.4+ MB\n"
     ]
    }
   ],
   "source": [
    "data.info()"
   ]
  },
  {
   "cell_type": "markdown",
   "metadata": {},
   "source": [
    "#### Запускаем и проверяем что получилось"
   ]
  },
  {
   "cell_type": "code",
   "execution_count": 48,
   "metadata": {},
   "outputs": [],
   "source": [
    "#df_preproc = preproc_data(data)\n",
    "#df_preproc.sample(10)"
   ]
  },
  {
   "cell_type": "code",
   "execution_count": 49,
   "metadata": {},
   "outputs": [],
   "source": [
    "#df_preproc.info()"
   ]
  },
  {
   "cell_type": "code",
   "execution_count": 50,
   "metadata": {},
   "outputs": [],
   "source": [
    "data.drop(['Restaurant_id','ID_TA',], axis = 1, inplace=True)\n",
    "object_columns = [s for s in data.columns if data[s].dtypes == 'object']\n",
    "data.drop(object_columns, axis = 1, inplace=True)\n",
    "data.drop(['review_date_1', 'review_date_2'],axis=1, inplace=True)"
   ]
  },
  {
   "cell_type": "code",
   "execution_count": 51,
   "metadata": {},
   "outputs": [
    {
     "name": "stdout",
     "output_type": "stream",
     "text": [
      "<class 'pandas.core.frame.DataFrame'>\n",
      "RangeIndex: 50000 entries, 0 to 49999\n",
      "Columns: 172 entries, Ranking to Yunnan\n",
      "dtypes: category(1), float64(9), int64(131), uint8(31)\n",
      "memory usage: 54.9 MB\n"
     ]
    }
   ],
   "source": [
    "data.info()"
   ]
  },
  {
   "cell_type": "code",
   "execution_count": 52,
   "metadata": {},
   "outputs": [],
   "source": [
    "# Теперь выделим тестовую часть\n",
    "train_data = data.query('sample == 1').drop(['sample'], axis=1)\n",
    "test_data = data.query('sample == 0').drop(['sample'], axis=1)\n",
    "\n",
    "y = train_data.Rating.values            # наш таргет\n",
    "X = train_data.drop(['Rating'], axis=1)\n"
   ]
  },
  {
   "cell_type": "markdown",
   "metadata": {},
   "source": [
    "**Перед тем как отправлять наши данные на обучение, разделим данные на еще один тест и трейн, для валидации. \n",
    "Это поможет нам проверить, как хорошо наша модель работает, до отправки submissiona на kaggle.**"
   ]
  },
  {
   "cell_type": "code",
   "execution_count": 53,
   "metadata": {},
   "outputs": [],
   "source": [
    "# Воспользуемся специальной функцие train_test_split для разбивки тестовых данных\n",
    "# выделим 20% данных на валидацию (параметр test_size)\n",
    "X_train, X_test, y_train, y_test = train_test_split(X, y, test_size=0.2, random_state=RANDOM_SEED)"
   ]
  },
  {
   "cell_type": "code",
   "execution_count": 54,
   "metadata": {},
   "outputs": [
    {
     "data": {
      "text/plain": [
       "((10000, 171), (40000, 171), (40000, 170), (32000, 170), (8000, 170))"
      ]
     },
     "execution_count": 54,
     "metadata": {},
     "output_type": "execute_result"
    }
   ],
   "source": [
    "# проверяем\n",
    "test_data.shape, train_data.shape, X.shape, X_train.shape, X_test.shape"
   ]
  },
  {
   "cell_type": "markdown",
   "metadata": {},
   "source": [
    "# Model \n",
    "Сам ML"
   ]
  },
  {
   "cell_type": "code",
   "execution_count": 55,
   "metadata": {},
   "outputs": [],
   "source": [
    "# Импортируем необходимые библиотеки:\n",
    "from sklearn.ensemble import RandomForestRegressor # инструмент для создания и обучения модели\n",
    "from sklearn import metrics # инструменты для оценки точности модели"
   ]
  },
  {
   "cell_type": "code",
   "execution_count": 56,
   "metadata": {},
   "outputs": [],
   "source": [
    "# Создаём модель (НАСТРОЙКИ НЕ ТРОГАЕМ)\n",
    "model = RandomForestRegressor(n_estimators=100, verbose=1, n_jobs=-1, random_state=RANDOM_SEED)"
   ]
  },
  {
   "cell_type": "code",
   "execution_count": 57,
   "metadata": {},
   "outputs": [
    {
     "name": "stderr",
     "output_type": "stream",
     "text": [
      "[Parallel(n_jobs=-1)]: Using backend ThreadingBackend with 4 concurrent workers.\n",
      "[Parallel(n_jobs=-1)]: Done  42 tasks      | elapsed:    5.7s\n",
      "[Parallel(n_jobs=-1)]: Done 100 out of 100 | elapsed:   13.2s finished\n",
      "[Parallel(n_jobs=4)]: Using backend ThreadingBackend with 4 concurrent workers.\n",
      "[Parallel(n_jobs=4)]: Done  42 tasks      | elapsed:    0.0s\n",
      "[Parallel(n_jobs=4)]: Done 100 out of 100 | elapsed:    0.1s finished\n"
     ]
    }
   ],
   "source": [
    "# Обучаем модель на тестовом наборе данных\n",
    "model.fit(X_train, y_train)\n",
    "\n",
    "# Используем обученную модель для предсказания рейтинга ресторанов в тестовой выборке.\n",
    "# Предсказанные значения записываем в переменную y_pred\n",
    "y_pred = model.predict(X_test)"
   ]
  },
  {
   "cell_type": "code",
   "execution_count": 58,
   "metadata": {},
   "outputs": [],
   "source": [
    "def round_rating_pred(rating_pred):\n",
    "    if rating_pred <= 0.25:\n",
    "        return 0.0\n",
    "    if rating_pred <= 0.75:\n",
    "        return 0.5\n",
    "    if rating_pred <= 1.25:\n",
    "        return 1.0\n",
    "    if rating_pred <= 1.75:\n",
    "        return 1.5\n",
    "    if rating_pred <= 2.25:\n",
    "        return 2.0\n",
    "    if rating_pred <= 2.75:\n",
    "        return 2.5\n",
    "    if rating_pred <= 3.25:\n",
    "        return 3.0\n",
    "    if rating_pred <= 3.75:\n",
    "        return 3.5\n",
    "    if rating_pred <= 4.25:\n",
    "        return 4.0\n",
    "    if rating_pred <= 4.75:\n",
    "        return 4.5\n",
    "    return 5.0\n",
    "\n",
    "\n",
    "# Round it\n",
    "for i in range(len(y_pred)):\n",
    "    y_pred[i] = round_rating_pred(y_pred[i])"
   ]
  },
  {
   "cell_type": "code",
   "execution_count": 59,
   "metadata": {},
   "outputs": [
    {
     "name": "stdout",
     "output_type": "stream",
     "text": [
      "MAE: 0.179625\n"
     ]
    }
   ],
   "source": [
    "# Сравниваем предсказанные значения (y_pred) с реальными (y_test), и смотрим насколько они в среднем отличаются\n",
    "# Метрика называется Mean Absolute Error (MAE) и показывает среднее отклонение предсказанных значений от фактических.\n",
    "print('MAE:', metrics.mean_absolute_error(y_test, y_pred))"
   ]
  },
  {
   "cell_type": "code",
   "execution_count": 60,
   "metadata": {},
   "outputs": [
    {
     "data": {
      "text/plain": [
       "<matplotlib.axes._subplots.AxesSubplot at 0x7fefe3ecc550>"
      ]
     },
     "execution_count": 60,
     "metadata": {},
     "output_type": "execute_result"
    },
    {
     "data": {
      "image/png": "[encoded data removed]",
      "text/plain": [
       "<Figure size 720x720 with 1 Axes>"
      ]
     },
     "metadata": {
      "needs_background": "light"
     },
     "output_type": "display_data"
    }
   ],
   "source": [
    "# в RandomForestRegressor есть возможность вывести самые важные признаки для модели\n",
    "plt.rcParams['figure.figsize'] = (10,10)\n",
    "feat_importances = pd.Series(model.feature_importances_, index=X.columns)\n",
    "feat_importances.nlargest(15).plot(kind='barh')"
   ]
  },
  {
   "cell_type": "markdown",
   "metadata": {},
   "source": [
    "# Submission\n",
    "Если все устраевает - готовим Submission на кагл"
   ]
  },
  {
   "cell_type": "code",
   "execution_count": 61,
   "metadata": {},
   "outputs": [
    {
     "data": {
      "text/html": [
       "<div>\n",
       "<style scoped>\n",
       "    .dataframe tbody tr th:only-of-type {\n",
       "        vertical-align: middle;\n",
       "    }\n",
       "\n",
       "    .dataframe tbody tr th {\n",
       "        vertical-align: top;\n",
       "    }\n",
       "\n",
       "    .dataframe thead th {\n",
       "        text-align: right;\n",
       "    }\n",
       "</style>\n",
       "<table border=\"1\" class=\"dataframe\">\n",
       "  <thead>\n",
       "    <tr style=\"text-align: right;\">\n",
       "      <th></th>\n",
       "      <th>Ranking</th>\n",
       "      <th>Price Range</th>\n",
       "      <th>Number of Reviews</th>\n",
       "      <th>Rating</th>\n",
       "      <th>Pop</th>\n",
       "      <th>Restaurant_chain</th>\n",
       "      <th>Is_capital</th>\n",
       "      <th>Pop_cat</th>\n",
       "      <th>poly_cuisine</th>\n",
       "      <th>local_cuisine</th>\n",
       "      <th>...</th>\n",
       "      <th>Ukrainian</th>\n",
       "      <th>Uzbek</th>\n",
       "      <th>Vegan Options</th>\n",
       "      <th>Vegetarian Friendly</th>\n",
       "      <th>Venezuelan</th>\n",
       "      <th>Vietnamese</th>\n",
       "      <th>Welsh</th>\n",
       "      <th>Wine Bar</th>\n",
       "      <th>Xinjiang</th>\n",
       "      <th>Yunnan</th>\n",
       "    </tr>\n",
       "  </thead>\n",
       "  <tbody>\n",
       "    <tr>\n",
       "      <th>3376</th>\n",
       "      <td>2354.0</td>\n",
       "      <td>2</td>\n",
       "      <td>23.0</td>\n",
       "      <td>0.0</td>\n",
       "      <td>1664182</td>\n",
       "      <td>0.0</td>\n",
       "      <td>0</td>\n",
       "      <td>2</td>\n",
       "      <td>95</td>\n",
       "      <td>0</td>\n",
       "      <td>...</td>\n",
       "      <td>0</td>\n",
       "      <td>0</td>\n",
       "      <td>0</td>\n",
       "      <td>1</td>\n",
       "      <td>0</td>\n",
       "      <td>0</td>\n",
       "      <td>0</td>\n",
       "      <td>0</td>\n",
       "      <td>0</td>\n",
       "      <td>0</td>\n",
       "    </tr>\n",
       "    <tr>\n",
       "      <th>7960</th>\n",
       "      <td>3598.0</td>\n",
       "      <td>2</td>\n",
       "      <td>93.0</td>\n",
       "      <td>0.0</td>\n",
       "      <td>2148327</td>\n",
       "      <td>0.0</td>\n",
       "      <td>1</td>\n",
       "      <td>2</td>\n",
       "      <td>102</td>\n",
       "      <td>1</td>\n",
       "      <td>...</td>\n",
       "      <td>0</td>\n",
       "      <td>0</td>\n",
       "      <td>0</td>\n",
       "      <td>0</td>\n",
       "      <td>0</td>\n",
       "      <td>0</td>\n",
       "      <td>0</td>\n",
       "      <td>0</td>\n",
       "      <td>0</td>\n",
       "      <td>0</td>\n",
       "    </tr>\n",
       "    <tr>\n",
       "      <th>9599</th>\n",
       "      <td>481.0</td>\n",
       "      <td>2</td>\n",
       "      <td>245.0</td>\n",
       "      <td>0.0</td>\n",
       "      <td>1173179</td>\n",
       "      <td>1.0</td>\n",
       "      <td>1</td>\n",
       "      <td>1</td>\n",
       "      <td>71</td>\n",
       "      <td>0</td>\n",
       "      <td>...</td>\n",
       "      <td>0</td>\n",
       "      <td>0</td>\n",
       "      <td>1</td>\n",
       "      <td>1</td>\n",
       "      <td>0</td>\n",
       "      <td>0</td>\n",
       "      <td>0</td>\n",
       "      <td>0</td>\n",
       "      <td>0</td>\n",
       "      <td>0</td>\n",
       "    </tr>\n",
       "    <tr>\n",
       "      <th>5012</th>\n",
       "      <td>1579.0</td>\n",
       "      <td>2</td>\n",
       "      <td>572.0</td>\n",
       "      <td>0.0</td>\n",
       "      <td>2870500</td>\n",
       "      <td>0.0</td>\n",
       "      <td>1</td>\n",
       "      <td>3</td>\n",
       "      <td>80</td>\n",
       "      <td>0</td>\n",
       "      <td>...</td>\n",
       "      <td>0</td>\n",
       "      <td>0</td>\n",
       "      <td>0</td>\n",
       "      <td>0</td>\n",
       "      <td>0</td>\n",
       "      <td>0</td>\n",
       "      <td>0</td>\n",
       "      <td>0</td>\n",
       "      <td>0</td>\n",
       "      <td>0</td>\n",
       "    </tr>\n",
       "    <tr>\n",
       "      <th>1423</th>\n",
       "      <td>1220.0</td>\n",
       "      <td>2</td>\n",
       "      <td>159.0</td>\n",
       "      <td>0.0</td>\n",
       "      <td>3266126</td>\n",
       "      <td>1.0</td>\n",
       "      <td>1</td>\n",
       "      <td>3</td>\n",
       "      <td>93</td>\n",
       "      <td>0</td>\n",
       "      <td>...</td>\n",
       "      <td>0</td>\n",
       "      <td>0</td>\n",
       "      <td>1</td>\n",
       "      <td>1</td>\n",
       "      <td>0</td>\n",
       "      <td>1</td>\n",
       "      <td>0</td>\n",
       "      <td>0</td>\n",
       "      <td>0</td>\n",
       "      <td>0</td>\n",
       "    </tr>\n",
       "    <tr>\n",
       "      <th>9933</th>\n",
       "      <td>767.0</td>\n",
       "      <td>1</td>\n",
       "      <td>30.0</td>\n",
       "      <td>0.0</td>\n",
       "      <td>1752286</td>\n",
       "      <td>0.0</td>\n",
       "      <td>1</td>\n",
       "      <td>2</td>\n",
       "      <td>74</td>\n",
       "      <td>0</td>\n",
       "      <td>...</td>\n",
       "      <td>0</td>\n",
       "      <td>0</td>\n",
       "      <td>0</td>\n",
       "      <td>0</td>\n",
       "      <td>0</td>\n",
       "      <td>0</td>\n",
       "      <td>0</td>\n",
       "      <td>0</td>\n",
       "      <td>0</td>\n",
       "      <td>0</td>\n",
       "    </tr>\n",
       "    <tr>\n",
       "      <th>1538</th>\n",
       "      <td>7553.0</td>\n",
       "      <td>2</td>\n",
       "      <td>7.0</td>\n",
       "      <td>0.0</td>\n",
       "      <td>8908081</td>\n",
       "      <td>1.0</td>\n",
       "      <td>1</td>\n",
       "      <td>3</td>\n",
       "      <td>110</td>\n",
       "      <td>0</td>\n",
       "      <td>...</td>\n",
       "      <td>0</td>\n",
       "      <td>0</td>\n",
       "      <td>0</td>\n",
       "      <td>1</td>\n",
       "      <td>0</td>\n",
       "      <td>0</td>\n",
       "      <td>0</td>\n",
       "      <td>0</td>\n",
       "      <td>0</td>\n",
       "      <td>0</td>\n",
       "    </tr>\n",
       "    <tr>\n",
       "      <th>1989</th>\n",
       "      <td>923.0</td>\n",
       "      <td>2</td>\n",
       "      <td>17.0</td>\n",
       "      <td>0.0</td>\n",
       "      <td>1841179</td>\n",
       "      <td>1.0</td>\n",
       "      <td>0</td>\n",
       "      <td>2</td>\n",
       "      <td>75</td>\n",
       "      <td>0</td>\n",
       "      <td>...</td>\n",
       "      <td>0</td>\n",
       "      <td>0</td>\n",
       "      <td>0</td>\n",
       "      <td>1</td>\n",
       "      <td>0</td>\n",
       "      <td>0</td>\n",
       "      <td>0</td>\n",
       "      <td>0</td>\n",
       "      <td>0</td>\n",
       "      <td>0</td>\n",
       "    </tr>\n",
       "    <tr>\n",
       "      <th>2850</th>\n",
       "      <td>5823.0</td>\n",
       "      <td>2</td>\n",
       "      <td>4.0</td>\n",
       "      <td>0.0</td>\n",
       "      <td>3644826</td>\n",
       "      <td>1.0</td>\n",
       "      <td>1</td>\n",
       "      <td>3</td>\n",
       "      <td>98</td>\n",
       "      <td>0</td>\n",
       "      <td>...</td>\n",
       "      <td>0</td>\n",
       "      <td>0</td>\n",
       "      <td>0</td>\n",
       "      <td>0</td>\n",
       "      <td>0</td>\n",
       "      <td>0</td>\n",
       "      <td>0</td>\n",
       "      <td>0</td>\n",
       "      <td>0</td>\n",
       "      <td>0</td>\n",
       "    </tr>\n",
       "    <tr>\n",
       "      <th>8116</th>\n",
       "      <td>1211.0</td>\n",
       "      <td>2</td>\n",
       "      <td>48.0</td>\n",
       "      <td>0.0</td>\n",
       "      <td>506615</td>\n",
       "      <td>1.0</td>\n",
       "      <td>0</td>\n",
       "      <td>1</td>\n",
       "      <td>73</td>\n",
       "      <td>0</td>\n",
       "      <td>...</td>\n",
       "      <td>0</td>\n",
       "      <td>0</td>\n",
       "      <td>0</td>\n",
       "      <td>1</td>\n",
       "      <td>0</td>\n",
       "      <td>0</td>\n",
       "      <td>0</td>\n",
       "      <td>0</td>\n",
       "      <td>0</td>\n",
       "      <td>0</td>\n",
       "    </tr>\n",
       "  </tbody>\n",
       "</table>\n",
       "<p>10 rows × 171 columns</p>\n",
       "</div>"
      ],
      "text/plain": [
       "      Ranking  Price Range  Number of Reviews  Rating      Pop  \\\n",
       "3376   2354.0            2               23.0     0.0  1664182   \n",
       "7960   3598.0            2               93.0     0.0  2148327   \n",
       "9599    481.0            2              245.0     0.0  1173179   \n",
       "5012   1579.0            2              572.0     0.0  2870500   \n",
       "1423   1220.0            2              159.0     0.0  3266126   \n",
       "9933    767.0            1               30.0     0.0  1752286   \n",
       "1538   7553.0            2                7.0     0.0  8908081   \n",
       "1989    923.0            2               17.0     0.0  1841179   \n",
       "2850   5823.0            2                4.0     0.0  3644826   \n",
       "8116   1211.0            2               48.0     0.0   506615   \n",
       "\n",
       "      Restaurant_chain  Is_capital Pop_cat  poly_cuisine  local_cuisine  ...  \\\n",
       "3376               0.0           0       2            95              0  ...   \n",
       "7960               0.0           1       2           102              1  ...   \n",
       "9599               1.0           1       1            71              0  ...   \n",
       "5012               0.0           1       3            80              0  ...   \n",
       "1423               1.0           1       3            93              0  ...   \n",
       "9933               0.0           1       2            74              0  ...   \n",
       "1538               1.0           1       3           110              0  ...   \n",
       "1989               1.0           0       2            75              0  ...   \n",
       "2850               1.0           1       3            98              0  ...   \n",
       "8116               1.0           0       1            73              0  ...   \n",
       "\n",
       "      Ukrainian  Uzbek  Vegan Options  Vegetarian Friendly  Venezuelan  \\\n",
       "3376          0      0              0                    1           0   \n",
       "7960          0      0              0                    0           0   \n",
       "9599          0      0              1                    1           0   \n",
       "5012          0      0              0                    0           0   \n",
       "1423          0      0              1                    1           0   \n",
       "9933          0      0              0                    0           0   \n",
       "1538          0      0              0                    1           0   \n",
       "1989          0      0              0                    1           0   \n",
       "2850          0      0              0                    0           0   \n",
       "8116          0      0              0                    1           0   \n",
       "\n",
       "      Vietnamese  Welsh  Wine Bar  Xinjiang  Yunnan  \n",
       "3376           0      0         0         0       0  \n",
       "7960           0      0         0         0       0  \n",
       "9599           0      0         0         0       0  \n",
       "5012           0      0         0         0       0  \n",
       "1423           1      0         0         0       0  \n",
       "9933           0      0         0         0       0  \n",
       "1538           0      0         0         0       0  \n",
       "1989           0      0         0         0       0  \n",
       "2850           0      0         0         0       0  \n",
       "8116           0      0         0         0       0  \n",
       "\n",
       "[10 rows x 171 columns]"
      ]
     },
     "execution_count": 61,
     "metadata": {},
     "output_type": "execute_result"
    }
   ],
   "source": [
    "test_data.sample(10)"
   ]
  },
  {
   "cell_type": "code",
   "execution_count": 62,
   "metadata": {},
   "outputs": [],
   "source": [
    "test_data = test_data.drop(['Rating'], axis=1)"
   ]
  },
  {
   "cell_type": "code",
   "execution_count": 63,
   "metadata": {},
   "outputs": [
    {
     "data": {
      "text/html": [
       "<div>\n",
       "<style scoped>\n",
       "    .dataframe tbody tr th:only-of-type {\n",
       "        vertical-align: middle;\n",
       "    }\n",
       "\n",
       "    .dataframe tbody tr th {\n",
       "        vertical-align: top;\n",
       "    }\n",
       "\n",
       "    .dataframe thead th {\n",
       "        text-align: right;\n",
       "    }\n",
       "</style>\n",
       "<table border=\"1\" class=\"dataframe\">\n",
       "  <thead>\n",
       "    <tr style=\"text-align: right;\">\n",
       "      <th></th>\n",
       "      <th>Restaurant_id</th>\n",
       "      <th>Rating</th>\n",
       "    </tr>\n",
       "  </thead>\n",
       "  <tbody>\n",
       "    <tr>\n",
       "      <th>0</th>\n",
       "      <td>id_0</td>\n",
       "      <td>2.0</td>\n",
       "    </tr>\n",
       "    <tr>\n",
       "      <th>1</th>\n",
       "      <td>id_1</td>\n",
       "      <td>2.5</td>\n",
       "    </tr>\n",
       "    <tr>\n",
       "      <th>2</th>\n",
       "      <td>id_2</td>\n",
       "      <td>4.0</td>\n",
       "    </tr>\n",
       "    <tr>\n",
       "      <th>3</th>\n",
       "      <td>id_3</td>\n",
       "      <td>1.0</td>\n",
       "    </tr>\n",
       "    <tr>\n",
       "      <th>4</th>\n",
       "      <td>id_4</td>\n",
       "      <td>4.0</td>\n",
       "    </tr>\n",
       "    <tr>\n",
       "      <th>...</th>\n",
       "      <td>...</td>\n",
       "      <td>...</td>\n",
       "    </tr>\n",
       "    <tr>\n",
       "      <th>9995</th>\n",
       "      <td>id_9995</td>\n",
       "      <td>3.0</td>\n",
       "    </tr>\n",
       "    <tr>\n",
       "      <th>9996</th>\n",
       "      <td>id_9996</td>\n",
       "      <td>1.5</td>\n",
       "    </tr>\n",
       "    <tr>\n",
       "      <th>9997</th>\n",
       "      <td>id_9997</td>\n",
       "      <td>4.5</td>\n",
       "    </tr>\n",
       "    <tr>\n",
       "      <th>9998</th>\n",
       "      <td>id_9998</td>\n",
       "      <td>1.0</td>\n",
       "    </tr>\n",
       "    <tr>\n",
       "      <th>9999</th>\n",
       "      <td>id_9999</td>\n",
       "      <td>2.5</td>\n",
       "    </tr>\n",
       "  </tbody>\n",
       "</table>\n",
       "<p>10000 rows × 2 columns</p>\n",
       "</div>"
      ],
      "text/plain": [
       "     Restaurant_id  Rating\n",
       "0             id_0     2.0\n",
       "1             id_1     2.5\n",
       "2             id_2     4.0\n",
       "3             id_3     1.0\n",
       "4             id_4     4.0\n",
       "...            ...     ...\n",
       "9995       id_9995     3.0\n",
       "9996       id_9996     1.5\n",
       "9997       id_9997     4.5\n",
       "9998       id_9998     1.0\n",
       "9999       id_9999     2.5\n",
       "\n",
       "[10000 rows x 2 columns]"
      ]
     },
     "execution_count": 63,
     "metadata": {},
     "output_type": "execute_result"
    }
   ],
   "source": [
    "sample_submission"
   ]
  },
  {
   "cell_type": "code",
   "execution_count": 64,
   "metadata": {},
   "outputs": [
    {
     "name": "stderr",
     "output_type": "stream",
     "text": [
      "[Parallel(n_jobs=4)]: Using backend ThreadingBackend with 4 concurrent workers.\n",
      "[Parallel(n_jobs=4)]: Done  42 tasks      | elapsed:    0.1s\n",
      "[Parallel(n_jobs=4)]: Done 100 out of 100 | elapsed:    0.1s finished\n"
     ]
    }
   ],
   "source": [
    "predict_submission = model.predict(test_data)"
   ]
  },
  {
   "cell_type": "code",
   "execution_count": 65,
   "metadata": {},
   "outputs": [
    {
     "data": {
      "text/plain": [
       "array([3.02 , 4.225, 4.56 , ..., 3.   , 4.48 , 4.135])"
      ]
     },
     "execution_count": 65,
     "metadata": {},
     "output_type": "execute_result"
    }
   ],
   "source": [
    "predict_submission"
   ]
  },
  {
   "cell_type": "code",
   "execution_count": 66,
   "metadata": {},
   "outputs": [
    {
     "data": {
      "text/html": [
       "<div>\n",
       "<style scoped>\n",
       "    .dataframe tbody tr th:only-of-type {\n",
       "        vertical-align: middle;\n",
       "    }\n",
       "\n",
       "    .dataframe tbody tr th {\n",
       "        vertical-align: top;\n",
       "    }\n",
       "\n",
       "    .dataframe thead th {\n",
       "        text-align: right;\n",
       "    }\n",
       "</style>\n",
       "<table border=\"1\" class=\"dataframe\">\n",
       "  <thead>\n",
       "    <tr style=\"text-align: right;\">\n",
       "      <th></th>\n",
       "      <th>Restaurant_id</th>\n",
       "      <th>Rating</th>\n",
       "    </tr>\n",
       "  </thead>\n",
       "  <tbody>\n",
       "    <tr>\n",
       "      <th>0</th>\n",
       "      <td>id_0</td>\n",
       "      <td>3.020</td>\n",
       "    </tr>\n",
       "    <tr>\n",
       "      <th>1</th>\n",
       "      <td>id_1</td>\n",
       "      <td>4.225</td>\n",
       "    </tr>\n",
       "    <tr>\n",
       "      <th>2</th>\n",
       "      <td>id_2</td>\n",
       "      <td>4.560</td>\n",
       "    </tr>\n",
       "    <tr>\n",
       "      <th>3</th>\n",
       "      <td>id_3</td>\n",
       "      <td>4.345</td>\n",
       "    </tr>\n",
       "    <tr>\n",
       "      <th>4</th>\n",
       "      <td>id_4</td>\n",
       "      <td>4.495</td>\n",
       "    </tr>\n",
       "    <tr>\n",
       "      <th>5</th>\n",
       "      <td>id_5</td>\n",
       "      <td>4.430</td>\n",
       "    </tr>\n",
       "    <tr>\n",
       "      <th>6</th>\n",
       "      <td>id_6</td>\n",
       "      <td>1.375</td>\n",
       "    </tr>\n",
       "    <tr>\n",
       "      <th>7</th>\n",
       "      <td>id_7</td>\n",
       "      <td>2.700</td>\n",
       "    </tr>\n",
       "    <tr>\n",
       "      <th>8</th>\n",
       "      <td>id_8</td>\n",
       "      <td>4.295</td>\n",
       "    </tr>\n",
       "    <tr>\n",
       "      <th>9</th>\n",
       "      <td>id_9</td>\n",
       "      <td>4.685</td>\n",
       "    </tr>\n",
       "  </tbody>\n",
       "</table>\n",
       "</div>"
      ],
      "text/plain": [
       "  Restaurant_id  Rating\n",
       "0          id_0   3.020\n",
       "1          id_1   4.225\n",
       "2          id_2   4.560\n",
       "3          id_3   4.345\n",
       "4          id_4   4.495\n",
       "5          id_5   4.430\n",
       "6          id_6   1.375\n",
       "7          id_7   2.700\n",
       "8          id_8   4.295\n",
       "9          id_9   4.685"
      ]
     },
     "execution_count": 66,
     "metadata": {},
     "output_type": "execute_result"
    }
   ],
   "source": [
    "sample_submission['Rating'] = predict_submission\n",
    "sample_submission.to_csv('submission_1.csv', index=False)\n",
    "sample_submission.head(10)"
   ]
  },
  {
   "cell_type": "markdown",
   "metadata": {},
   "source": [
    "# What's next?\n",
    "Или что делать, чтоб улучшить результат:\n",
    "* Обработать оставшиеся признаки в понятный для машины формат\n",
    "* Посмотреть, что еще можно извлечь из признаков\n",
    "* Сгенерировать новые признаки\n",
    "* Подгрузить дополнительные данные, например: по населению или благосостоянию городов\n",
    "* Подобрать состав признаков\n",
    "\n",
    "В общем, процесс творческий и весьма увлекательный! Удачи в соревновании!\n"
   ]
  },
  {
   "cell_type": "code",
   "execution_count": null,
   "metadata": {},
   "outputs": [],
   "source": []
  }
 ],
 "metadata": {
  "kernelspec": {
   "display_name": "Python 3",
   "language": "python",
   "name": "python3"
  },
  "language_info": {
   "codemirror_mode": {
    "name": "ipython",
    "version": 3
   },
   "file_extension": ".py",
   "mimetype": "text/x-python",
   "name": "python",
   "nbconvert_exporter": "python",
   "pygments_lexer": "ipython3",
   "version": "3.6.6"
  }
 },
 "nbformat": 4,
 "nbformat_minor": 4
}
