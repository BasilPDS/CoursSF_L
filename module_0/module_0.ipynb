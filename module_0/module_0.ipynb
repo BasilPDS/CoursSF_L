{
 "cells": [
  {
   "cell_type": "code",
   "execution_count": 48,
   "metadata": {},
   "outputs": [
    {
     "name": "stdout",
     "output_type": "stream",
     "text": [
      "Ваш алгоритм угадывает число в среднем за 5 попыток\n"
     ]
    },
    {
     "data": {
      "text/plain": [
       "5"
      ]
     },
     "execution_count": 48,
     "metadata": {},
     "output_type": "execute_result"
    }
   ],
   "source": [
    "import numpy as np\n",
    "        \n",
    "def game_core_v3(number):\n",
    "    \"\"\"Программа устанавливает случайное число (predict) в диапазоне от 1 до 100.\n",
    "    \n",
    "       Сравнивает его с аргументом функции (number) и возвращает \n",
    "       \n",
    "       колличество попыток (count), потрачных для сравнения. \n",
    "       \n",
    "    \"\"\"\n",
    "    count = 1\n",
    "    predict = np.random.randint(1,101)\n",
    "           \n",
    "    while number != predict:\n",
    "        count += 1\n",
    "        if number > predict:\n",
    "            predict = ((number + predict) // 2) + 1\n",
    "        else:\n",
    "            predict = ((predict - number) // 2) + 1\n",
    "    \n",
    "    return(count) \n",
    "\n",
    "\n",
    "def score_game(game_core):\n",
    "    \"\"\"Программа генерирует список случайных чисел (random_array)\n",
    "    \n",
    "       и считает среднее количесвто попыток, потраченых на угадывание \n",
    "    \n",
    "       каждого числа из списка.\n",
    "    \n",
    "    \"\"\"\n",
    "    count_ls = []\n",
    "    np.random.seed(1)  # Фиксируем RANDOM SEED.\n",
    "    random_array = np.random.randint(1,101, size=(1000)) # Параметр size - размер массива.\n",
    "    \n",
    "    for number in random_array:\n",
    "        count_ls.append(game_core(number))\n",
    "        \n",
    "    score = int(np.mean(count_ls))\n",
    "    print(f\"Ваш алгоритм угадывает число в среднем за {score} попыток\")\n",
    "        \n",
    "    return(score)\n",
    "\n",
    "score_game(game_core_v3)\n"
   ]
  }
 ],
 "metadata": {
  "kernelspec": {
   "display_name": "Python 3",
   "language": "python",
   "name": "python3"
  },
  "language_info": {
   "codemirror_mode": {
    "name": "ipython",
    "version": 3
   },
   "file_extension": ".py",
   "mimetype": "text/x-python",
   "name": "python",
   "nbconvert_exporter": "python",
   "pygments_lexer": "ipython3",
   "version": "3.8.3"
  }
 },
 "nbformat": 4,
 "nbformat_minor": 4
}
